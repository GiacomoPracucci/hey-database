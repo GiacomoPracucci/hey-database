{
 "cells": [
  {
   "cell_type": "code",
   "execution_count": 1,
   "metadata": {},
   "outputs": [],
   "source": [
    "import os\n",
    "from dotenv import load_dotenv\n",
    "load_dotenv()\n",
    "\n",
    "from src.config.models import DatabaseConfig, LLMConfig, PromptConfig\n",
    "\n",
    "db_config = DatabaseConfig(\n",
    "    type=\"postgres\",\n",
    "    host=\"localhost\",\n",
    "    port=\"5432\",\n",
    "    database=\"postgres\",\n",
    "    user=\"postgres\",\n",
    "    password=os.getenv(\"POSTGRES_PWD\"),\n",
    "    schema=\"video_games\"\n",
    ")"
   ]
  },
  {
   "cell_type": "code",
   "execution_count": 2,
   "metadata": {},
   "outputs": [
    {
     "data": {
      "text/plain": [
       "True"
      ]
     },
     "execution_count": 2,
     "metadata": {},
     "output_type": "execute_result"
    }
   ],
   "source": [
    "from src.connettori.postgres import PostgresManager\n",
    "\n",
    "db = PostgresManager(\n",
    "    host=db_config.host,\n",
    "    port=db_config.port,\n",
    "    database=db_config.database,\n",
    "    user=db_config.user,\n",
    "    password=db_config.password\n",
    ")\n",
    "db.connect()"
   ]
  },
  {
   "cell_type": "code",
   "execution_count": 3,
   "metadata": {},
   "outputs": [
    {
     "name": "stdout",
     "output_type": "stream",
     "text": [
      "CREATE TABLE genre (id integer NOT NULL, genre_name character varying(50));\n"
     ]
    }
   ],
   "source": [
    "from src.dbcontext.postgres_metadata_retriever import PostgresMetadataRetriever\n",
    "\n",
    "metadata_retriever = PostgresMetadataRetriever(db.engine, schema=db_config.schema)\n",
    "\n",
    "print(metadata_retriever.get_table_definition(\"genre\"))"
   ]
  },
  {
   "cell_type": "code",
   "execution_count": 4,
   "metadata": {},
   "outputs": [],
   "source": [
    "from src.llm_handler.ollama_handler import OllamaHandler\n",
    "\n",
    "llm = OllamaHandler(\n",
    "    base_url=\"http://localhost:11434\",\n",
    "    model=\"llama3.1\"\n",
    ")"
   ]
  },
  {
   "cell_type": "code",
   "execution_count": 5,
   "metadata": {},
   "outputs": [],
   "source": [
    "from src.llm_input.prompt_generator import PromptGenerator\n",
    "\n",
    "prompt_config = PromptConfig(include_sample_data=True, max_sample_rows=3)\n",
    "prompt_generator = PromptGenerator(\n",
    "    metadata_retriever=metadata_retriever,\n",
    "    schema_name=db_config.schema,\n",
    "    prompt_config=prompt_config\n",
    ")"
   ]
  },
  {
   "cell_type": "code",
   "execution_count": 6,
   "metadata": {},
   "outputs": [
    {
     "name": "stdout",
     "output_type": "stream",
     "text": [
      "Errore nella richiesta API: HTTPConnectionPool(host='localhost', port=11434): Max retries exceeded with url: /api/generate (Caused by NewConnectionError('<urllib3.connection.HTTPConnection object at 0x000001F6A6D8B1C0>: Failed to establish a new connection: [WinError 10061] Impossibile stabilire la connessione. Rifiuto persistente del computer di destinazione'))\n"
     ]
    }
   ],
   "source": [
    "user_question = \"Mostrami i primi 5 giochi del database\"\n",
    "prompt = prompt_generator.generate_prompt(user_question)\n",
    "response = llm.get_completion(prompt)"
   ]
  },
  {
   "cell_type": "code",
   "execution_count": null,
   "metadata": {},
   "outputs": [],
   "source": []
  },
  {
   "cell_type": "code",
   "execution_count": null,
   "metadata": {},
   "outputs": [],
   "source": [
    "from src.llm_output.response_handler import ResponseHandler\n",
    "response_handler = ResponseHandler(db, db_config.schema)\n",
    "results = response_handler.process_response(response)\n",
    "\n",
    "if results[\"success\"]:\n",
    "    print(\"Query SQL:\", results[\"query\"])\n",
    "    print(\"\\nSpiegazione:\", results[\"explanation\"])\n",
    "    print(\"\\nRisultati:\", results[\"results\"])"
   ]
  }
 ],
 "metadata": {
  "kernelspec": {
   "display_name": "nl2sql",
   "language": "python",
   "name": "python3"
  },
  "language_info": {
   "codemirror_mode": {
    "name": "ipython",
    "version": 3
   },
   "file_extension": ".py",
   "mimetype": "text/x-python",
   "name": "python",
   "nbconvert_exporter": "python",
   "pygments_lexer": "ipython3",
   "version": "3.10.15"
  }
 },
 "nbformat": 4,
 "nbformat_minor": 2
}
