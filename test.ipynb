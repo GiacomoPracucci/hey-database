{
 "cells": [
  {
   "cell_type": "markdown",
   "metadata": {},
   "source": [
    "## Connettore"
   ]
  },
  {
   "metadata": {
    "ExecuteTime": {
     "end_time": "2024-10-28T09:22:35.044739Z",
     "start_time": "2024-10-28T09:22:35.038002Z"
    }
   },
   "cell_type": "code",
   "source": [
    "from dotenv import load_dotenv\n",
    "import os\n",
    "load_dotenv()"
   ],
   "outputs": [
    {
     "name": "stdout",
     "output_type": "stream",
     "text": [
      "admin\n"
     ]
    }
   ],
   "execution_count": 2
  },
  {
   "cell_type": "code",
   "metadata": {
    "ExecuteTime": {
     "end_time": "2024-10-28T09:22:50.518290Z",
     "start_time": "2024-10-28T09:22:49.397312Z"
    }
   },
   "source": [
    "from src.connettori.db_manager import DatabaseManager\n",
    "\n",
    "db = DatabaseManager(\n",
    "    host=\"localhost\",\n",
    "    port=\"5432\",\n",
    "    database=\"postgres\",\n",
    "    user=\"postgres\",\n",
    "    password=os.getenv(\"DB_PWD\")\n",
    ")"
   ],
   "outputs": [],
   "execution_count": 3
  },
  {
   "cell_type": "code",
   "metadata": {
    "ExecuteTime": {
     "end_time": "2024-10-28T09:22:52.029262Z",
     "start_time": "2024-10-28T09:22:51.753757Z"
    }
   },
   "source": [
    "if db.connect():\n",
    "    query = \"SELECT * FROM video_games.game LIMIT 5;\"\n",
    "    df = db.execute_query(query)\n",
    "    \n",
    "    if df is not None:\n",
    "        print(df.head())\n",
    "    \n",
    "    db.close()"
   ],
   "outputs": [
    {
     "name": "stdout",
     "output_type": "stream",
     "text": [
      "   id  genre_id                                game_name\n",
      "0   1        11                              '98 Koshien\n",
      "1   2         8               .hack//G.U. Vol.1//Rebirth\n",
      "2   3         8             .hack//G.U. Vol.2//Reminisce\n",
      "3   4         8  .hack//G.U. Vol.2//Reminisce (jp sales)\n",
      "4   5         8            .hack//G.U. Vol.3//Redemption\n"
     ]
    }
   ],
   "execution_count": 4
  },
  {
   "cell_type": "markdown",
   "metadata": {},
   "source": [
    "## OpenAI"
   ]
  },
  {
   "cell_type": "code",
   "metadata": {
    "ExecuteTime": {
     "end_time": "2024-10-28T09:23:12.638365Z",
     "start_time": "2024-10-28T09:23:11.367913Z"
    }
   },
   "source": [
    "from src.openAI.openai_handler import OpenAIManager\n",
    "\n",
    "openai_manager = OpenAIManager(\n",
    "    api_key=os.getenv(\"OPENAI_API_KEY\"),\n",
    "    embedding_model=\"text-embedding-3-large\",\n",
    "    chat_model=\"gpt-4o\"\n",
    ")"
   ],
   "outputs": [],
   "execution_count": 5
  },
  {
   "cell_type": "code",
   "metadata": {
    "ExecuteTime": {
     "end_time": "2024-10-28T09:23:15.878147Z",
     "start_time": "2024-10-28T09:23:14.695236Z"
    }
   },
   "source": [
    "text = \"Questo è un esempio di testo\"\n",
    "embedding = openai_manager.get_embedding(text)"
   ],
   "outputs": [],
   "execution_count": 6
  },
  {
   "metadata": {
    "ExecuteTime": {
     "end_time": "2024-10-28T09:23:26.001472Z",
     "start_time": "2024-10-28T09:23:25.982381Z"
    }
   },
   "cell_type": "code",
   "source": [
    "prompt = \"Qual è la capitale dell'Italia?\"\n",
    "response = openai_manager.get_completion(prompt)\n",
    "response"
   ],
   "outputs": [
    {
     "data": {
      "text/plain": [
       "\"La capitale dell'Italia è Roma.\""
      ]
     },
     "execution_count": 8,
     "metadata": {},
     "output_type": "execute_result"
    }
   ],
   "execution_count": 8
  },
  {
   "cell_type": "code",
   "execution_count": null,
   "metadata": {},
   "outputs": [],
   "source": [
    "texts = [\"testo 1\", \"testo 2\", \"testo 3\"]\n",
    "embeddings = openai_manager.get_embeddings_batch(texts)"
   ]
  },
  {
   "cell_type": "code",
   "metadata": {
    "ExecuteTime": {
     "end_time": "2024-10-28T09:23:55.193280Z",
     "start_time": "2024-10-28T09:23:39.175547Z"
    }
   },
   "source": [
    "for chunk in openai_manager.get_chat_stream(\"Raccontami una storia\"):\n",
    "    print(chunk, end='', flush=True)"
   ],
   "outputs": [
    {
     "name": "stdout",
     "output_type": "stream",
     "text": [
      "C'era una volta un piccolo villaggio nascosto tra le colline verdeggianti di un'antica valle. Questo villaggio era unico nel suo genere, poiché era abitato da persone che possedevano un dono speciale: ognuno di loro aveva la capacità di comunicare con la natura. Gli abitanti del villaggio parlavano con gli alberi, ascoltavano le storie dei venti e comprendevano i segreti dei fiumi.\n",
      "\n",
      "Tra tutti gli abitanti, c'era una giovane ragazza di nome Lila. Lila aveva una connessione particolarmente forte con la natura, tanto che spesso trascorreva le sue giornate nel bosco, conversando con gli animali e giocando con le foglie che danzavano al ritmo della brezza.\n",
      "\n",
      "Un giorno, mentre esplorava una parte del bosco che non aveva mai visitato prima, Lila trovò un'antica quercia con una cavità nel tronco, all'interno della quale brillava una luce dorata. Avvicinandosi, Lila sentì una voce gentile che le parlava: era lo spirito del bosco, che le raccontò di un grande pericolo che minacciava l'equilibrio della natura. Una tempesta magica stava per abbattersi sulla valle, portata da una strega malvagia che voleva impadronirsi del potere che permeava quella terra.\n",
      "\n",
      "Lo spirito del bosco spiegò a Lila che solo una persona con un cuore puro e un legame profondo con la natura avrebbe potuto fermare la strega. Lila accettò la sfida con coraggio, sapendo che avrebbe potuto contare sull'aiuto di tutti gli esseri del bosco.\n",
      "\n",
      "Con l'aiuto dei suoi amici animali, Lila iniziò un viaggio per trovare gli antichi artefatti del potere naturale, nascosti nei luoghi più remoti della valle. Ogni artefatto rappresentava un elemento della natura: il fuoco, l'acqua, la terra e l'aria. Durante il suo viaggio, Lila superò molte prove, dimostrando la sua dedizione e il suo amore per il mondo naturale.\n",
      "\n",
      "Quando infine raccolse tutti gli artefatti, Lila tornò alla grande quercia. Qui, con l'aiuto degli spiriti del bosco e dei suoi amici animali, riuscì a evocare una barriera di energia protettiva intorno alla valle. Quando la strega arrivò con la sua tempesta, scoprì che non poteva oltrepassare la barriera. La sua magia si infranse contro la forza della natura e, alla fine, fu costretta a ritirarsi.\n",
      "\n",
      "Il villaggio fu salvo, e gli abitanti celebrarono Lila come un'eroina. Ma Lila, con il suo cuore umile, sapeva che era stata la collaborazione tra lei e la natura a trionfare. Da quel giorno, l'equilibrio della valle fu preservato, e Lila continuò a vivere in armonia con il mondo che tanto amava.\n",
      "\n",
      "E così, in quel piccolo villaggio tra le colline, la leggenda di Lila e della tempesta magica fu tramandata di generazione in generazione, ispirando tutti coloro che ascoltavano la storia a rispettare e proteggere la natura."
     ]
    }
   ],
   "execution_count": 9
  },
  {
   "cell_type": "markdown",
   "metadata": {},
   "source": [
    "## OLLAMA"
   ]
  },
  {
   "cell_type": "code",
   "execution_count": 1,
   "metadata": {},
   "outputs": [],
   "source": [
    "from src.ollama_.ollama_manager import OllamaManager\n",
    "\n",
    "ollama_manager = OllamaManager(\n",
    "    base_url=\"http://localhost:11434\",\n",
    "    model=\"llama3.2\"\n",
    ")"
   ]
  },
  {
   "cell_type": "code",
   "execution_count": 2,
   "metadata": {},
   "outputs": [
    {
     "name": "stdout",
     "output_type": "stream",
     "text": [
      "La capitale dell'Italia è Roma.\n"
     ]
    }
   ],
   "source": [
    "# Ottenere una risposta semplice\n",
    "response = ollama_manager.get_completion(\n",
    "    prompt=\"Qual è la capitale dell'Italia?\",\n",
    "    temperature=0.2\n",
    ")\n",
    "print(response)"
   ]
  },
  {
   "cell_type": "code",
   "execution_count": 3,
   "metadata": {},
   "outputs": [
    {
     "name": "stdout",
     "output_type": "stream",
     "text": [
      "Era una notte buia e fredda, e la luna era nascosta dietro le nuvole. Una giovane donna di nome Sofia si trovava a piedi in un bosco silenzioso, circondata da alberi alti e oscuri che sembravano estendere le loro braccia come giganti.\n",
      "\n",
      "Sofia era una ragazza con un cuore pieno di speranza e un'anima piena di curiosità. Era sempre stata attratta dal mistero del bosco, che sembrava nascondere segreti e storie ancora non scoperte.\n",
      "\n",
      "Mentre camminava, la sua mente cominciò a vagare tra i pensieri più vari. Pensava alla sua vita, alle sue amicizie, ai suoi sogni. Ma il suo spirito era sempre pronto ad esplorare nuovi orizzonti e a scoprire nuove verità.\n",
      "\n",
      "Improvvisamente, Sofia sentì un rumore strano provenire da una direzione lontana. Si fermò e ascoltò attentamente, ma non riusciva a capire cosa fosse. Il rumore sembrava venire da una piccola cabina di legno che si trovava ai margini del bosco.\n",
      "\n",
      "Sofia si avvicinò alla cabina con cautela, sentendo il cuore battere forte nel petto. La cabina era piccola e semplice, ma c'era qualcosa di strano nella sua presenza. C'era un fuoco acceso all'interno, che sembrava danzare come una fiamma vivente.\n",
      "\n",
      "Sofia si avvicinò al fuoco e vide una figura seduta in mezzo a esso. Era una donna anziana con gli occhi verdi e la pelle grigia. La donna sembrava aspettare Sofia, e quando la giovane donna si avvicinò, la donna sorrise e disse:\n",
      "\n",
      "\"Benvenuta, Sofia. Sono qui per dirti qualcosa di importante.\"\n",
      "\n",
      "Sofia si sedette accanto alla donna e ascoltò attentamente le sue parole. La donna raccontò una storia di amore, perdita e rinascita, che sembrava essere stata scritta nel cuore della natura stessa.\n",
      "\n",
      "La storia era così bella e così vera che Sofia sentì il suo spirito prendere vita. Sentì la sua anima scoprire nuove verità sulla vita e sull'universo. E quando la donna finì di parlare, Sofia sapeva che la sua vita sarebbe cambiata per sempre.\n",
      "\n",
      "La cabina si era scurita, ma Sofia non sentiva più il buio. Sentiva solo la luce della sua anima, che sembrava illuminare il mondo intorno a lei. E quando uscì dal bosco, Sofia sapeva che avrebbe sempre portato con sé la storia raccontata dalla donna anziana, e che sarebbe stata cambiata per sempre.\n",
      "\n",
      "E così, Sofia continuò il suo cammino, ma non più solo. Aveva scoperto un nuovo mondo all'interno di se stessa, e sapeva che avrebbe sempre potuto tornare a quella cabina per ricordare la storia della donna anziana e la sua propria anima illuminata."
     ]
    }
   ],
   "source": [
    "# Utilizzare lo streaming\n",
    "for chunk in ollama_manager.get_completion(\n",
    "    prompt=\"Raccontami una storia\",\n",
    "    stream=True\n",
    "):\n",
    "    print(chunk, end='', flush=True)"
   ]
  },
  {
   "cell_type": "code",
   "execution_count": 4,
   "metadata": {},
   "outputs": [
    {
     "name": "stdout",
     "output_type": "stream",
     "text": [
      "Modelli disponibili: [{'name': 'llama3.2:latest', 'model': 'llama3.2:latest', 'modified_at': '2024-10-26T14:04:45.5231945+02:00', 'size': 2019393189, 'digest': 'a80c4f17acd55265feec403c7aef86be0c25983ab279d83f3bcd3abbcb5b8b72', 'details': {'parent_model': '', 'format': 'gguf', 'family': 'llama', 'families': ['llama'], 'parameter_size': '3.2B', 'quantization_level': 'Q4_K_M'}}]\n"
     ]
    }
   ],
   "source": [
    "# Vedere i modelli disponibili\n",
    "models = ollama_manager.list_models()\n",
    "print(\"Modelli disponibili:\", models)"
   ]
  },
  {
   "cell_type": "code",
   "execution_count": null,
   "metadata": {},
   "outputs": [],
   "source": [
    "# Scaricare un nuovo modello\n",
    "success = ollama_manager.pull_model(\"mistral\")\n",
    "if success:\n",
    "    print(\"Modello scaricato con successo\")\n",
    "\n",
    "# Cambiare modello\n",
    "ollama_manager.set_model(\"mistral\")\n",
    "\n",
    "# Ottenere informazioni sul modello\n",
    "model_info = ollama_manager.get_model_info()\n",
    "print(\"Informazioni sul modello:\", model_info)"
   ]
  },
  {
   "cell_type": "markdown",
   "metadata": {},
   "source": [
    "## Flow di tutto"
   ]
  },
  {
   "cell_type": "code",
   "execution_count": 1,
   "metadata": {},
   "outputs": [
    {
     "name": "stdout",
     "output_type": "stream",
     "text": [
      "Cercando tabelle nello schema: video_games\n",
      "Tabelle trovate: ['genre', 'publisher', 'platform', 'region', 'game', 'game_publisher', 'game_platform', 'region_sales']\n",
      "\n",
      "Processando tabella: genre\n",
      "Tabella genre processata con successo\n",
      "\n",
      "Processando tabella: publisher\n",
      "Tabella publisher processata con successo\n",
      "\n",
      "Processando tabella: platform\n",
      "Tabella platform processata con successo\n",
      "\n",
      "Processando tabella: region\n",
      "Tabella region processata con successo\n",
      "\n",
      "Processando tabella: game\n",
      "Tabella game processata con successo\n",
      "\n",
      "Processando tabella: game_publisher\n",
      "Tabella game_publisher processata con successo\n",
      "\n",
      "Processando tabella: game_platform\n",
      "Tabella game_platform processata con successo\n",
      "\n",
      "Processando tabella: region_sales\n",
      "Tabella region_sales processata con successo\n"
     ]
    }
   ],
   "source": [
    "from src.dbcontext.schema_context_manager import SchemaContextManager\n",
    "from src.connettori.db_manager import DatabaseManager\n",
    "from src.prompt.prompt_manager import PromptManager\n",
    "from src.ollama_.ollama_manager import OllamaManager\n",
    "\n",
    "ollama_manager = OllamaManager(\n",
    "    base_url=\"http://localhost:11434\",\n",
    "    model=\"llama3.1\"\n",
    ")\n",
    "\n",
    "db = DatabaseManager(\n",
    "    host=\"localhost\",\n",
    "    port=\"5432\",\n",
    "    database=\"postgres\",\n",
    "    user=\"postgres\",\n",
    "    password=\"admin\"\n",
    ")\n",
    "\n",
    "db.connect()\n",
    "\n",
    "schema_manager = SchemaContextManager(db.engine, schema =\"video_games\")\n",
    "prompt_manager = PromptManager(schema_manager, db)"
   ]
  },
  {
   "cell_type": "code",
   "execution_count": 9,
   "metadata": {},
   "outputs": [
    {
     "name": "stdout",
     "output_type": "stream",
     "text": [
      "You are an SQL expert who helps convert natural language queries into SQL queries.\n",
      "        Your task is:\n",
      "        1. Generate a valid SQL query that answers the user's question\n",
      "        2. Provide a brief explanation of the results\n",
      "        \n",
      "        Response format:\n",
      "        ```sql\n",
      "        -- Your SQL query here\n",
      "        ```\n",
      "        Always insert schema name before the tables in sql query. The schema name is \"video_games\"\n",
      "        Explanation: [Brief explanation of the query and expected results].\n",
      "        \n",
      "\n",
      "Schema del Database:\n",
      "\n",
      "Tabella: genre (12 righe)\n",
      "Colonne:\n",
      "- id (INTEGER) NOT NULL\n",
      "- genre_name (VARCHAR(50)) NULL\n",
      "Chiavi Primarie: id\n",
      "\n",
      "Tabella: publisher (577 righe)\n",
      "Colonne:\n",
      "- id (INTEGER) NOT NULL\n",
      "- publisher_name (VARCHAR(100)) NULL\n",
      "Chiavi Primarie: id\n",
      "\n",
      "Tabella: platform (31 righe)\n",
      "Colonne:\n",
      "- id (INTEGER) NOT NULL\n",
      "- platform_name (VARCHAR(50)) NULL\n",
      "Chiavi Primarie: id\n",
      "\n",
      "Tabella: region (4 righe)\n",
      "Colonne:\n",
      "- id (INTEGER) NOT NULL\n",
      "- region_name (VARCHAR(50)) NULL\n",
      "Chiavi Primarie: id\n",
      "\n",
      "Tabella: game (11360 righe)\n",
      "Colonne:\n",
      "- id (INTEGER) NOT NULL\n",
      "- genre_id (INTEGER) NULL\n",
      "- game_name (VARCHAR(200)) NULL\n",
      "Chiavi Primarie: id\n",
      "Foreign Keys:\n",
      "- genre_id -> genre(id)\n",
      "\n",
      "Tabella: game_publisher (11732 righe)\n",
      "Colonne:\n",
      "- id (INTEGER) NOT NULL\n",
      "- game_id (INTEGER) NULL\n",
      "- publisher_id (INTEGER) NULL\n",
      "Chiavi Primarie: id\n",
      "Foreign Keys:\n",
      "- game_id -> game(id)\n",
      "- publisher_id -> publisher(id)\n",
      "\n",
      "Tabella: game_platform (16326 righe)\n",
      "Colonne:\n",
      "- id (INTEGER) NOT NULL\n",
      "- game_publisher_id (INTEGER) NULL\n",
      "- platform_id (INTEGER) NULL\n",
      "- release_year (INTEGER) NULL\n",
      "Chiavi Primarie: id\n",
      "Foreign Keys:\n",
      "- game_publisher_id -> game_publisher(id)\n",
      "- platform_id -> platform(id)\n",
      "\n",
      "Tabella: region_sales (65320 righe)\n",
      "Colonne:\n",
      "- region_id (INTEGER) NULL\n",
      "- game_platform_id (INTEGER) NULL\n",
      "- num_sales (NUMERIC(5, 2)) NULL\n",
      "Foreign Keys:\n",
      "- game_platform_id -> game_platform(id)\n",
      "- region_id -> region(id)\n",
      "\n",
      "\n",
      "Esempi di Dati:\n",
      "\n",
      "genre (primi 3 record):\n",
      "{'id': 1, 'genre_name': 'Action'}\n",
      "{'id': 2, 'genre_name': 'Adventure'}\n",
      "{'id': 3, 'genre_name': 'Fighting'}\n",
      "\n",
      "publisher (primi 3 record):\n",
      "{'id': 1, 'publisher_name': '10TACLE Studios'}\n",
      "{'id': 2, 'publisher_name': '1C Company'}\n",
      "{'id': 3, 'publisher_name': '20th Century Fox Video Games'}\n",
      "\n",
      "platform (primi 3 record):\n",
      "{'id': 1, 'platform_name': 'Wii'}\n",
      "{'id': 2, 'platform_name': 'NES'}\n",
      "{'id': 3, 'platform_name': 'GB'}\n",
      "\n",
      "region (primi 3 record):\n",
      "{'id': 1, 'region_name': 'North America'}\n",
      "{'id': 2, 'region_name': 'Europe'}\n",
      "{'id': 3, 'region_name': 'Japan'}\n",
      "\n",
      "game (primi 3 record):\n",
      "{'id': 1, 'genre_id': 11, 'game_name': \"'98 Koshien\"}\n",
      "{'id': 2, 'genre_id': 8, 'game_name': '.hack//G.U. Vol.1//Rebirth'}\n",
      "{'id': 3, 'genre_id': 8, 'game_name': '.hack//G.U. Vol.2//Reminisce'}\n",
      "\n",
      "game_publisher (primi 3 record):\n",
      "{'id': 1, 'game_id': 10866, 'publisher_id': 369}\n",
      "{'id': 2, 'game_id': 9244, 'publisher_id': 369}\n",
      "{'id': 3, 'game_id': 5464, 'publisher_id': 369}\n",
      "\n",
      "game_platform (primi 3 record):\n",
      "{'id': 1, 'game_publisher_id': 8564, 'platform_id': 4, 'release_year': 2007}\n",
      "{'id': 2, 'game_publisher_id': 9852, 'platform_id': 4, 'release_year': 2007}\n",
      "{'id': 3, 'game_publisher_id': 11063, 'platform_id': 7, 'release_year': 2006}\n",
      "\n",
      "region_sales (primi 3 record):\n",
      "{'region_id': 1, 'game_platform_id': 50, 'num_sales': Decimal('3.50')}\n",
      "{'region_id': 1, 'game_platform_id': 51, 'num_sales': Decimal('1.43')}\n",
      "{'region_id': 1, 'game_platform_id': 52, 'num_sales': Decimal('0.51')}\n",
      "\n",
      "\n",
      "DOMANDA DELL'UTENTE:\n",
      "\n",
      "mostrami dati a tuo piacere dalla tabella 'game', mettendo una limit 5 e insrendo la query SQL tra ```sql ``` come richiesto\n"
     ]
    }
   ],
   "source": [
    "# Utilizzo\n",
    "question = \"mostrami dati a tuo piacere dalla tabella 'game', mettendo una limit 5 e insrendo la query SQL tra ```sql ``` come richiesto\"\n",
    "prompt = prompt_manager.generate_prompt(question)\n",
    "print(prompt)"
   ]
  },
  {
   "cell_type": "code",
   "execution_count": 10,
   "metadata": {},
   "outputs": [
    {
     "name": "stdout",
     "output_type": "stream",
     "text": [
      "\n",
      "Query SQL generata:\n",
      "-- SELECT * FROM video_games.game LIMIT 5;\n",
      "SELECT id, genre_id, game_name \n",
      "FROM video_games.game \n",
      "LIMIT 5;\n",
      "\n",
      "Spiegazione:\n",
      "\n",
      "\n",
      "Anteprima risultati:\n",
      "   id  genre_id                                game_name\n",
      "0   1        11                              '98 Koshien\n",
      "1   2         8               .hack//G.U. Vol.1//Rebirth\n",
      "2   3         8             .hack//G.U. Vol.2//Reminisce\n",
      "3   4         8  .hack//G.U. Vol.2//Reminisce (jp sales)\n",
      "4   5         8            .hack//G.U. Vol.3//Redemption\n"
     ]
    }
   ],
   "source": [
    "# Ottieni la risposta dal modello (usando OpenAI o Ollama)\n",
    "llm_response = ollama_manager.get_completion(prompt)\n",
    "results = prompt_manager.process_query(llm_response)\n",
    "\n",
    "if results[\"success\"]:\n",
    "    print(\"\\nQuery SQL generata:\")\n",
    "    print(results[\"query\"])\n",
    "    print(\"\\nSpiegazione:\")\n",
    "    print(results[\"explanation\"])\n",
    "    print(\"\\nAnteprima risultati:\")\n",
    "    print(results[\"preview\"])\n",
    "else:\n",
    "    print(\"Errore:\", results[\"error\"])"
   ]
  },
  {
   "cell_type": "code",
   "execution_count": 11,
   "metadata": {},
   "outputs": [
    {
     "name": "stdout",
     "output_type": "stream",
     "text": [
      "```sql\n",
      "-- SELECT * FROM video_games.game LIMIT 5;\n",
      "SELECT id, genre_id, game_name \n",
      "FROM video_games.game \n",
      "LIMIT 5;\n",
      "```\n",
      "\n",
      "Explanation: This query selects the first 5 records from the `game` table in the `video_games` schema. The selected columns are `id`, `genre_id`, and `game_name`.\n"
     ]
    }
   ],
   "source": [
    "print(llm_response)"
   ]
  }
 ],
 "metadata": {
  "kernelspec": {
   "display_name": "heydatabase",
   "language": "python",
   "name": "heydatabase"
  },
  "language_info": {
   "codemirror_mode": {
    "name": "ipython",
    "version": 3
   },
   "file_extension": ".py",
   "mimetype": "text/x-python",
   "name": "python",
   "nbconvert_exporter": "python",
   "pygments_lexer": "ipython3",
   "version": "3.10.15"
  }
 },
 "nbformat": 4,
 "nbformat_minor": 2
}
