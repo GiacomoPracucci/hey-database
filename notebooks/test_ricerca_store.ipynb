{
 "cells": [
  {
   "cell_type": "code",
   "execution_count": 2,
   "metadata": {},
   "outputs": [],
   "source": [
    "import sys\n",
    "import os\n",
    "from pathlib import Path\n",
    "project_root = Path.cwd().parent\n",
    "sys.path.append(str(project_root))\n",
    "from typing import Dict, List\n",
    "import logging\n",
    "from src.embedding.openai_embedding import OpenAIEmbedding\n",
    "from src.store.qdrant_vectorstore import QdrantStore\n",
    "from src.config.models.vector_store import TablePayload, QueryPayload\n",
    "from src.schema_metadata.enhancer import MetadataEnhancer\n",
    "from src.llm_handler.openai_handler import OpenAIHandler\n",
    "from src.connettori.postgres import PostgresManager\n",
    "from src.schema_metadata.postgres_metadata_retriever import PostgresMetadataRetriever\n",
    "\n",
    "# Setup logging\n",
    "logging.basicConfig(level=logging.INFO)\n",
    "logger = logging.getLogger(__name__)\n",
    "\n",
    "# Configurazione \n",
    "OPENAI_API_KEY = os.getenv(\"OPENAI_API_KEY\")\n",
    "\n",
    "def initialize_store_with_metadata():\n",
    "    \"\"\"Inizializza lo store con i metadati delle tabelle\"\"\"\n",
    "    \n",
    "    # Connessione al DB\n",
    "    db_manager = PostgresManager(\n",
    "        host=\"localhost\",\n",
    "        port=\"5432\",\n",
    "        database=\"postgres\",\n",
    "        user=\"postgres\",\n",
    "        password=\"admin\"\n",
    "    )\n",
    "    if not db_manager.connect():\n",
    "        raise RuntimeError(\"Failed to connect to database\")\n",
    "    \n",
    "    # Crea metadata retriever\n",
    "    metadata_retriever = PostgresMetadataRetriever(\n",
    "        db_manager.engine, \n",
    "        schema=\"test_schema\"  # il tuo schema\n",
    "    )\n",
    "    \n",
    "    # Crea LLM e enhancer\n",
    "    llm = OpenAIHandler(\n",
    "        api_key=OPENAI_API_KEY,\n",
    "        chat_model=\"gpt-4o\"\n",
    "    )\n",
    "    metadata_enhancer = MetadataEnhancer(llm)\n",
    "    \n",
    "    # Estrai e arricchisci i metadati\n",
    "    base_metadata = metadata_retriever.get_all_tables_metadata()\n",
    "    enhanced_metadata = metadata_enhancer.enhance_all_metadata(base_metadata)\n",
    "    \n",
    "    # Crea e inizializza vector store\n",
    "    embedding_model = OpenAIEmbedding(\n",
    "        api_key=OPENAI_API_KEY,\n",
    "        model=\"text-embedding-3-small\"\n",
    "    )\n",
    "    \n",
    "    store = QdrantStore(\n",
    "        path=\"./my_vector_store\",\n",
    "        collection_name=\"my_collection\",\n",
    "        embedding_model=embedding_model\n",
    "    )\n",
    "    \n",
    "    # Inizializza con i metadati\n",
    "    store.initialize(enhanced_metadata)\n",
    "    \n",
    "    return store"
   ]
  },
  {
   "cell_type": "code",
   "execution_count": 6,
   "metadata": {},
   "outputs": [],
   "source": [
    "def print_table_results(results):\n",
    "    if not results:\n",
    "        print(\"Nessuna tabella trovata\")\n",
    "        return\n",
    "        \n",
    "    print(\"\\nTabelle trovate:\")\n",
    "    for result in results:\n",
    "        print(f\"\\nTabella: {result.table_name}\")\n",
    "        print(f\"Score: {result.relevance_score}\")\n",
    "        print(f\"Descrizione: {result.metadata.description}\")\n",
    "        print(\"-\" * 50)\n",
    "\n",
    "def print_query_results(results):\n",
    "    if not results:\n",
    "        print(\"Nessuna query trovata\")\n",
    "        return\n",
    "        \n",
    "    print(\"\\nQuery simili trovate:\")\n",
    "    for result in results:\n",
    "        print(f\"\\nDomanda: {result.question}\")\n",
    "        print(f\"Score: {result.score}\")\n",
    "        print(f\"SQL: {result.sql_query}\")\n",
    "        print(f\"Spiegazione: {result.explanation}\")\n",
    "        print(f\"Voti positivi: {result.positive_votes}\")\n",
    "        print(\"-\" * 50)"
   ]
  },
  {
   "cell_type": "code",
   "execution_count": 4,
   "metadata": {},
   "outputs": [
    {
     "name": "stdout",
     "output_type": "stream",
     "text": [
      "Inizializzazione store con metadati...\n"
     ]
    },
    {
     "name": "stderr",
     "output_type": "stream",
     "text": [
      "INFO:httpx:HTTP Request: POST https://api.openai.com/v1/chat/completions \"HTTP/1.1 200 OK\"\n",
      "INFO:httpx:HTTP Request: POST https://api.openai.com/v1/chat/completions \"HTTP/1.1 200 OK\"\n"
     ]
    }
   ],
   "source": [
    "print(\"Inizializzazione store con metadati...\")\n",
    "store = initialize_store_with_metadata()"
   ]
  },
  {
   "cell_type": "code",
   "execution_count": 7,
   "metadata": {},
   "outputs": [
    {
     "name": "stdout",
     "output_type": "stream",
     "text": [
      "\n",
      "Test ricerca tabelle...\n",
      "\n",
      "Cerca tabelle per: 'vendite per regione'\n"
     ]
    },
    {
     "name": "stderr",
     "output_type": "stream",
     "text": [
      "INFO:httpx:HTTP Request: POST https://api.openai.com/v1/embeddings \"HTTP/1.1 200 OK\"\n"
     ]
    },
    {
     "name": "stdout",
     "output_type": "stream",
     "text": [
      "\n",
      "Tabelle trovate:\n",
      "\n",
      "Tabella: products\n",
      "Score: 0.16775369866767337\n",
      "Descrizione: The \"products\" table stores information about various products, each uniquely identified by the \"id\" column, which serves as the primary key. It includes details such as the product name, price, and a reference to the product's category through the \"category_id\" column, which is a foreign key linking to the \"categories\" table. This structure allows for the organization and categorization of products within a broader database system.\n",
      "--------------------------------------------------\n",
      "\n",
      "Tabella: categories\n",
      "Score: 0.08898442249234045\n",
      "Descrizione: The \"categories\" table is designed to store information about different categories, with each category uniquely identified by an \"id\" column. It includes a \"name\" column for the category's name and an optional \"description\" column for additional details. The table does not reference any other tables, as it contains no foreign keys.\n",
      "--------------------------------------------------\n",
      "\n",
      "Cerca tabelle per: 'dettagli prodotti'\n"
     ]
    },
    {
     "name": "stderr",
     "output_type": "stream",
     "text": [
      "INFO:httpx:HTTP Request: POST https://api.openai.com/v1/embeddings \"HTTP/1.1 200 OK\"\n"
     ]
    },
    {
     "name": "stdout",
     "output_type": "stream",
     "text": [
      "\n",
      "Tabelle trovate:\n",
      "\n",
      "Tabella: products\n",
      "Score: 0.40813496947066785\n",
      "Descrizione: The \"products\" table stores information about various products, each uniquely identified by the \"id\" column, which serves as the primary key. It includes details such as the product name, price, and a reference to the product's category through the \"category_id\" column, which is a foreign key linking to the \"categories\" table. This structure allows for the organization and categorization of products within a broader database system.\n",
      "--------------------------------------------------\n",
      "\n",
      "Tabella: categories\n",
      "Score: 0.22879795515511997\n",
      "Descrizione: The \"categories\" table is designed to store information about different categories, with each category uniquely identified by an \"id\" column. It includes a \"name\" column for the category's name and an optional \"description\" column for additional details. The table does not reference any other tables, as it contains no foreign keys.\n",
      "--------------------------------------------------\n",
      "\n",
      "Cerca tabelle per: 'catalogo giochi'\n"
     ]
    },
    {
     "name": "stderr",
     "output_type": "stream",
     "text": [
      "INFO:httpx:HTTP Request: POST https://api.openai.com/v1/embeddings \"HTTP/1.1 200 OK\"\n"
     ]
    },
    {
     "name": "stdout",
     "output_type": "stream",
     "text": [
      "\n",
      "Tabelle trovate:\n",
      "\n",
      "Tabella: products\n",
      "Score: 0.2344156504940525\n",
      "Descrizione: The \"products\" table stores information about various products, each uniquely identified by the \"id\" column, which serves as the primary key. It includes details such as the product name, price, and a reference to the product's category through the \"category_id\" column, which is a foreign key linking to the \"categories\" table. This structure allows for the organization and categorization of products within a broader database system.\n",
      "--------------------------------------------------\n",
      "\n",
      "Tabella: categories\n",
      "Score: 0.208913035719358\n",
      "Descrizione: The \"categories\" table is designed to store information about different categories, with each category uniquely identified by an \"id\" column. It includes a \"name\" column for the category's name and an optional \"description\" column for additional details. The table does not reference any other tables, as it contains no foreign keys.\n",
      "--------------------------------------------------\n"
     ]
    }
   ],
   "source": [
    "# Test ricerca tabelle\n",
    "print(\"\\nTest ricerca tabelle...\")\n",
    "queries = [\n",
    "    \"vendite per regione\",\n",
    "    \"dettagli prodotti\",\n",
    "    \"catalogo giochi\"\n",
    "]\n",
    "\n",
    "for query in queries:\n",
    "    print(f\"\\nCerca tabelle per: '{query}'\")\n",
    "    results = store.search_similar_tables(query, limit=3)\n",
    "    print_table_results(results)"
   ]
  },
  {
   "cell_type": "code",
   "execution_count": 8,
   "metadata": {},
   "outputs": [
    {
     "name": "stdout",
     "output_type": "stream",
     "text": [
      "\n",
      "Test ricerca query simili...\n",
      "\n",
      "Cerca query simili a: 'mostra le vendite totali'\n"
     ]
    },
    {
     "name": "stderr",
     "output_type": "stream",
     "text": [
      "INFO:httpx:HTTP Request: POST https://api.openai.com/v1/embeddings \"HTTP/1.1 200 OK\"\n"
     ]
    },
    {
     "name": "stdout",
     "output_type": "stream",
     "text": [
      "Nessuna query trovata\n",
      "\n",
      "Cerca query simili a: 'quali sono i prodotti più costosi'\n"
     ]
    },
    {
     "name": "stderr",
     "output_type": "stream",
     "text": [
      "INFO:httpx:HTTP Request: POST https://api.openai.com/v1/embeddings \"HTTP/1.1 200 OK\"\n"
     ]
    },
    {
     "name": "stdout",
     "output_type": "stream",
     "text": [
      "Nessuna query trovata\n",
      "\n",
      "Cerca query simili a: 'trova i giochi più venduti'\n"
     ]
    },
    {
     "name": "stderr",
     "output_type": "stream",
     "text": [
      "INFO:httpx:HTTP Request: POST https://api.openai.com/v1/embeddings \"HTTP/1.1 200 OK\"\n"
     ]
    },
    {
     "name": "stdout",
     "output_type": "stream",
     "text": [
      "Nessuna query trovata\n"
     ]
    }
   ],
   "source": [
    "# Test ricerca query simili\n",
    "print(\"\\nTest ricerca query simili...\")\n",
    "example_queries = [\n",
    "    \"mostra le vendite totali\",\n",
    "    \"quali sono i prodotti più costosi\",\n",
    "    \"trova i giochi più venduti\"\n",
    "]\n",
    "\n",
    "for query in example_queries:\n",
    "    print(f\"\\nCerca query simili a: '{query}'\")\n",
    "    results = store.search_similar_queries(query, limit=2)\n",
    "    print_query_results(results)"
   ]
  },
  {
   "cell_type": "code",
   "execution_count": 8,
   "metadata": {},
   "outputs": [
    {
     "name": "stdout",
     "output_type": "stream",
     "text": [
      "\n",
      "Test feedback positivo...\n"
     ]
    },
    {
     "name": "stderr",
     "output_type": "stream",
     "text": [
      "INFO:httpx:HTTP Request: POST https://api.openai.com/v1/embeddings \"HTTP/1.1 200 OK\"\n"
     ]
    },
    {
     "name": "stdout",
     "output_type": "stream",
     "text": [
      "Feedback salvato: True\n"
     ]
    }
   ],
   "source": [
    "print(\"\\nTest feedback positivo...\")\n",
    "feedback_query = {\n",
    "    \"question\": \"Qual è il gioco più venduto?\",\n",
    "    \"sql_query\": \"SELECT g.game_name, SUM(rs.num_sales) as total_sales FROM games g JOIN region_sales rs ON g.id = rs.game_id GROUP BY g.game_name ORDER BY total_sales DESC LIMIT 1\",\n",
    "    \"explanation\": \"Questa query trova il gioco con il maggior numero di vendite totali sommando le vendite in tutte le regioni\"\n",
    "}\n",
    "\n",
    "success = store.handle_positive_feedback(\n",
    "    question=feedback_query[\"question\"],\n",
    "    sql_query=feedback_query[\"sql_query\"],\n",
    "    explanation=feedback_query[\"explanation\"]\n",
    ")\n",
    "print(f\"Feedback salvato: {success}\")"
   ]
  },
  {
   "cell_type": "code",
   "execution_count": 9,
   "metadata": {},
   "outputs": [
    {
     "name": "stdout",
     "output_type": "stream",
     "text": [
      "\n",
      "Verifica query salvata...\n"
     ]
    },
    {
     "name": "stderr",
     "output_type": "stream",
     "text": [
      "INFO:httpx:HTTP Request: POST https://api.openai.com/v1/embeddings \"HTTP/1.1 200 OK\"\n"
     ]
    },
    {
     "name": "stdout",
     "output_type": "stream",
     "text": [
      "\n",
      "Query simili trovate:\n",
      "\n",
      "Domanda: Qual è il gioco più venduto?\n",
      "Score: 0.8299179812225611\n",
      "SQL: SELECT g.game_name, SUM(rs.num_sales) as total_sales FROM games g JOIN region_sales rs ON g.id = rs.game_id GROUP BY g.game_name ORDER BY total_sales DESC LIMIT 1\n",
      "Spiegazione: Questa query trova il gioco con il maggior numero di vendite totali sommando le vendite in tutte le regioni\n",
      "Voti positivi: 1\n",
      "--------------------------------------------------\n"
     ]
    }
   ],
   "source": [
    "# Verifica che la query sia stata salvata\n",
    "print(\"\\nVerifica query salvata...\")\n",
    "results = store.search_similar_queries(\"gioco più venduto\", limit=1)\n",
    "print_query_results(results)"
   ]
  },
  {
   "cell_type": "code",
   "execution_count": null,
   "metadata": {},
   "outputs": [],
   "source": []
  },
  {
   "cell_type": "code",
   "execution_count": 8,
   "metadata": {},
   "outputs": [
    {
     "name": "stderr",
     "output_type": "stream",
     "text": [
      "ERROR:hey-database:Error adding table metadata: 'TablePayload' object has no attribute 'base_metadata'\n"
     ]
    },
    {
     "data": {
      "text/plain": [
       "False"
      ]
     },
     "execution_count": 8,
     "metadata": {},
     "output_type": "execute_result"
    }
   ],
   "source": [
    "from src.config.models.vector_store import TablePayload, QueryPayload\n",
    "\n",
    "test_table_metadata = TablePayload(\n",
    "    type='table',\n",
    "    table_name='products',\n",
    "    description='Table storing product information including name, price and category',\n",
    "    keywords=['products', 'price', 'category'],\n",
    "    columns=[\n",
    "        {'name': 'id', 'type': 'INTEGER', 'nullable': False},\n",
    "        {'name': 'name', 'type': 'VARCHAR(100)', 'nullable': False},\n",
    "        {'name': 'price', 'type': 'DECIMAL(10,2)', 'nullable': True},\n",
    "        {'name': 'category_id', 'type': 'INTEGER', 'nullable': True}\n",
    "    ],\n",
    "    primary_keys=['id'],\n",
    "    foreign_keys=[{'constrained_columns': ['category_id'], 'referred_table': 'categories', 'referred_columns': ['id']}],\n",
    "    row_count=100,\n",
    "    importance_score=0.8\n",
    ")\n",
    "\n",
    "store.add_table(test_table_metadata)"
   ]
  }
 ],
 "metadata": {
  "kernelspec": {
   "display_name": "nl2sql",
   "language": "python",
   "name": "python3"
  },
  "language_info": {
   "codemirror_mode": {
    "name": "ipython",
    "version": 3
   },
   "file_extension": ".py",
   "mimetype": "text/x-python",
   "name": "python",
   "nbconvert_exporter": "python",
   "pygments_lexer": "ipython3",
   "version": "3.10.15"
  }
 },
 "nbformat": 4,
 "nbformat_minor": 2
}
