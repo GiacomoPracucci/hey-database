{
 "cells": [
  {
   "cell_type": "code",
   "execution_count": 1,
   "metadata": {},
   "outputs": [],
   "source": [
    "import sys\n",
    "import os\n",
    "from pathlib import Path\n",
    "project_root = Path.cwd().parent\n",
    "sys.path.append(str(project_root))\n",
    "\n",
    "import logging\n",
    "logging.basicConfig(level=logging.INFO)\n",
    "logger = logging.getLogger('hey-database-tutorial')\n",
    "\n",
    "\n",
    "api_key = os.getenv('OPENAI_API_KEY')\n",
    "db_pwd = os.getenv('POSTGRES_PWD')"
   ]
  },
  {
   "cell_type": "code",
   "execution_count": 2,
   "metadata": {},
   "outputs": [
    {
     "name": "stderr",
     "output_type": "stream",
     "text": [
      "WARNING:hey-database:Language 'en' not supportedSupported Languages: english, mandarin, hindi, spanish, french, arabic, bengali, portuguese, russian, urdu, indonesian, german, japanese, swahili, korean, turkish, vietnamese, italian, thai, persian, polish, dutch, greek, czech, swedish, danish, finnish, norwegian, hebrew, romanian, hungarian, malayalam, tamil, telugu, marathi, gujarati, kannada, ukrainian, tagalog, malay. Default language will be used: (english)\n"
     ]
    }
   ],
   "source": [
    "from src.config.config_loader import ConfigLoader\n",
    "\n",
    "config = ConfigLoader.load_config(\n",
    "    db_config_path=os.path.join(\n",
    "        project_root, \"configs\", \"DB_connections\", \"northwind_postgres.yaml\"\n",
    "    ),\n",
    "    cache_config_path=os.path.join(\n",
    "        project_root, \"configs\", \"cache\", \"northwind_cache.yaml\"\n",
    "    ),\n",
    "    sql_llm_config_path=os.path.join(\n",
    "        project_root, \"configs\", \"sql_llm\", \"openai_4o_mini.yaml\"\n",
    "    ),\n",
    "    vector_store_config_path=os.path.join(\n",
    "        project_root, \"configs\", \"vector_store\", \"qdrant_northwind.yaml\"\n",
    "    ),\n",
    "    prompt_config_path=os.path.join(project_root, \"configs\", \"prompt.yaml\"),\n",
    "    metadata_config_path=os.path.join(project_root, \"configs\", \"metadata_.yaml\"),\n",
    "    base_config_path=os.path.join(project_root, \"configs\", \"base_config.yaml\"),\n",
    ")"
   ]
  },
  {
   "cell_type": "code",
   "execution_count": null,
   "metadata": {},
   "outputs": [],
   "source": []
  },
  {
   "cell_type": "code",
   "execution_count": null,
   "metadata": {},
   "outputs": [],
   "source": []
  }
 ],
 "metadata": {
  "kernelspec": {
   "display_name": "heydatabase",
   "language": "python",
   "name": "python3"
  },
  "language_info": {
   "codemirror_mode": {
    "name": "ipython",
    "version": 3
   },
   "file_extension": ".py",
   "mimetype": "text/x-python",
   "name": "python",
   "nbconvert_exporter": "python",
   "pygments_lexer": "ipython3",
   "version": "3.10.16"
  }
 },
 "nbformat": 4,
 "nbformat_minor": 2
}
