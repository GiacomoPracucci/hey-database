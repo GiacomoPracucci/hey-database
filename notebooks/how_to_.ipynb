{
 "cells": [
  {
   "cell_type": "code",
   "execution_count": 1,
   "metadata": {},
   "outputs": [],
   "source": [
    "import sys\n",
    "import os\n",
    "from pathlib import Path\n",
    "project_root = Path.cwd().parent\n",
    "sys.path.append(str(project_root))\n",
    "\n",
    "import logging\n",
    "logging.basicConfig(level=logging.INFO)\n",
    "logger = logging.getLogger('hey-database-tutorial')\n",
    "\n",
    "\n",
    "api_key = os.getenv('OPENAI_API_KEY')\n",
    "db_pwd = os.getenv('POSTGRES_PWD')\n",
    "\n",
    "recipes_dir = os.path.join(project_root, \"configs\", \"rag_recipes\")"
   ]
  },
  {
   "cell_type": "code",
   "execution_count": 2,
   "metadata": {},
   "outputs": [],
   "source": [
    "from src.config.config_loader import ConfigLoader\n",
    "\n",
    "config = ConfigLoader.load_config(\n",
    "    db_config_path=os.path.join(\n",
    "        project_root, \"configs\", \"DB_connections\", \"northwind_postgres.yaml\"\n",
    "    ),\n",
    "    cache_config_path=os.path.join(\n",
    "        project_root, \"configs\", \"cache\", \"northwind_cache.yaml\"\n",
    "    ),\n",
    "    sql_llm_config_path=os.path.join(\n",
    "        project_root, \"configs\", \"sql_llm\", \"openai_4o_mini.yaml\"\n",
    "    ),\n",
    "    vector_store_config_path=os.path.join(\n",
    "        project_root, \"configs\", \"vector_store\", \"qdrant_northwind.yaml\"\n",
    "    ),\n",
    "    prompt_config_path=os.path.join(project_root, \"configs\", \"prompt.yaml\"),\n",
    "    metadata_config_path=os.path.join(project_root, \"configs\", \"metadata_.yaml\"),\n",
    "    base_config_path=os.path.join(project_root, \"configs\", \"base_config.yaml\"),\n",
    "    recipes_dir=recipes_dir\n",
    ")"
   ]
  },
  {
   "cell_type": "code",
   "execution_count": 3,
   "metadata": {},
   "outputs": [
    {
     "data": {
      "text/plain": [
       "[RecipeConfig(name='basic_rag', description='Simple RAG recipe with cosine similarity retrieval', default=True, query_understanding=StrategyConfig(type='PassthroughQueryUnderstanding', params={}), retrieval=StrategyConfig(type='CosineSimRetrieval', params={'tables_limit': 3, 'columns_limit': 5, 'queries_limit': 2, 'use_exact_match': True}), context_processing=StrategyConfig(type='SimpleContextProcessor', params={'include_table_descriptions': True, 'include_column_descriptions': True, 'include_sample_queries': True, 'max_tables': 3, 'max_columns': 10, 'max_queries': 2}), prompt_building=StrategyConfig(type='StandardPromptBuilder', params={'include_original_query': True}), llm_interaction=StrategyConfig(type='DirectLLMInteraction', params={'system_prompt': \"You are a SQL expert. Generate valid, executable SQL queries based on the user's question and database schema information.\", 'temperature': 0.1, 'max_tokens': 2000}), response_processing=StrategyConfig(type='SQLResponseProcessor', params={'max_preview_rows': 10, 'execute_query': True}))]"
      ]
     },
     "execution_count": 3,
     "metadata": {},
     "output_type": "execute_result"
    }
   ],
   "source": [
    "config.recipes_configs"
   ]
  },
  {
   "cell_type": "code",
   "execution_count": 4,
   "metadata": {},
   "outputs": [
    {
     "name": "stderr",
     "output_type": "stream",
     "text": [
      "/Users/giacomo/miniconda3/envs/heydatabase/lib/python3.10/site-packages/snowflake/sqlalchemy/base.py:1068: SAWarning: The GenericFunction 'flatten' is already registered and is going to be overridden.\n",
      "  functions.register_function(\"flatten\", flatten)\n",
      "/Users/giacomo/miniconda3/envs/heydatabase/lib/python3.10/site-packages/sentence_transformers/cross_encoder/CrossEncoder.py:13: TqdmExperimentalWarning: Using `tqdm.autonotebook.tqdm` in notebook mode. Use `tqdm.tqdm` instead to force console mode (e.g. in jupyter console)\n",
      "  from tqdm.autonotebook import tqdm, trange\n",
      "INFO:hey-database:Connected to PostgreSQL database\n",
      "INFO:hey-database:Initializing vector store components...\n",
      "INFO:hey-database:Vector store components initialized successfully\n",
      "INFO:hey-database:Inizializzazione collezione di recipes RAG\n",
      "INFO:hey-database:Impostata recipe di default: basic_rag\n",
      "INFO:hey-database:Inizializzate 1 recipes\n"
     ]
    }
   ],
   "source": [
    "from src.build.build_app_components import AppComponentsBuilder\n",
    "app_components = AppComponentsBuilder(config).build()"
   ]
  },
  {
   "cell_type": "code",
   "execution_count": 5,
   "metadata": {},
   "outputs": [],
   "source": [
    "from src.metadata.metadata_startup import (\n",
    "    MetadataStartup,\n",
    "    MetadataProcessor,\n",
    ")\n",
    "\n",
    "metadata_processor = MetadataProcessor(\n",
    "    table_extractor=app_components.table_metadata_extractor,\n",
    "    column_extractor=app_components.column_metadata_extractor,\n",
    "    table_enhancer=app_components.table_metadata_enhancer,\n",
    "    column_enhancer=app_components.column_metadata_enhancer,\n",
    ")\n",
    "metadata_manager = MetadataStartup(metadata_processor, app_components.cache)"
   ]
  },
  {
   "cell_type": "code",
   "execution_count": 6,
   "metadata": {},
   "outputs": [
    {
     "name": "stderr",
     "output_type": "stream",
     "text": [
      "INFO:hey-database:Found valid cached metadata.\n"
     ]
    }
   ],
   "source": [
    "metadata = metadata_manager.initialize_metadata()"
   ]
  },
  {
   "cell_type": "code",
   "execution_count": 7,
   "metadata": {},
   "outputs": [
    {
     "data": {
      "text/plain": [
       "Metadata(tables={'territories': TableMetadata(name='territories', columns=['territory_id', 'territory_description', 'region_id'], primary_keys=['territory_id'], foreign_keys=[{'constrained_columns': ['region_id'], 'referred_table': 'region', 'referred_columns': ['region_id']}], row_count=53, description='placeholder', keywords=['placeholder'], importance_score=0.8, type='table'), 'order_details': TableMetadata(name='order_details', columns=['order_id', 'product_id', 'unit_price', 'quantity', 'discount'], primary_keys=['order_id', 'product_id'], foreign_keys=[{'constrained_columns': ['order_id'], 'referred_table': 'orders', 'referred_columns': ['order_id']}, {'constrained_columns': ['product_id'], 'referred_table': 'products', 'referred_columns': ['product_id']}], row_count=2155, description='placeholder', keywords=['placeholder'], importance_score=1.0, type='table'), 'employee_territories': TableMetadata(name='employee_territories', columns=['employee_id', 'territory_id'], primary_keys=['employee_id', 'territory_id'], foreign_keys=[{'constrained_columns': ['employee_id'], 'referred_table': 'employees', 'referred_columns': ['employee_id']}, {'constrained_columns': ['territory_id'], 'referred_table': 'territories', 'referred_columns': ['territory_id']}], row_count=49, description='placeholder', keywords=['placeholder'], importance_score=0.9, type='table'), 'us_states': TableMetadata(name='us_states', columns=['state_id', 'state_name', 'state_abbr', 'state_region'], primary_keys=['state_id'], foreign_keys=[], row_count=51, description='placeholder', keywords=['placeholder'], importance_score=0.7, type='table'), 'customers': TableMetadata(name='customers', columns=['customer_id', 'company_name', 'contact_name', 'contact_title', 'address', 'city', 'region', 'postal_code', 'country', 'phone', 'fax'], primary_keys=['customer_id'], foreign_keys=[], row_count=91, description='placeholder', keywords=['placeholder'], importance_score=1.0, type='table'), 'orders': TableMetadata(name='orders', columns=['order_id', 'customer_id', 'employee_id', 'order_date', 'required_date', 'shipped_date', 'ship_via', 'freight', 'ship_name', 'ship_address', 'ship_city', 'ship_region', 'ship_postal_code', 'ship_country'], primary_keys=['order_id'], foreign_keys=[{'constrained_columns': ['customer_id'], 'referred_table': 'customers', 'referred_columns': ['customer_id']}, {'constrained_columns': ['employee_id'], 'referred_table': 'employees', 'referred_columns': ['employee_id']}, {'constrained_columns': ['ship_via'], 'referred_table': 'shippers', 'referred_columns': ['shipper_id']}], row_count=830, description='placeholder', keywords=['placeholder'], importance_score=1.0, type='table'), 'employees': TableMetadata(name='employees', columns=['employee_id', 'last_name', 'first_name', 'title', 'title_of_courtesy', 'birth_date', 'hire_date', 'address', 'city', 'region', 'postal_code', 'country', 'home_phone', 'extension', 'photo', 'notes', 'reports_to', 'photo_path'], primary_keys=['employee_id'], foreign_keys=[{'constrained_columns': ['reports_to'], 'referred_table': 'employees', 'referred_columns': ['employee_id']}], row_count=9, description='placeholder', keywords=['placeholder'], importance_score=1.0, type='table'), 'shippers': TableMetadata(name='shippers', columns=['shipper_id', 'company_name', 'phone'], primary_keys=['shipper_id'], foreign_keys=[], row_count=6, description='placeholder', keywords=['placeholder'], importance_score=0.6, type='table'), 'products': TableMetadata(name='products', columns=['product_id', 'product_name', 'supplier_id', 'category_id', 'quantity_per_unit', 'unit_price', 'units_in_stock', 'units_on_order', 'reorder_level', 'discontinued'], primary_keys=['product_id'], foreign_keys=[{'constrained_columns': ['category_id'], 'referred_table': 'categories', 'referred_columns': ['category_id']}, {'constrained_columns': ['supplier_id'], 'referred_table': 'suppliers', 'referred_columns': ['supplier_id']}], row_count=77, description='placeholder', keywords=['placeholder'], importance_score=1.0, type='table'), 'categories': TableMetadata(name='categories', columns=['category_id', 'category_name', 'description', 'picture'], primary_keys=['category_id'], foreign_keys=[], row_count=8, description='placeholder', keywords=['placeholder'], importance_score=0.7, type='table'), 'suppliers': TableMetadata(name='suppliers', columns=['supplier_id', 'company_name', 'contact_name', 'contact_title', 'address', 'city', 'region', 'postal_code', 'country', 'phone', 'fax', 'homepage'], primary_keys=['supplier_id'], foreign_keys=[], row_count=29, description='placeholder', keywords=['placeholder'], importance_score=1.0, type='table'), 'region': TableMetadata(name='region', columns=['region_id', 'region_description'], primary_keys=['region_id'], foreign_keys=[], row_count=4, description='placeholder', keywords=['placeholder'], importance_score=0.5, type='table'), 'customer_demographics': TableMetadata(name='customer_demographics', columns=['customer_type_id', 'customer_desc'], primary_keys=['customer_type_id'], foreign_keys=[], row_count=0, description='placeholder', keywords=['placeholder'], importance_score=0.5, type='table'), 'customer_customer_demo': TableMetadata(name='customer_customer_demo', columns=['customer_id', 'customer_type_id'], primary_keys=['customer_id', 'customer_type_id'], foreign_keys=[{'constrained_columns': ['customer_type_id'], 'referred_table': 'customer_demographics', 'referred_columns': ['customer_type_id']}, {'constrained_columns': ['customer_id'], 'referred_table': 'customers', 'referred_columns': ['customer_id']}], row_count=0, description='placeholder', keywords=['placeholder'], importance_score=0.9, type='table')}, columns={'territories': {'territory_id': ColumnMetadata(name='territory_id', table='territories', data_type='VARCHAR(20)', nullable=False, is_primary_key=False, is_foreign_key=False, ai_name='placeholder', description='placeholder', keywords=['placeholder'], distinct_values=['90405', '30346', '48084', '95054', '20852', '03049', '72716', '01730', '75234', '07960'], relationships=[], type='column'), 'territory_description': ColumnMetadata(name='territory_description', table='territories', data_type='VARCHAR(60)', nullable=False, is_primary_key=False, is_foreign_key=False, ai_name='placeholder', description='placeholder', keywords=['placeholder'], distinct_values=['Neward', 'Santa Cruz', 'Columbia', 'New York', 'Westboro', 'Philadelphia', 'Phoenix', 'San Francisco', 'Dallas', 'Roseville'], relationships=[], type='column'), 'region_id': ColumnMetadata(name='region_id', table='territories', data_type='SMALLINT', nullable=False, is_primary_key=False, is_foreign_key=False, ai_name='placeholder', description='placeholder', keywords=['placeholder'], distinct_values=['2', '1', '4', '3'], relationships=[], type='column')}, 'order_details': {'order_id': ColumnMetadata(name='order_id', table='order_details', data_type='SMALLINT', nullable=False, is_primary_key=False, is_foreign_key=False, ai_name='placeholder', description='placeholder', keywords=['placeholder'], distinct_values=['10483', '10423', '10489', '10992', '10391', '10681', '10641', '10703', '10852', '10705'], relationships=[], type='column'), 'product_id': ColumnMetadata(name='product_id', table='order_details', data_type='SMALLINT', nullable=False, is_primary_key=False, is_foreign_key=False, ai_name='placeholder', description='placeholder', keywords=['placeholder'], distinct_values=['16', '26', '63', '71', '70', '72', '8', '75', '13', '28'], relationships=[], type='column'), 'unit_price': ColumnMetadata(name='unit_price', table='order_details', data_type='REAL', nullable=False, is_primary_key=False, is_foreign_key=False, ai_name='placeholder', description='placeholder', keywords=['placeholder'], distinct_values=['16', '26', '12.4', '3.6', '24.9', '8', '19.5', '10.2', '14.4', '21.35'], relationships=[], type='column'), 'quantity': ColumnMetadata(name='quantity', table='order_details', data_type='SMALLINT', nullable=False, is_primary_key=False, is_foreign_key=False, ai_name='placeholder', description='placeholder', keywords=['placeholder'], distinct_values=['21', '24', '56', '33', '48', '30', '35', '66', '45', '22'], relationships=[], type='column'), 'discount': ColumnMetadata(name='discount', table='order_details', data_type='REAL', nullable=False, is_primary_key=False, is_foreign_key=False, ai_name='placeholder', description='placeholder', keywords=['placeholder'], distinct_values=['0.25', '0.06', '0.05', '0.03', '0.1', '0.2', '0.01', '0.15', '0.02', '0'], relationships=[], type='column')}, 'employee_territories': {'employee_id': ColumnMetadata(name='employee_id', table='employee_territories', data_type='SMALLINT', nullable=False, is_primary_key=False, is_foreign_key=False, ai_name='placeholder', description='placeholder', keywords=['placeholder'], distinct_values=['7', '5', '6', '2', '1', '9', '4', '3', '8'], relationships=[], type='column'), 'territory_id': ColumnMetadata(name='territory_id', table='employee_territories', data_type='VARCHAR(20)', nullable=False, is_primary_key=False, is_foreign_key=False, ai_name='placeholder', description='placeholder', keywords=['placeholder'], distinct_values=['01730', '07960', '32859', '02184', '48075', '80909', '27403', '95008', '08837', '31406'], relationships=[], type='column')}, 'us_states': {'state_id': ColumnMetadata(name='state_id', table='us_states', data_type='SMALLINT', nullable=False, is_primary_key=False, is_foreign_key=False, ai_name='placeholder', description='placeholder', keywords=['placeholder'], distinct_values=['49', '8', '12', '10', '7', '13', '47', '28', '15', '5'], relationships=[], type='column'), 'state_name': ColumnMetadata(name='state_name', table='us_states', data_type='VARCHAR(100)', nullable=True, is_primary_key=False, is_foreign_key=False, ai_name='placeholder', description='placeholder', keywords=['placeholder'], distinct_values=['Oklahoma', 'North Carolina', 'Colorado', 'Mississippi', 'Florida', 'Vermont', 'Delaware', 'Nevada', 'Louisiana', 'New York'], relationships=[], type='column'), 'state_abbr': ColumnMetadata(name='state_abbr', table='us_states', data_type='VARCHAR(2)', nullable=True, is_primary_key=False, is_foreign_key=False, ai_name='placeholder', description='placeholder', keywords=['placeholder'], distinct_values=['CA', 'NH', 'OR', 'TX', 'ND', 'NV', 'OH', 'KY', 'NY', 'HI'], relationships=[], type='column'), 'state_region': ColumnMetadata(name='state_region', table='us_states', data_type='VARCHAR(50)', nullable=True, is_primary_key=False, is_foreign_key=False, ai_name='placeholder', description='placeholder', keywords=['placeholder'], distinct_values=['midwest', 'west', 'south', 'north', 'east'], relationships=[], type='column')}, 'customers': {'customer_id': ColumnMetadata(name='customer_id', table='customers', data_type='VARCHAR(5)', nullable=False, is_primary_key=False, is_foreign_key=False, ai_name='placeholder', description='placeholder', keywords=['placeholder'], distinct_values=['ALFKI', 'ANATR', 'ANTON', 'AROUT', 'BERGS', 'BLAUS', 'BLONP', 'BOLID', 'BONAP', 'BOTTM'], relationships=[], type='column'), 'company_name': ColumnMetadata(name='company_name', table='customers', data_type='VARCHAR(40)', nullable=False, is_primary_key=False, is_foreign_key=False, ai_name='placeholder', description='placeholder', keywords=['placeholder'], distinct_values=['FISSA Fabrica Inter. Salchichas S.A.', 'Wilman Kala', 'Magazzini Alimentari Riuniti', 'Wellington Importadora', 'The Cracker Box', 'Toms Spezialitäten', \"Let's Stop N Shop\", 'Furia Bacalhau e Frutos do Mar', 'Lehmanns Marktstand', 'Rattlesnake Canyon Grocery'], relationships=[], type='column'), 'contact_name': ColumnMetadata(name='contact_name', table='customers', data_type='VARCHAR(30)', nullable=True, is_primary_key=False, is_foreign_key=False, ai_name='placeholder', description='placeholder', keywords=['placeholder'], distinct_values=['Francisco Chang', 'André Fonseca', 'Pedro Afonso', 'Philip Cramer', 'Frédérique Citeaux', 'Jytte Petersen', 'Paolo Accorti', 'Paula Wilson', 'Patricio Simpson', 'Helen Bennett'], relationships=[], type='column'), 'contact_title': ColumnMetadata(name='contact_title', table='customers', data_type='VARCHAR(30)', nullable=True, is_primary_key=False, is_foreign_key=False, ai_name='placeholder', description='placeholder', keywords=['placeholder'], distinct_values=['Sales Manager', 'Owner', 'Owner/Marketing Assistant', 'Accounting Manager', 'Sales Associate', 'Sales Agent', 'Assistant Sales Agent', 'Assistant Sales Representative', 'Order Administrator', 'Marketing Manager'], relationships=[], type='column'), 'address': ColumnMetadata(name='address', table='customers', data_type='VARCHAR(60)', nullable=True, is_primary_key=False, is_foreign_key=False, ai_name='placeholder', description='placeholder', keywords=['placeholder'], distinct_values=['C/ Moralzarzal, 86', 'Gran Vía, 1', 'Mataderos  2312', 'Rua do Mercado, 12', 'Boulevard Tirou, 255', 'Calle Dr. Jorge Cash 321', 'Åkergatan 24', 'Rua Orós, 92', 'Adenauerallee 900', 'Via Ludovico il Moro 22'], relationships=[], type='column'), 'city': ColumnMetadata(name='city', table='customers', data_type='VARCHAR(15)', nullable=True, is_primary_key=False, is_foreign_key=False, ai_name='placeholder', description='placeholder', keywords=['placeholder'], distinct_values=['Butte', 'Paris', 'Cowes', 'Cork', 'Bern', 'Brandenburg', 'Aachen', 'Walla Walla', 'Warszawa', 'Münster'], relationships=[], type='column'), 'region': ColumnMetadata(name='region', table='customers', data_type='VARCHAR(15)', nullable=True, is_primary_key=False, is_foreign_key=False, ai_name='placeholder', description='placeholder', keywords=['placeholder'], distinct_values=['Lara', 'DF', 'ID', 'Táchira', 'SP', 'Nueva Esparta', 'CA', 'AK', 'Isle of Wight', 'WY'], relationships=[], type='column'), 'postal_code': ColumnMetadata(name='postal_code', table='customers', data_type='VARCHAR(10)', nullable=True, is_primary_key=False, is_foreign_key=False, ai_name='placeholder', description='placeholder', keywords=['placeholder'], distinct_values=['12209', '1675', '5022', '05454-876', '04876-786', '02389-890', '51100', '8200', '80805', '44000'], relationships=[], type='column'), 'country': ColumnMetadata(name='country', table='customers', data_type='VARCHAR(15)', nullable=True, is_primary_key=False, is_foreign_key=False, ai_name='placeholder', description='placeholder', keywords=['placeholder'], distinct_values=['Argentina', 'Spain', 'Switzerland', 'Italy', 'Venezuela', 'Belgium', 'Norway', 'Sweden', 'USA', 'France'], relationships=[], type='column'), 'phone': ColumnMetadata(name='phone', table='customers', data_type='VARCHAR(24)', nullable=True, is_primary_key=False, is_foreign_key=False, ai_name='placeholder', description='placeholder', keywords=['placeholder'], distinct_values=['(5) 552-3745', '(95) 555 82 82', '(91) 745 6200', '(5) 555-4729', '(171) 555-1717', '0452-076545', '91.24.45.40', '0372-035188', '(2) 283-2951', '0897-034214'], relationships=[], type='column'), 'fax': ColumnMetadata(name='fax', table='customers', data_type='VARCHAR(24)', nullable=True, is_primary_key=False, is_foreign_key=False, ai_name='placeholder', description='placeholder', keywords=['placeholder'], distinct_values=['(1) 354-2535', '030-0076545', '(91) 745 6210', '0621-08924', '30.59.85.11', '089-0877451', '40.67.89.89', '(1) 47.55.60.20', '(171) 555-6750', '(307) 555-6525'], relationships=[], type='column')}, 'orders': {'order_id': ColumnMetadata(name='order_id', table='orders', data_type='SMALLINT', nullable=False, is_primary_key=False, is_foreign_key=False, ai_name='placeholder', description='placeholder', keywords=['placeholder'], distinct_values=['10483', '10423', '10489', '10992', '10391', '10681', '10641', '10703', '10852', '10705'], relationships=[], type='column'), 'customer_id': ColumnMetadata(name='customer_id', table='orders', data_type='VARCHAR(5)', nullable=True, is_primary_key=False, is_foreign_key=False, ai_name='placeholder', description='placeholder', keywords=['placeholder'], distinct_values=['TOMSP', 'LONEP', 'OLDWO', 'WARTH', 'MAGAA', 'QUEEN', 'VINET', 'ANTON', 'MORGK', 'GOURL'], relationships=[], type='column'), 'employee_id': ColumnMetadata(name='employee_id', table='orders', data_type='SMALLINT', nullable=True, is_primary_key=False, is_foreign_key=False, ai_name='placeholder', description='placeholder', keywords=['placeholder'], distinct_values=['1', '9', '4', '8', '3', '6', '2', '7', '5'], relationships=[], type='column'), 'order_date': ColumnMetadata(name='order_date', table='orders', data_type='DATE', nullable=True, is_primary_key=False, is_foreign_key=False, ai_name='placeholder', description='placeholder', keywords=['placeholder'], distinct_values=['1996-07-08', '1997-11-18', '1996-08-01', '1998-02-16', '1996-09-11', '1996-12-02', '1997-05-02', '1997-01-07', '1997-10-06', '1997-06-12'], relationships=[], type='column'), 'required_date': ColumnMetadata(name='required_date', table='orders', data_type='DATE', nullable=True, is_primary_key=False, is_foreign_key=False, ai_name='placeholder', description='placeholder', keywords=['placeholder'], distinct_values=['1996-11-08', '1996-10-11', '1996-08-12', '1998-04-07', '1998-03-24', '1997-12-02', '1997-05-29', '1997-05-06', '1997-02-13', '1996-12-18'], relationships=[], type='column'), 'shipped_date': ColumnMetadata(name='shipped_date', table='orders', data_type='DATE', nullable=True, is_primary_key=False, is_foreign_key=False, ai_name='placeholder', description='placeholder', keywords=['placeholder'], distinct_values=['1996-09-03', '1998-03-18', '1998-03-30', '1996-09-23', '1997-02-12', '1997-01-15', '1998-05-06', '1997-02-06', '1998-01-06', '1998-04-28'], relationships=[], type='column'), 'ship_via': ColumnMetadata(name='ship_via', table='orders', data_type='SMALLINT', nullable=True, is_primary_key=False, is_foreign_key=False, ai_name='placeholder', description='placeholder', keywords=['placeholder'], distinct_values=['3', '2', '1'], relationships=[], type='column'), 'freight': ColumnMetadata(name='freight', table='orders', data_type='REAL', nullable=True, is_primary_key=False, is_foreign_key=False, ai_name='placeholder', description='placeholder', keywords=['placeholder'], distinct_values=['53.23', '214.27', '16.85', '30.09', '25.36', '158.44', '54.83', '143.28', '44.12', '25.09'], relationships=[], type='column'), 'ship_name': ColumnMetadata(name='ship_name', table='orders', data_type='VARCHAR(40)', nullable=True, is_primary_key=False, is_foreign_key=False, ai_name='placeholder', description='placeholder', keywords=['placeholder'], distinct_values=['Wilman Kala', 'Magazzini Alimentari Riuniti', 'The Cracker Box', 'Wellington Importadora', \"Let's Stop N Shop\", 'Furia Bacalhau e Frutos do Mar', 'Toms Spezialitäten', 'Lehmanns Marktstand', 'Mère Paillarde', 'Rattlesnake Canyon Grocery'], relationships=[], type='column'), 'ship_address': ColumnMetadata(name='ship_address', table='orders', data_type='VARCHAR(60)', nullable=True, is_primary_key=False, is_foreign_key=False, ai_name='placeholder', description='placeholder', keywords=['placeholder'], distinct_values=['Mataderos  2312', 'Gran Vía, 1', 'Rua do Mercado, 12', 'Calle Dr. Jorge Cash 321', 'Åkergatan 24', 'Boulevard Tirou, 255', 'Rua Orós, 92', 'Adenauerallee 900', 'Via Ludovico il Moro 22', 'Keskuskatu 45'], relationships=[], type='column'), 'ship_city': ColumnMetadata(name='ship_city', table='orders', data_type='VARCHAR(15)', nullable=True, is_primary_key=False, is_foreign_key=False, ai_name='placeholder', description='placeholder', keywords=['placeholder'], distinct_values=['Butte', 'Paris', 'Cowes', 'Cork', 'Bern', 'Aachen', 'Brandenburg', 'Walla Walla', 'Warszawa', 'Münster'], relationships=[], type='column'), 'ship_region': ColumnMetadata(name='ship_region', table='orders', data_type='VARCHAR(15)', nullable=True, is_primary_key=False, is_foreign_key=False, ai_name='placeholder', description='placeholder', keywords=['placeholder'], distinct_values=['Lara', 'DF', 'ID', 'Táchira', 'SP', 'Nueva Esparta', 'Essex', 'CA', 'AK', 'Isle of Wight'], relationships=[], type='column'), 'ship_postal_code': ColumnMetadata(name='ship_postal_code', table='orders', data_type='VARCHAR(10)', nullable=True, is_primary_key=False, is_foreign_key=False, ai_name='placeholder', description='placeholder', keywords=['placeholder'], distinct_values=['12209', '1675', '5022', '05454-876', '04876-786', '02389-890', '51100', '8200', '80805', '44000'], relationships=[], type='column'), 'ship_country': ColumnMetadata(name='ship_country', table='orders', data_type='VARCHAR(15)', nullable=True, is_primary_key=False, is_foreign_key=False, ai_name='placeholder', description='placeholder', keywords=['placeholder'], distinct_values=['Argentina', 'Spain', 'Switzerland', 'Italy', 'Venezuela', 'Belgium', 'Norway', 'Sweden', 'USA', 'France'], relationships=[], type='column')}, 'employees': {'employee_id': ColumnMetadata(name='employee_id', table='employees', data_type='SMALLINT', nullable=False, is_primary_key=False, is_foreign_key=False, ai_name='placeholder', description='placeholder', keywords=['placeholder'], distinct_values=['1', '9', '4', '8', '6', '3', '2', '7', '5'], relationships=[], type='column'), 'last_name': ColumnMetadata(name='last_name', table='employees', data_type='VARCHAR(20)', nullable=False, is_primary_key=False, is_foreign_key=False, ai_name='placeholder', description='placeholder', keywords=['placeholder'], distinct_values=['Callahan', 'Fuller', 'Leverling', 'Peacock', 'Suyama', 'Buchanan', 'Dodsworth', 'Davolio', 'King'], relationships=[], type='column'), 'first_name': ColumnMetadata(name='first_name', table='employees', data_type='VARCHAR(10)', nullable=False, is_primary_key=False, is_foreign_key=False, ai_name='placeholder', description='placeholder', keywords=['placeholder'], distinct_values=['Laura', 'Janet', 'Andrew', 'Nancy', 'Anne', 'Robert', 'Michael', 'Steven', 'Margaret'], relationships=[], type='column'), 'title': ColumnMetadata(name='title', table='employees', data_type='VARCHAR(30)', nullable=True, is_primary_key=False, is_foreign_key=False, ai_name='placeholder', description='placeholder', keywords=['placeholder'], distinct_values=['Vice President, Sales', 'Inside Sales Coordinator', 'Sales Representative', 'Sales Manager'], relationships=[], type='column'), 'title_of_courtesy': ColumnMetadata(name='title_of_courtesy', table='employees', data_type='VARCHAR(25)', nullable=True, is_primary_key=False, is_foreign_key=False, ai_name='placeholder', description='placeholder', keywords=['placeholder'], distinct_values=['Mrs.', 'Mr.', 'Ms.', 'Dr.'], relationships=[], type='column'), 'birth_date': ColumnMetadata(name='birth_date', table='employees', data_type='DATE', nullable=True, is_primary_key=False, is_foreign_key=False, ai_name='placeholder', description='placeholder', keywords=['placeholder'], distinct_values=['1937-09-19', '1958-01-09', '1966-01-27', '1948-12-08', '1952-02-19', '1960-05-29', '1955-03-04', '1963-08-30', '1963-07-02'], relationships=[], type='column'), 'hire_date': ColumnMetadata(name='hire_date', table='employees', data_type='DATE', nullable=True, is_primary_key=False, is_foreign_key=False, ai_name='placeholder', description='placeholder', keywords=['placeholder'], distinct_values=['1994-01-02', '1992-08-14', '1993-05-03', '1993-10-17', '1994-11-15', '1992-05-01', '1994-03-05', '1992-04-01'], relationships=[], type='column'), 'address': ColumnMetadata(name='address', table='employees', data_type='VARCHAR(60)', nullable=True, is_primary_key=False, is_foreign_key=False, ai_name='placeholder', description='placeholder', keywords=['placeholder'], distinct_values=['Edgeham Hollow\\\\nWinchester Way', '4110 Old Redmond Rd.', '908 W. Capital Way', '14 Garrett Hill', 'Coventry House\\\\nMiner Rd.', '722 Moss Bay Blvd.', '4726 - 11th Ave. N.E.', '507 - 20th Ave. E.\\\\nApt. 2A', '7 Houndstooth Rd.'], relationships=[], type='column'), 'city': ColumnMetadata(name='city', table='employees', data_type='VARCHAR(15)', nullable=True, is_primary_key=False, is_foreign_key=False, ai_name='placeholder', description='placeholder', keywords=['placeholder'], distinct_values=['Redmond', 'London', 'Tacoma', 'Kirkland', 'Seattle'], relationships=[], type='column'), 'region': ColumnMetadata(name='region', table='employees', data_type='VARCHAR(15)', nullable=True, is_primary_key=False, is_foreign_key=False, ai_name='placeholder', description='placeholder', keywords=['placeholder'], distinct_values=['WA'], relationships=[], type='column'), 'postal_code': ColumnMetadata(name='postal_code', table='employees', data_type='VARCHAR(10)', nullable=True, is_primary_key=False, is_foreign_key=False, ai_name='placeholder', description='placeholder', keywords=['placeholder'], distinct_values=['98033', '98105', 'RG1 9SP', 'WG2 7LT', '98401', '98052', 'EC2 7JR', 'SW1 8JR', '98122'], relationships=[], type='column'), 'country': ColumnMetadata(name='country', table='employees', data_type='VARCHAR(15)', nullable=True, is_primary_key=False, is_foreign_key=False, ai_name='placeholder', description='placeholder', keywords=['placeholder'], distinct_values=['UK', 'USA'], relationships=[], type='column'), 'home_phone': ColumnMetadata(name='home_phone', table='employees', data_type='VARCHAR(24)', nullable=True, is_primary_key=False, is_foreign_key=False, ai_name='placeholder', description='placeholder', keywords=['placeholder'], distinct_values=['(206) 555-8122', '(71) 555-5598', '(71) 555-7773', '(71) 555-4848', '(71) 555-4444', '(206) 555-9482', '(206) 555-3412', '(206) 555-9857', '(206) 555-1189'], relationships=[], type='column'), 'extension': ColumnMetadata(name='extension', table='employees', data_type='VARCHAR(4)', nullable=True, is_primary_key=False, is_foreign_key=False, ai_name='placeholder', description='placeholder', keywords=['placeholder'], distinct_values=['428', '5176', '2344', '3453', '465', '452', '3457', '3355', '5467'], relationships=[], type='column'), 'photo': ColumnMetadata(name='photo', table='employees', data_type='BYTEA', nullable=True, is_primary_key=False, is_foreign_key=False, ai_name='placeholder', description='placeholder', keywords=['placeholder'], distinct_values=['\\\\x'], relationships=[], type='column'), 'notes': ColumnMetadata(name='notes', table='employees', data_type='TEXT', nullable=True, is_primary_key=False, is_foreign_key=False, ai_name='placeholder', description='placeholder', keywords=['placeholder'], distinct_values=['Andrew received his BTS commercial in 1974 and a Ph.D. in international marketing from the University of Dallas in 1981.  He is fluent in French and Italian and reads German.  He joined the company as a sales representative, was promoted to sales manager in January 1992 and to vice president of sales in March 1993.  Andrew is a member of the Sales Management Roundtable, the Seattle Chamber of Commerce, and the Pacific Rim Importers Association.', 'Anne has a BA degree in English from St. Lawrence College.  She is fluent in French and German.', 'Laura received a BA in psychology from the University of Washington.  She has also completed a course in business French.  She reads and writes French.', 'Michael is a graduate of Sussex University (MA, economics, 1983) and the University of California at Los Angeles (MBA, marketing, 1986).  He has also taken the courses Multi-Cultural Selling and Time Management for the Sales Professional.  He is fluent in Japanese and can read and write French, Portuguese, and Spanish.', 'Janet has a BS degree in chemistry from Boston College (1984).  She has also completed a certificate program in food retailing management.  Janet was hired as a sales associate in 1991 and promoted to sales representative in February 1992.', 'Steven Buchanan graduated from St. Andrews University, Scotland, with a BSC degree in 1976.  Upon joining the company as a sales representative in 1992, he spent 6 months in an orientation program at the Seattle office and then returned to his permanent post in London.  He was promoted to sales manager in March 1993.  Mr. Buchanan has completed the courses Successful Telemarketing and International Sales Management.  He is fluent in French.', 'Margaret holds a BA in English literature from Concordia College (1958) and an MA from the American Institute of Culinary Arts (1966).  She was assigned to the London office temporarily from July through November 1992.', 'Education includes a BA in psychology from Colorado State University in 1970.  She also completed The Art of the Cold Call.  Nancy is a member of Toastmasters International.', 'Robert King served in the Peace Corps and traveled extensively before completing his degree in English at the University of Michigan in 1992, the year he joined the company.  After completing a course entitled Selling in Europe, he was transferred to the London office in March 1993.'], relationships=[], type='column'), 'reports_to': ColumnMetadata(name='reports_to', table='employees', data_type='SMALLINT', nullable=True, is_primary_key=False, is_foreign_key=False, ai_name='placeholder', description='placeholder', keywords=['placeholder'], distinct_values=['2', '5'], relationships=[], type='column'), 'photo_path': ColumnMetadata(name='photo_path', table='employees', data_type='VARCHAR(255)', nullable=True, is_primary_key=False, is_foreign_key=False, ai_name='placeholder', description='placeholder', keywords=['placeholder'], distinct_values=['http://accweb/emmployees/davolio.bmp', 'http://accweb/emmployees/leverling.bmp', 'http://accweb/emmployees/fuller.bmp', 'http://accweb/emmployees/peacock.bmp', 'http://accweb/emmployees/buchanan.bmp'], relationships=[], type='column')}, 'shippers': {'shipper_id': ColumnMetadata(name='shipper_id', table='shippers', data_type='SMALLINT', nullable=False, is_primary_key=False, is_foreign_key=False, ai_name='placeholder', description='placeholder', keywords=['placeholder'], distinct_values=['2', '1', '4', '6', '5', '3'], relationships=[], type='column'), 'company_name': ColumnMetadata(name='company_name', table='shippers', data_type='VARCHAR(40)', nullable=False, is_primary_key=False, is_foreign_key=False, ai_name='placeholder', description='placeholder', keywords=['placeholder'], distinct_values=['UPS', 'United Package', 'DHL', 'Alliance Shippers', 'Federal Shipping', 'Speedy Express'], relationships=[], type='column'), 'phone': ColumnMetadata(name='phone', table='shippers', data_type='VARCHAR(24)', nullable=True, is_primary_key=False, is_foreign_key=False, ai_name='placeholder', description='placeholder', keywords=['placeholder'], distinct_values=['1-800-222-0451', '1-800-225-5345', '(503) 555-9831', '1-800-782-7892', '(503) 555-9931', '(503) 555-3199'], relationships=[], type='column')}, 'products': {'product_id': ColumnMetadata(name='product_id', table='products', data_type='SMALLINT', nullable=False, is_primary_key=False, is_foreign_key=False, ai_name='placeholder', description='placeholder', keywords=['placeholder'], distinct_values=['16', '26', '63', '71', '72', '70', '8', '75', '13', '28'], relationships=[], type='column'), 'product_name': ColumnMetadata(name='product_name', table='products', data_type='VARCHAR(40)', nullable=False, is_primary_key=False, is_foreign_key=False, ai_name='placeholder', description='placeholder', keywords=['placeholder'], distinct_values=['Pâté chinois', 'Flotemysost', 'Camembert Pierrot', 'Inlagd Sill', 'Thüringer Rostbratwurst', \"Gustaf's Knäckebröd\", 'Carnarvon Tigers', 'Tofu', 'Röd Kaviar', 'Rhönbräu Klosterbier'], relationships=[], type='column'), 'supplier_id': ColumnMetadata(name='supplier_id', table='products', data_type='SMALLINT', nullable=True, is_primary_key=False, is_foreign_key=False, ai_name='placeholder', description='placeholder', keywords=['placeholder'], distinct_values=['8', '12', '10', '7', '13', '28', '15', '5', '19', '23'], relationships=[], type='column'), 'category_id': ColumnMetadata(name='category_id', table='products', data_type='SMALLINT', nullable=True, is_primary_key=False, is_foreign_key=False, ai_name='placeholder', description='placeholder', keywords=['placeholder'], distinct_values=['1', '4', '8', '3', '6', '2', '7', '5'], relationships=[], type='column'), 'quantity_per_unit': ColumnMetadata(name='quantity_per_unit', table='products', data_type='VARCHAR(20)', nullable=True, is_primary_key=False, is_foreign_key=False, ai_name='placeholder', description='placeholder', keywords=['placeholder'], distinct_values=['16 - 2 kg boxes', '10 kg pkg.', '48 pieces', '18 - 500 g pkgs.', '10 boxes x 12 pieces', '12 - 200 ml jars', '15 - 625 g jars', '24 pkgs. x 4 pieces', '16 kg pkg.', '10 boxes x 30 bags'], relationships=[], type='column'), 'unit_price': ColumnMetadata(name='unit_price', table='products', data_type='REAL', nullable=True, is_primary_key=False, is_foreign_key=False, ai_name='placeholder', description='placeholder', keywords=['placeholder'], distinct_values=['4.5', '7.75', '19.5', '32.8', '13', '21.35', '28.5', '39', '19', '20'], relationships=[], type='column'), 'units_in_stock': ColumnMetadata(name='units_in_stock', table='products', data_type='SMALLINT', nullable=True, is_primary_key=False, is_foreign_key=False, ai_name='placeholder', description='placeholder', keywords=['placeholder'], distinct_values=['26', '42', '62', '123', '49', '69', '10', '13', '15', '52'], relationships=[], type='column'), 'units_on_order': ColumnMetadata(name='units_on_order', table='products', data_type='SMALLINT', nullable=True, is_primary_key=False, is_foreign_key=False, ai_name='placeholder', description='placeholder', keywords=['placeholder'], distinct_values=['10', '50', '60', '30', '40', '0', '100', '20', '80', '70'], relationships=[], type='column'), 'reorder_level': ColumnMetadata(name='reorder_level', table='products', data_type='SMALLINT', nullable=True, is_primary_key=False, is_foreign_key=False, ai_name='placeholder', description='placeholder', keywords=['placeholder'], distinct_values=['10', '15', '5', '30', '0', '20', '25'], relationships=[], type='column'), 'discontinued': ColumnMetadata(name='discontinued', table='products', data_type='INTEGER', nullable=False, is_primary_key=False, is_foreign_key=False, ai_name='placeholder', description='placeholder', keywords=['placeholder'], distinct_values=['1', '0'], relationships=[], type='column')}, 'categories': {'category_id': ColumnMetadata(name='category_id', table='categories', data_type='SMALLINT', nullable=False, is_primary_key=False, is_foreign_key=False, ai_name='placeholder', description='placeholder', keywords=['placeholder'], distinct_values=['1', '4', '8', '6', '3', '2', '7', '5'], relationships=[], type='column'), 'category_name': ColumnMetadata(name='category_name', table='categories', data_type='VARCHAR(15)', nullable=False, is_primary_key=False, is_foreign_key=False, ai_name='placeholder', description='placeholder', keywords=['placeholder'], distinct_values=['Beverages', 'Produce', 'Condiments', 'Grains/Cereals', 'Meat/Poultry', 'Dairy Products', 'Confections', 'Seafood'], relationships=[], type='column'), 'description': ColumnMetadata(name='description', table='categories', data_type='TEXT', nullable=True, is_primary_key=False, is_foreign_key=False, ai_name='placeholder', description='placeholder', keywords=['placeholder'], distinct_values=['Desserts, candies, and sweet breads', 'Seaweed and fish', 'Breads, crackers, pasta, and cereal', 'Dried fruit and bean curd', 'Prepared meats', 'Soft drinks, coffees, teas, beers, and ales', 'Sweet and savory sauces, relishes, spreads, and seasonings', 'Cheeses'], relationships=[], type='column'), 'picture': ColumnMetadata(name='picture', table='categories', data_type='BYTEA', nullable=True, is_primary_key=False, is_foreign_key=False, ai_name='placeholder', description='placeholder', keywords=['placeholder'], distinct_values=['\\\\x'], relationships=[], type='column')}, 'suppliers': {'supplier_id': ColumnMetadata(name='supplier_id', table='suppliers', data_type='SMALLINT', nullable=False, is_primary_key=False, is_foreign_key=False, ai_name='placeholder', description='placeholder', keywords=['placeholder'], distinct_values=['8', '12', '10', '7', '13', '28', '15', '5', '19', '23'], relationships=[], type='column'), 'company_name': ColumnMetadata(name='company_name', table='suppliers', data_type='VARCHAR(40)', nullable=False, is_primary_key=False, is_foreign_key=False, ai_name='placeholder', description='placeholder', keywords=['placeholder'], distinct_values=['Heli Süßwaren GmbH & Co. KG', 'New Orleans Cajun Delights', 'Escargots Nouveaux', 'New England Seafood Cannery', \"Grandma Kelly's Homestead\", 'Pavlova, Ltd.', 'Gai pâturage', 'Svensk Sjöföda AB', 'Leka Trading', 'Refrescos Americanas LTDA'], relationships=[], type='column'), 'contact_name': ColumnMetadata(name='contact_name', table='suppliers', data_type='VARCHAR(30)', nullable=True, is_primary_key=False, is_foreign_key=False, ai_name='placeholder', description='placeholder', keywords=['placeholder'], distinct_values=['Charlotte Cooper', 'Chandra Leka', 'Antonio del Valle Saavedra', 'Yoshi Nagase', 'Wendy Mackenzie', 'Robb Merchant', 'Martin Bein', 'Lars Peterson', 'Shelley Burke', 'Peter Wilson'], relationships=[], type='column'), 'contact_title': ColumnMetadata(name='contact_title', table='suppliers', data_type='VARCHAR(30)', nullable=True, is_primary_key=False, is_foreign_key=False, ai_name='placeholder', description='placeholder', keywords=['placeholder'], distinct_values=['Accounting Manager', 'Export Administrator', 'Marketing Representative', 'Marketing Manager', 'Purchasing Manager', 'Sales Manager', 'Owner', 'Regional Account Rep.', 'Wholesale Account Agent', 'Coordinator Foreign Markets'], relationships=[], type='column'), 'address': ColumnMetadata(name='address', table='suppliers', data_type='VARCHAR(60)', nullable=True, is_primary_key=False, is_foreign_key=False, ai_name='placeholder', description='placeholder', keywords=['placeholder'], distinct_values=['Brovallavägen 231', '471 Serangoon Loop, Suite #402', \"170 Prince Edward Parade Hunter's Hill\", 'Via dei Gelsomini, 153', '203, Rue des Francs-Bourgeois', 'Calle del Rosal 4', 'P.O. Box 78934', 'Hatlevegen 5', '49 Gilbert St.', 'Bat. B 3, rue des Alpes'], relationships=[], type='column'), 'city': ColumnMetadata(name='city', table='suppliers', data_type='VARCHAR(15)', nullable=True, is_primary_key=False, is_foreign_key=False, ai_name='placeholder', description='placeholder', keywords=['placeholder'], distinct_values=['Ste-Hyacinthe', 'Lyngby', 'Paris', 'London', 'Sydney', 'Ravenna', 'Tokyo', 'Salerno', 'Berlin', 'Zaandam'], relationships=[], type='column'), 'region': ColumnMetadata(name='region', table='suppliers', data_type='VARCHAR(15)', nullable=True, is_primary_key=False, is_foreign_key=False, ai_name='placeholder', description='placeholder', keywords=['placeholder'], distinct_values=['OR', 'LA', 'MI', 'MA', 'NSW', 'Victoria', 'Asturias', 'Québec'], relationships=[], type='column'), 'postal_code': ColumnMetadata(name='postal_code', table='suppliers', data_type='VARCHAR(10)', nullable=True, is_primary_key=False, is_foreign_key=False, ai_name='placeholder', description='placeholder', keywords=['placeholder'], distinct_values=['2800', '5442', '2042', '48104', 'J2S 7S8', '75004', '1320', '97101', '27478', '3058'], relationships=[], type='column'), 'country': ColumnMetadata(name='country', table='suppliers', data_type='VARCHAR(15)', nullable=True, is_primary_key=False, is_foreign_key=False, ai_name='placeholder', description='placeholder', keywords=['placeholder'], distinct_values=['Spain', 'Italy', 'Norway', 'Sweden', 'France', 'USA', 'Netherlands', 'Brazil', 'Australia', 'UK'], relationships=[], type='column'), 'phone': ColumnMetadata(name='phone', table='suppliers', data_type='VARCHAR(24)', nullable=True, is_primary_key=False, is_foreign_key=False, ai_name='placeholder', description='placeholder', keywords=['placeholder'], distinct_values=['(617) 555-3267', '(12345) 1212', '(0)2-953010', '38.76.98.06', '(98) 598 76 54', '(03) 444-2343', '(069) 992755', '(03) 3555-5011', '85.57.00.07', '(04721) 8713'], relationships=[], type='column'), 'fax': ColumnMetadata(name='fax', table='suppliers', data_type='VARCHAR(24)', nullable=True, is_primary_key=False, is_foreign_key=False, ai_name='placeholder', description='placeholder', keywords=['placeholder'], distinct_values=['(04721) 8714', '(1) 03.83.00.62', '(617) 555-3389', '(03) 444-6588', '38.76.98.58', '(089) 6547667', '(313) 555-3349', '(514) 555-2921', '(12345) 1210', '(02) 555-4873'], relationships=[], type='column'), 'homepage': ColumnMetadata(name='homepage', table='suppliers', data_type='TEXT', nullable=True, is_primary_key=False, is_foreign_key=False, ai_name='placeholder', description='placeholder', keywords=['placeholder'], distinct_values=[\"G'day Mate (on the World Wide Web)#http://www.microsoft.com/accessdev/sampleapps/gdaymate.htm#\", '#FORMAGGI.HTM#', '#CAJUN.HTM#', 'Plutzer (on the World Wide Web)#http://www.microsoft.com/accessdev/sampleapps/plutzer.htm#', \"Mayumi's (on the World Wide Web)#http://www.microsoft.com/accessdev/sampleapps/mayumi.htm#\"], relationships=[], type='column')}, 'region': {'region_id': ColumnMetadata(name='region_id', table='region', data_type='SMALLINT', nullable=False, is_primary_key=False, is_foreign_key=False, ai_name='placeholder', description='placeholder', keywords=['placeholder'], distinct_values=['1', '2', '3', '4'], relationships=[], type='column'), 'region_description': ColumnMetadata(name='region_description', table='region', data_type='VARCHAR(60)', nullable=False, is_primary_key=False, is_foreign_key=False, ai_name='placeholder', description='placeholder', keywords=['placeholder'], distinct_values=['Eastern', 'Southern', 'Western', 'Northern'], relationships=[], type='column')}, 'customer_demographics': {'customer_type_id': ColumnMetadata(name='customer_type_id', table='customer_demographics', data_type='VARCHAR(5)', nullable=False, is_primary_key=False, is_foreign_key=False, ai_name='placeholder', description='placeholder', keywords=['placeholder'], distinct_values=[], relationships=[], type='column'), 'customer_desc': ColumnMetadata(name='customer_desc', table='customer_demographics', data_type='TEXT', nullable=True, is_primary_key=False, is_foreign_key=False, ai_name='placeholder', description='placeholder', keywords=['placeholder'], distinct_values=[], relationships=[], type='column')}, 'customer_customer_demo': {'customer_id': ColumnMetadata(name='customer_id', table='customer_customer_demo', data_type='VARCHAR(5)', nullable=False, is_primary_key=False, is_foreign_key=False, ai_name='placeholder', description='placeholder', keywords=['placeholder'], distinct_values=[], relationships=[], type='column'), 'customer_type_id': ColumnMetadata(name='customer_type_id', table='customer_customer_demo', data_type='VARCHAR(5)', nullable=False, is_primary_key=False, is_foreign_key=False, ai_name='placeholder', description='placeholder', keywords=['placeholder'], distinct_values=[], relationships=[], type='column')}}, queries={})"
      ]
     },
     "execution_count": 7,
     "metadata": {},
     "output_type": "execute_result"
    }
   ],
   "source": [
    "metadata"
   ]
  },
  {
   "cell_type": "code",
   "execution_count": 8,
   "metadata": {},
   "outputs": [
    {
     "name": "stderr",
     "output_type": "stream",
     "text": [
      "INFO:hey-database:Initializing vector store collection\n",
      "INFO:hey-database:Creating new collection: northwind\n",
      "INFO:hey-database:Collection northwind created successfully\n",
      "INFO:hey-database:Syncing metadata to vector store (collection is empty)\n",
      "INFO:httpx:HTTP Request: POST https://api.openai.com/v1/embeddings \"HTTP/1.1 200 OK\"\n",
      "INFO:httpx:HTTP Request: POST https://api.openai.com/v1/embeddings \"HTTP/1.1 200 OK\"\n",
      "INFO:httpx:HTTP Request: POST https://api.openai.com/v1/embeddings \"HTTP/1.1 200 OK\"\n",
      "INFO:httpx:HTTP Request: POST https://api.openai.com/v1/embeddings \"HTTP/1.1 200 OK\"\n",
      "INFO:httpx:HTTP Request: POST https://api.openai.com/v1/embeddings \"HTTP/1.1 200 OK\"\n",
      "INFO:httpx:HTTP Request: POST https://api.openai.com/v1/embeddings \"HTTP/1.1 200 OK\"\n",
      "INFO:httpx:HTTP Request: POST https://api.openai.com/v1/embeddings \"HTTP/1.1 200 OK\"\n",
      "INFO:httpx:HTTP Request: POST https://api.openai.com/v1/embeddings \"HTTP/1.1 200 OK\"\n",
      "INFO:httpx:HTTP Request: POST https://api.openai.com/v1/embeddings \"HTTP/1.1 200 OK\"\n",
      "INFO:httpx:HTTP Request: POST https://api.openai.com/v1/embeddings \"HTTP/1.1 200 OK\"\n",
      "INFO:httpx:HTTP Request: POST https://api.openai.com/v1/embeddings \"HTTP/1.1 200 OK\"\n",
      "INFO:httpx:HTTP Request: POST https://api.openai.com/v1/embeddings \"HTTP/1.1 200 OK\"\n",
      "INFO:httpx:HTTP Request: POST https://api.openai.com/v1/embeddings \"HTTP/1.1 200 OK\"\n",
      "INFO:httpx:HTTP Request: POST https://api.openai.com/v1/embeddings \"HTTP/1.1 200 OK\"\n",
      "INFO:httpx:HTTP Request: POST https://api.openai.com/v1/embeddings \"HTTP/1.1 200 OK\"\n",
      "INFO:httpx:HTTP Request: POST https://api.openai.com/v1/embeddings \"HTTP/1.1 200 OK\"\n",
      "INFO:httpx:HTTP Request: POST https://api.openai.com/v1/embeddings \"HTTP/1.1 200 OK\"\n",
      "INFO:httpx:HTTP Request: POST https://api.openai.com/v1/embeddings \"HTTP/1.1 200 OK\"\n",
      "INFO:httpx:HTTP Request: POST https://api.openai.com/v1/embeddings \"HTTP/1.1 200 OK\"\n",
      "INFO:httpx:HTTP Request: POST https://api.openai.com/v1/embeddings \"HTTP/1.1 200 OK\"\n",
      "INFO:httpx:HTTP Request: POST https://api.openai.com/v1/embeddings \"HTTP/1.1 200 OK\"\n",
      "INFO:httpx:HTTP Request: POST https://api.openai.com/v1/embeddings \"HTTP/1.1 200 OK\"\n",
      "INFO:httpx:HTTP Request: POST https://api.openai.com/v1/embeddings \"HTTP/1.1 200 OK\"\n",
      "INFO:httpx:HTTP Request: POST https://api.openai.com/v1/embeddings \"HTTP/1.1 200 OK\"\n",
      "INFO:httpx:HTTP Request: POST https://api.openai.com/v1/embeddings \"HTTP/1.1 200 OK\"\n",
      "INFO:httpx:HTTP Request: POST https://api.openai.com/v1/embeddings \"HTTP/1.1 200 OK\"\n",
      "INFO:httpx:HTTP Request: POST https://api.openai.com/v1/embeddings \"HTTP/1.1 200 OK\"\n",
      "INFO:httpx:HTTP Request: POST https://api.openai.com/v1/embeddings \"HTTP/1.1 200 OK\"\n",
      "INFO:httpx:HTTP Request: POST https://api.openai.com/v1/embeddings \"HTTP/1.1 200 OK\"\n",
      "INFO:httpx:HTTP Request: POST https://api.openai.com/v1/embeddings \"HTTP/1.1 200 OK\"\n",
      "INFO:httpx:HTTP Request: POST https://api.openai.com/v1/embeddings \"HTTP/1.1 200 OK\"\n",
      "INFO:httpx:HTTP Request: POST https://api.openai.com/v1/embeddings \"HTTP/1.1 200 OK\"\n",
      "INFO:httpx:HTTP Request: POST https://api.openai.com/v1/embeddings \"HTTP/1.1 200 OK\"\n",
      "INFO:httpx:HTTP Request: POST https://api.openai.com/v1/embeddings \"HTTP/1.1 200 OK\"\n",
      "INFO:httpx:HTTP Request: POST https://api.openai.com/v1/embeddings \"HTTP/1.1 200 OK\"\n",
      "INFO:httpx:HTTP Request: POST https://api.openai.com/v1/embeddings \"HTTP/1.1 200 OK\"\n",
      "INFO:httpx:HTTP Request: POST https://api.openai.com/v1/embeddings \"HTTP/1.1 200 OK\"\n",
      "INFO:httpx:HTTP Request: POST https://api.openai.com/v1/embeddings \"HTTP/1.1 200 OK\"\n",
      "INFO:httpx:HTTP Request: POST https://api.openai.com/v1/embeddings \"HTTP/1.1 200 OK\"\n",
      "INFO:httpx:HTTP Request: POST https://api.openai.com/v1/embeddings \"HTTP/1.1 200 OK\"\n",
      "INFO:httpx:HTTP Request: POST https://api.openai.com/v1/embeddings \"HTTP/1.1 200 OK\"\n",
      "INFO:httpx:HTTP Request: POST https://api.openai.com/v1/embeddings \"HTTP/1.1 200 OK\"\n",
      "INFO:httpx:HTTP Request: POST https://api.openai.com/v1/embeddings \"HTTP/1.1 200 OK\"\n",
      "INFO:httpx:HTTP Request: POST https://api.openai.com/v1/embeddings \"HTTP/1.1 200 OK\"\n",
      "INFO:httpx:HTTP Request: POST https://api.openai.com/v1/embeddings \"HTTP/1.1 200 OK\"\n",
      "INFO:httpx:HTTP Request: POST https://api.openai.com/v1/embeddings \"HTTP/1.1 200 OK\"\n",
      "INFO:httpx:HTTP Request: POST https://api.openai.com/v1/embeddings \"HTTP/1.1 200 OK\"\n",
      "INFO:httpx:HTTP Request: POST https://api.openai.com/v1/embeddings \"HTTP/1.1 200 OK\"\n",
      "INFO:httpx:HTTP Request: POST https://api.openai.com/v1/embeddings \"HTTP/1.1 200 OK\"\n",
      "INFO:httpx:HTTP Request: POST https://api.openai.com/v1/embeddings \"HTTP/1.1 200 OK\"\n",
      "INFO:httpx:HTTP Request: POST https://api.openai.com/v1/embeddings \"HTTP/1.1 200 OK\"\n",
      "INFO:httpx:HTTP Request: POST https://api.openai.com/v1/embeddings \"HTTP/1.1 200 OK\"\n",
      "INFO:httpx:HTTP Request: POST https://api.openai.com/v1/embeddings \"HTTP/1.1 200 OK\"\n",
      "INFO:httpx:HTTP Request: POST https://api.openai.com/v1/embeddings \"HTTP/1.1 200 OK\"\n",
      "INFO:httpx:HTTP Request: POST https://api.openai.com/v1/embeddings \"HTTP/1.1 200 OK\"\n",
      "INFO:httpx:HTTP Request: POST https://api.openai.com/v1/embeddings \"HTTP/1.1 200 OK\"\n",
      "INFO:httpx:HTTP Request: POST https://api.openai.com/v1/embeddings \"HTTP/1.1 200 OK\"\n",
      "INFO:httpx:HTTP Request: POST https://api.openai.com/v1/embeddings \"HTTP/1.1 200 OK\"\n",
      "INFO:httpx:HTTP Request: POST https://api.openai.com/v1/embeddings \"HTTP/1.1 200 OK\"\n",
      "INFO:httpx:HTTP Request: POST https://api.openai.com/v1/embeddings \"HTTP/1.1 200 OK\"\n",
      "INFO:httpx:HTTP Request: POST https://api.openai.com/v1/embeddings \"HTTP/1.1 200 OK\"\n",
      "INFO:httpx:HTTP Request: POST https://api.openai.com/v1/embeddings \"HTTP/1.1 200 OK\"\n",
      "INFO:httpx:HTTP Request: POST https://api.openai.com/v1/embeddings \"HTTP/1.1 200 OK\"\n",
      "INFO:httpx:HTTP Request: POST https://api.openai.com/v1/embeddings \"HTTP/1.1 200 OK\"\n",
      "INFO:httpx:HTTP Request: POST https://api.openai.com/v1/embeddings \"HTTP/1.1 200 OK\"\n",
      "INFO:httpx:HTTP Request: POST https://api.openai.com/v1/embeddings \"HTTP/1.1 200 OK\"\n",
      "INFO:httpx:HTTP Request: POST https://api.openai.com/v1/embeddings \"HTTP/1.1 200 OK\"\n",
      "INFO:httpx:HTTP Request: POST https://api.openai.com/v1/embeddings \"HTTP/1.1 200 OK\"\n",
      "INFO:httpx:HTTP Request: POST https://api.openai.com/v1/embeddings \"HTTP/1.1 200 OK\"\n",
      "INFO:httpx:HTTP Request: POST https://api.openai.com/v1/embeddings \"HTTP/1.1 200 OK\"\n",
      "INFO:httpx:HTTP Request: POST https://api.openai.com/v1/embeddings \"HTTP/1.1 200 OK\"\n",
      "INFO:httpx:HTTP Request: POST https://api.openai.com/v1/embeddings \"HTTP/1.1 200 OK\"\n",
      "INFO:httpx:HTTP Request: POST https://api.openai.com/v1/embeddings \"HTTP/1.1 200 OK\"\n",
      "INFO:httpx:HTTP Request: POST https://api.openai.com/v1/embeddings \"HTTP/1.1 200 OK\"\n",
      "INFO:httpx:HTTP Request: POST https://api.openai.com/v1/embeddings \"HTTP/1.1 200 OK\"\n",
      "INFO:httpx:HTTP Request: POST https://api.openai.com/v1/embeddings \"HTTP/1.1 200 OK\"\n",
      "INFO:httpx:HTTP Request: POST https://api.openai.com/v1/embeddings \"HTTP/1.1 200 OK\"\n",
      "INFO:httpx:HTTP Request: POST https://api.openai.com/v1/embeddings \"HTTP/1.1 200 OK\"\n",
      "INFO:httpx:HTTP Request: POST https://api.openai.com/v1/embeddings \"HTTP/1.1 200 OK\"\n",
      "INFO:httpx:HTTP Request: POST https://api.openai.com/v1/embeddings \"HTTP/1.1 200 OK\"\n",
      "INFO:httpx:HTTP Request: POST https://api.openai.com/v1/embeddings \"HTTP/1.1 200 OK\"\n",
      "INFO:httpx:HTTP Request: POST https://api.openai.com/v1/embeddings \"HTTP/1.1 200 OK\"\n",
      "INFO:httpx:HTTP Request: POST https://api.openai.com/v1/embeddings \"HTTP/1.1 200 OK\"\n",
      "INFO:httpx:HTTP Request: POST https://api.openai.com/v1/embeddings \"HTTP/1.1 200 OK\"\n",
      "INFO:httpx:HTTP Request: POST https://api.openai.com/v1/embeddings \"HTTP/1.1 200 OK\"\n",
      "INFO:httpx:HTTP Request: POST https://api.openai.com/v1/embeddings \"HTTP/1.1 200 OK\"\n",
      "INFO:httpx:HTTP Request: POST https://api.openai.com/v1/embeddings \"HTTP/1.1 200 OK\"\n",
      "INFO:httpx:HTTP Request: POST https://api.openai.com/v1/embeddings \"HTTP/1.1 200 OK\"\n",
      "INFO:httpx:HTTP Request: POST https://api.openai.com/v1/embeddings \"HTTP/1.1 200 OK\"\n",
      "INFO:httpx:HTTP Request: POST https://api.openai.com/v1/embeddings \"HTTP/1.1 200 OK\"\n",
      "INFO:httpx:HTTP Request: POST https://api.openai.com/v1/embeddings \"HTTP/1.1 200 OK\"\n",
      "INFO:httpx:HTTP Request: POST https://api.openai.com/v1/embeddings \"HTTP/1.1 200 OK\"\n",
      "INFO:httpx:HTTP Request: POST https://api.openai.com/v1/embeddings \"HTTP/1.1 200 OK\"\n",
      "INFO:httpx:HTTP Request: POST https://api.openai.com/v1/embeddings \"HTTP/1.1 200 OK\"\n",
      "INFO:httpx:HTTP Request: POST https://api.openai.com/v1/embeddings \"HTTP/1.1 200 OK\"\n",
      "INFO:httpx:HTTP Request: POST https://api.openai.com/v1/embeddings \"HTTP/1.1 200 OK\"\n",
      "INFO:httpx:HTTP Request: POST https://api.openai.com/v1/embeddings \"HTTP/1.1 200 OK\"\n",
      "INFO:httpx:HTTP Request: POST https://api.openai.com/v1/embeddings \"HTTP/1.1 200 OK\"\n",
      "INFO:httpx:HTTP Request: POST https://api.openai.com/v1/embeddings \"HTTP/1.1 200 OK\"\n",
      "INFO:httpx:HTTP Request: POST https://api.openai.com/v1/embeddings \"HTTP/1.1 200 OK\"\n",
      "INFO:httpx:HTTP Request: POST https://api.openai.com/v1/embeddings \"HTTP/1.1 200 OK\"\n",
      "INFO:httpx:HTTP Request: POST https://api.openai.com/v1/embeddings \"HTTP/1.1 200 OK\"\n",
      "INFO:httpx:HTTP Request: POST https://api.openai.com/v1/embeddings \"HTTP/1.1 200 OK\"\n",
      "INFO:httpx:HTTP Request: POST https://api.openai.com/v1/embeddings \"HTTP/1.1 200 OK\"\n",
      "INFO:httpx:HTTP Request: POST https://api.openai.com/v1/embeddings \"HTTP/1.1 200 OK\"\n",
      "INFO:httpx:HTTP Request: POST https://api.openai.com/v1/embeddings \"HTTP/1.1 200 OK\"\n",
      "INFO:hey-database:Vector store initialization completed successfully\n"
     ]
    },
    {
     "data": {
      "text/plain": [
       "True"
      ]
     },
     "execution_count": 8,
     "metadata": {},
     "output_type": "execute_result"
    }
   ],
   "source": [
    "from src.store.vectorstore_startup import VectorStoreStartup\n",
    "\n",
    "vector_store_startup = VectorStoreStartup(app_components.vector_store, app_components.vector_store_writer)\n",
    "vector_store_startup.initialize(metadata)"
   ]
  },
  {
   "cell_type": "code",
   "execution_count": 9,
   "metadata": {},
   "outputs": [
    {
     "name": "stderr",
     "output_type": "stream",
     "text": [
      "INFO:httpx:HTTP Request: POST https://api.openai.com/v1/embeddings \"HTTP/1.1 200 OK\"\n",
      "INFO:hey-database:Table search results count: 3\n"
     ]
    },
    {
     "data": {
      "text/plain": [
       "[TableSearchResult(id='c934f6fc-dda8-5e04-83de-dfbdecb3e563', similarity_score=0.4262426402108602, name='employee_territories', columns=['employee_id', 'territory_id'], primary_keys=['employee_id', 'territory_id'], foreign_keys=[{'constrained_columns': ['employee_id'], 'referred_table': 'employees', 'referred_columns': ['employee_id']}, {'constrained_columns': ['territory_id'], 'referred_table': 'territories', 'referred_columns': ['territory_id']}], row_count=49, description='placeholder', keywords=['placeholder'], importance_score=0.9),\n",
       " TableSearchResult(id='1307c9b0-9625-5b0b-bd8e-4b7694275d1d', similarity_score=0.4176551145121873, name='employees', columns=['employee_id', 'last_name', 'first_name', 'title', 'title_of_courtesy', 'birth_date', 'hire_date', 'address', 'city', 'region', 'postal_code', 'country', 'home_phone', 'extension', 'photo', 'notes', 'reports_to', 'photo_path'], primary_keys=['employee_id'], foreign_keys=[{'constrained_columns': ['reports_to'], 'referred_table': 'employees', 'referred_columns': ['employee_id']}], row_count=9, description='placeholder', keywords=['placeholder'], importance_score=1.0),\n",
       " TableSearchResult(id='eea8afab-b4ed-5c21-90b4-c39681748c58', similarity_score=0.2988477903942018, name='suppliers', columns=['supplier_id', 'company_name', 'contact_name', 'contact_title', 'address', 'city', 'region', 'postal_code', 'country', 'phone', 'fax', 'homepage'], primary_keys=['supplier_id'], foreign_keys=[], row_count=29, description='placeholder', keywords=['placeholder'], importance_score=1.0)]"
      ]
     },
     "execution_count": 9,
     "metadata": {},
     "output_type": "execute_result"
    }
   ],
   "source": [
    "searcher = app_components.vector_store_searcher\n",
    "\n",
    "tables = searcher.search_tables(\"where i can find employees?\")\n",
    "tables"
   ]
  },
  {
   "cell_type": "code",
   "execution_count": 10,
   "metadata": {},
   "outputs": [
    {
     "data": {
      "text/plain": [
       "TableSearchResult(id='c934f6fc-dda8-5e04-83de-dfbdecb3e563', similarity_score=0.4262426402108602, name='employee_territories', columns=['employee_id', 'territory_id'], primary_keys=['employee_id', 'territory_id'], foreign_keys=[{'constrained_columns': ['employee_id'], 'referred_table': 'employees', 'referred_columns': ['employee_id']}, {'constrained_columns': ['territory_id'], 'referred_table': 'territories', 'referred_columns': ['territory_id']}], row_count=49, description='placeholder', keywords=['placeholder'], importance_score=0.9)"
      ]
     },
     "execution_count": 10,
     "metadata": {},
     "output_type": "execute_result"
    }
   ],
   "source": [
    "tables[0]"
   ]
  },
  {
   "cell_type": "code",
   "execution_count": 11,
   "metadata": {},
   "outputs": [],
   "source": [
    "from src.services.chat_service import ChatService\n",
    "\n",
    "chat_service = ChatService(\n",
    "    recipes_collection=app_components.recipes_collection,\n",
    "    vector_store=app_components.vector_store,\n",
    ")"
   ]
  },
  {
   "cell_type": "code",
   "execution_count": 12,
   "metadata": {},
   "outputs": [
    {
     "name": "stderr",
     "output_type": "stream",
     "text": [
      "INFO:httpx:HTTP Request: POST https://api.openai.com/v1/embeddings \"HTTP/1.1 200 OK\"\n",
      "INFO:hey-database:Table search results count: 3\n",
      "INFO:httpx:HTTP Request: POST https://api.openai.com/v1/embeddings \"HTTP/1.1 200 OK\"\n",
      "INFO:hey-database:Column search results count: 5\n",
      "INFO:httpx:HTTP Request: POST https://api.openai.com/v1/embeddings \"HTTP/1.1 200 OK\"\n",
      "INFO:hey-database:Query search results count: 0\n",
      "INFO:httpx:HTTP Request: POST https://api.openai.com/v1/chat/completions \"HTTP/1.1 200 OK\"\n"
     ]
    },
    {
     "data": {
      "text/plain": [
       "{'success': True,\n",
       " 'query': 'SELECT * FROM northwind.employees LIMIT 5',\n",
       " 'explanation': 'This query retrieves the first 5 records from the employees table in the northwind schema. The result will include various details about the employees, such as their employee_id, last_name, first_name, title, and other relevant information.',\n",
       " 'results': [{'employee_id': 1,\n",
       "   'last_name': 'Davolio',\n",
       "   'first_name': 'Nancy',\n",
       "   'title': 'Sales Representative',\n",
       "   'title_of_courtesy': 'Ms.',\n",
       "   'birth_date': datetime.date(1948, 12, 8),\n",
       "   'hire_date': datetime.date(1992, 5, 1),\n",
       "   'address': '507 - 20th Ave. E.\\\\nApt. 2A',\n",
       "   'city': 'Seattle',\n",
       "   'region': 'WA',\n",
       "   'postal_code': '98122',\n",
       "   'country': 'USA',\n",
       "   'home_phone': '(206) 555-9857',\n",
       "   'extension': '5467',\n",
       "   'photo': <memory at 0x307936e00>,\n",
       "   'notes': 'Education includes a BA in psychology from Colorado State University in 1970.  She also completed The Art of the Cold Call.  Nancy is a member of Toastmasters International.',\n",
       "   'reports_to': 2,\n",
       "   'photo_path': 'http://accweb/emmployees/davolio.bmp'},\n",
       "  {'employee_id': 2,\n",
       "   'last_name': 'Fuller',\n",
       "   'first_name': 'Andrew',\n",
       "   'title': 'Vice President, Sales',\n",
       "   'title_of_courtesy': 'Dr.',\n",
       "   'birth_date': datetime.date(1952, 2, 19),\n",
       "   'hire_date': datetime.date(1992, 8, 14),\n",
       "   'address': '908 W. Capital Way',\n",
       "   'city': 'Tacoma',\n",
       "   'region': 'WA',\n",
       "   'postal_code': '98401',\n",
       "   'country': 'USA',\n",
       "   'home_phone': '(206) 555-9482',\n",
       "   'extension': '3457',\n",
       "   'photo': <memory at 0x307936f80>,\n",
       "   'notes': 'Andrew received his BTS commercial in 1974 and a Ph.D. in international marketing from the University of Dallas in 1981.  He is fluent in French and Italian and reads German.  He joined the company as a sales representative, was promoted to sales manager in January 1992 and to vice president of sales in March 1993.  Andrew is a member of the Sales Management Roundtable, the Seattle Chamber of Commerce, and the Pacific Rim Importers Association.',\n",
       "   'reports_to': None,\n",
       "   'photo_path': 'http://accweb/emmployees/fuller.bmp'},\n",
       "  {'employee_id': 3,\n",
       "   'last_name': 'Leverling',\n",
       "   'first_name': 'Janet',\n",
       "   'title': 'Sales Representative',\n",
       "   'title_of_courtesy': 'Ms.',\n",
       "   'birth_date': datetime.date(1963, 8, 30),\n",
       "   'hire_date': datetime.date(1992, 4, 1),\n",
       "   'address': '722 Moss Bay Blvd.',\n",
       "   'city': 'Kirkland',\n",
       "   'region': 'WA',\n",
       "   'postal_code': '98033',\n",
       "   'country': 'USA',\n",
       "   'home_phone': '(206) 555-3412',\n",
       "   'extension': '3355',\n",
       "   'photo': <memory at 0x307937100>,\n",
       "   'notes': 'Janet has a BS degree in chemistry from Boston College (1984).  She has also completed a certificate program in food retailing management.  Janet was hired as a sales associate in 1991 and promoted to sales representative in February 1992.',\n",
       "   'reports_to': 2,\n",
       "   'photo_path': 'http://accweb/emmployees/leverling.bmp'},\n",
       "  {'employee_id': 4,\n",
       "   'last_name': 'Peacock',\n",
       "   'first_name': 'Margaret',\n",
       "   'title': 'Sales Representative',\n",
       "   'title_of_courtesy': 'Mrs.',\n",
       "   'birth_date': datetime.date(1937, 9, 19),\n",
       "   'hire_date': datetime.date(1993, 5, 3),\n",
       "   'address': '4110 Old Redmond Rd.',\n",
       "   'city': 'Redmond',\n",
       "   'region': 'WA',\n",
       "   'postal_code': '98052',\n",
       "   'country': 'USA',\n",
       "   'home_phone': '(206) 555-8122',\n",
       "   'extension': '5176',\n",
       "   'photo': <memory at 0x307936980>,\n",
       "   'notes': 'Margaret holds a BA in English literature from Concordia College (1958) and an MA from the American Institute of Culinary Arts (1966).  She was assigned to the London office temporarily from July through November 1992.',\n",
       "   'reports_to': 2,\n",
       "   'photo_path': 'http://accweb/emmployees/peacock.bmp'},\n",
       "  {'employee_id': 5,\n",
       "   'last_name': 'Buchanan',\n",
       "   'first_name': 'Steven',\n",
       "   'title': 'Sales Manager',\n",
       "   'title_of_courtesy': 'Mr.',\n",
       "   'birth_date': datetime.date(1955, 3, 4),\n",
       "   'hire_date': datetime.date(1993, 10, 17),\n",
       "   'address': '14 Garrett Hill',\n",
       "   'city': 'London',\n",
       "   'region': None,\n",
       "   'postal_code': 'SW1 8JR',\n",
       "   'country': 'UK',\n",
       "   'home_phone': '(71) 555-4848',\n",
       "   'extension': '3453',\n",
       "   'photo': <memory at 0x3079368c0>,\n",
       "   'notes': 'Steven Buchanan graduated from St. Andrews University, Scotland, with a BSC degree in 1976.  Upon joining the company as a sales representative in 1992, he spent 6 months in an orientation program at the Seattle office and then returned to his permanent post in London.  He was promoted to sales manager in March 1993.  Mr. Buchanan has completed the courses Successful Telemarketing and International Sales Management.  He is fluent in French.',\n",
       "   'reports_to': 2,\n",
       "   'photo_path': 'http://accweb/emmployees/buchanan.bmp'}],\n",
       " 'preview': [{'employee_id': 1,\n",
       "   'last_name': 'Davolio',\n",
       "   'first_name': 'Nancy',\n",
       "   'title': 'Sales Representative',\n",
       "   'title_of_courtesy': 'Ms.',\n",
       "   'birth_date': datetime.date(1948, 12, 8),\n",
       "   'hire_date': datetime.date(1992, 5, 1),\n",
       "   'address': '507 - 20th Ave. E.\\\\nApt. 2A',\n",
       "   'city': 'Seattle',\n",
       "   'region': 'WA',\n",
       "   'postal_code': '98122',\n",
       "   'country': 'USA',\n",
       "   'home_phone': '(206) 555-9857',\n",
       "   'extension': '5467',\n",
       "   'photo': <memory at 0x307936e00>,\n",
       "   'notes': 'Education includes a BA in psychology from Colorado State University in 1970.  She also completed The Art of the Cold Call.  Nancy is a member of Toastmasters International.',\n",
       "   'reports_to': 2,\n",
       "   'photo_path': 'http://accweb/emmployees/davolio.bmp'},\n",
       "  {'employee_id': 2,\n",
       "   'last_name': 'Fuller',\n",
       "   'first_name': 'Andrew',\n",
       "   'title': 'Vice President, Sales',\n",
       "   'title_of_courtesy': 'Dr.',\n",
       "   'birth_date': datetime.date(1952, 2, 19),\n",
       "   'hire_date': datetime.date(1992, 8, 14),\n",
       "   'address': '908 W. Capital Way',\n",
       "   'city': 'Tacoma',\n",
       "   'region': 'WA',\n",
       "   'postal_code': '98401',\n",
       "   'country': 'USA',\n",
       "   'home_phone': '(206) 555-9482',\n",
       "   'extension': '3457',\n",
       "   'photo': <memory at 0x307936f80>,\n",
       "   'notes': 'Andrew received his BTS commercial in 1974 and a Ph.D. in international marketing from the University of Dallas in 1981.  He is fluent in French and Italian and reads German.  He joined the company as a sales representative, was promoted to sales manager in January 1992 and to vice president of sales in March 1993.  Andrew is a member of the Sales Management Roundtable, the Seattle Chamber of Commerce, and the Pacific Rim Importers Association.',\n",
       "   'reports_to': None,\n",
       "   'photo_path': 'http://accweb/emmployees/fuller.bmp'},\n",
       "  {'employee_id': 3,\n",
       "   'last_name': 'Leverling',\n",
       "   'first_name': 'Janet',\n",
       "   'title': 'Sales Representative',\n",
       "   'title_of_courtesy': 'Ms.',\n",
       "   'birth_date': datetime.date(1963, 8, 30),\n",
       "   'hire_date': datetime.date(1992, 4, 1),\n",
       "   'address': '722 Moss Bay Blvd.',\n",
       "   'city': 'Kirkland',\n",
       "   'region': 'WA',\n",
       "   'postal_code': '98033',\n",
       "   'country': 'USA',\n",
       "   'home_phone': '(206) 555-3412',\n",
       "   'extension': '3355',\n",
       "   'photo': <memory at 0x307937100>,\n",
       "   'notes': 'Janet has a BS degree in chemistry from Boston College (1984).  She has also completed a certificate program in food retailing management.  Janet was hired as a sales associate in 1991 and promoted to sales representative in February 1992.',\n",
       "   'reports_to': 2,\n",
       "   'photo_path': 'http://accweb/emmployees/leverling.bmp'},\n",
       "  {'employee_id': 4,\n",
       "   'last_name': 'Peacock',\n",
       "   'first_name': 'Margaret',\n",
       "   'title': 'Sales Representative',\n",
       "   'title_of_courtesy': 'Mrs.',\n",
       "   'birth_date': datetime.date(1937, 9, 19),\n",
       "   'hire_date': datetime.date(1993, 5, 3),\n",
       "   'address': '4110 Old Redmond Rd.',\n",
       "   'city': 'Redmond',\n",
       "   'region': 'WA',\n",
       "   'postal_code': '98052',\n",
       "   'country': 'USA',\n",
       "   'home_phone': '(206) 555-8122',\n",
       "   'extension': '5176',\n",
       "   'photo': <memory at 0x307936980>,\n",
       "   'notes': 'Margaret holds a BA in English literature from Concordia College (1958) and an MA from the American Institute of Culinary Arts (1966).  She was assigned to the London office temporarily from July through November 1992.',\n",
       "   'reports_to': 2,\n",
       "   'photo_path': 'http://accweb/emmployees/peacock.bmp'},\n",
       "  {'employee_id': 5,\n",
       "   'last_name': 'Buchanan',\n",
       "   'first_name': 'Steven',\n",
       "   'title': 'Sales Manager',\n",
       "   'title_of_courtesy': 'Mr.',\n",
       "   'birth_date': datetime.date(1955, 3, 4),\n",
       "   'hire_date': datetime.date(1993, 10, 17),\n",
       "   'address': '14 Garrett Hill',\n",
       "   'city': 'London',\n",
       "   'region': None,\n",
       "   'postal_code': 'SW1 8JR',\n",
       "   'country': 'UK',\n",
       "   'home_phone': '(71) 555-4848',\n",
       "   'extension': '3453',\n",
       "   'photo': <memory at 0x3079368c0>,\n",
       "   'notes': 'Steven Buchanan graduated from St. Andrews University, Scotland, with a BSC degree in 1976.  Upon joining the company as a sales representative in 1992, he spent 6 months in an orientation program at the Seattle office and then returned to his permanent post in London.  He was promoted to sales manager in March 1993.  Mr. Buchanan has completed the courses Successful Telemarketing and International Sales Management.  He is fluent in French.',\n",
       "   'reports_to': 2,\n",
       "   'photo_path': 'http://accweb/emmployees/buchanan.bmp'}],\n",
       " 'error': None,\n",
       " 'from_vector_store': False,\n",
       " 'original_question': 'show me 5 employees'}"
      ]
     },
     "execution_count": 12,
     "metadata": {},
     "output_type": "execute_result"
    }
   ],
   "source": [
    "chat_service.process_message(message=\"show me 5 employees\", recipe_name=\"basic_rag\")"
   ]
  },
  {
   "cell_type": "code",
   "execution_count": null,
   "metadata": {},
   "outputs": [],
   "source": []
  }
 ],
 "metadata": {
  "kernelspec": {
   "display_name": "heydatabase",
   "language": "python",
   "name": "python3"
  },
  "language_info": {
   "codemirror_mode": {
    "name": "ipython",
    "version": 3
   },
   "file_extension": ".py",
   "mimetype": "text/x-python",
   "name": "python",
   "nbconvert_exporter": "python",
   "pygments_lexer": "ipython3",
   "version": "3.10.16"
  }
 },
 "nbformat": 4,
 "nbformat_minor": 2
}
