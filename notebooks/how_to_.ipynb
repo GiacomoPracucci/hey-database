{
 "cells": [
  {
   "cell_type": "code",
   "execution_count": 1,
   "metadata": {},
   "outputs": [],
   "source": [
    "import sys\n",
    "import os\n",
    "from pathlib import Path\n",
    "project_root = Path.cwd().parent\n",
    "sys.path.append(str(project_root))\n",
    "\n",
    "import logging\n",
    "logging.basicConfig(level=logging.INFO)\n",
    "logger = logging.getLogger('hey-database-tutorial')\n",
    "\n",
    "\n",
    "api_key = os.getenv('OPENAI_API_KEY')\n",
    "db_pwd = os.getenv('POSTGRES_PWD')"
   ]
  },
  {
   "cell_type": "code",
   "execution_count": 2,
   "metadata": {},
   "outputs": [],
   "source": [
    "from src.config.config_loader import ConfigLoader\n",
    "\n",
    "config = ConfigLoader.load_config(\n",
    "    db_config_path=os.path.join(\n",
    "        project_root, \"configs\", \"DB_connections\", \"northwind_postgres.yaml\"\n",
    "    ),\n",
    "    cache_config_path=os.path.join(\n",
    "        project_root, \"configs\", \"cache\", \"northwind_cache.yaml\"\n",
    "    ),\n",
    "    sql_llm_config_path=os.path.join(\n",
    "        project_root, \"configs\", \"sql_llm\", \"openai_4o_mini.yaml\"\n",
    "    ),\n",
    "    vector_store_config_path=os.path.join(\n",
    "        project_root, \"configs\", \"vector_store\", \"qdrant_northwind.yaml\"\n",
    "    ),\n",
    "    prompt_config_path=os.path.join(project_root, \"configs\", \"prompt.yaml\"),\n",
    "    metadata_config_path=os.path.join(project_root, \"configs\", \"metadata_.yaml\"),\n",
    "    base_config_path=os.path.join(project_root, \"configs\", \"base_config.yaml\"),\n",
    ")"
   ]
  },
  {
   "cell_type": "code",
   "execution_count": 3,
   "metadata": {},
   "outputs": [
    {
     "name": "stderr",
     "output_type": "stream",
     "text": [
      "/Users/giacomo/miniconda3/envs/heydatabase/lib/python3.10/site-packages/snowflake/sqlalchemy/base.py:1068: SAWarning: The GenericFunction 'flatten' is already registered and is going to be overridden.\n",
      "  functions.register_function(\"flatten\", flatten)\n",
      "INFO:hey-database:Connected to PostgreSQL database\n",
      "INFO:hey-database:Vector store enabled, initializing client...\n"
     ]
    }
   ],
   "source": [
    "from src.build.build_app_components import AppComponentsBuilder\n",
    "app_components = AppComponentsBuilder(config).build()"
   ]
  },
  {
   "cell_type": "code",
   "execution_count": 4,
   "metadata": {},
   "outputs": [],
   "source": [
    "from src.metadata.metadata_startup import (\n",
    "    MetadataManager,\n",
    "    MetadataCacheHandler,\n",
    "    MetadataProcessor,\n",
    ")\n",
    "\n",
    "metadata_processor = MetadataProcessor(\n",
    "    table_extractor=app_components.table_metadata_extractor,\n",
    "    column_extractor=app_components.column_metadata_extractor,\n",
    "    table_enhancer=app_components.table_metadata_enhancer,\n",
    "    column_enhancer=app_components.column_metadata_enhancer,\n",
    ")\n",
    "cache_handler = MetadataCacheHandler(app_components.cache)\n",
    "metadata_manager = MetadataManager(metadata_processor, cache_handler)"
   ]
  },
  {
   "cell_type": "code",
   "execution_count": 5,
   "metadata": {},
   "outputs": [
    {
     "name": "stderr",
     "output_type": "stream",
     "text": [
      "ERROR:hey-database:Error reading metadata cache: [Errno 2] No such file or directory: 'data/cache/northwind/northwind_cache.json'\n",
      "INFO:hey-database:No valid cache found, initializing metadata extraction and enrichment process.\n",
      "INFO:httpx:HTTP Request: POST https://api.openai.com/v1/chat/completions \"HTTP/1.1 200 OK\"\n",
      "ERROR:hey-database:Error during metadata initialization: 'PostgresColumnMetadataExtractor' object has no attribute 'metadata_config'\n",
      "Traceback (most recent call last):\n",
      "  File \"/Users/giacomo/IdeaProjects/hey-database/src/metadata/metadata_startup.py\", line 148, in initialize_metadata\n",
      "    self._current_state = self.metadata_processor.extract_and_enrich_metadata()\n",
      "  File \"/Users/giacomo/IdeaProjects/hey-database/src/metadata/metadata_startup.py\", line 58, in extract_and_enrich_metadata\n",
      "    base_columns_metadata = self.column_extractor.extract_metadata(table_name)\n",
      "  File \"/Users/giacomo/IdeaProjects/hey-database/src/metadata/extractors/column/column_metadata_extractor.py\", line 37, in extract_metadata\n",
      "    if self.metadata_config.retrieve_distinct_values:\n",
      "AttributeError: 'PostgresColumnMetadataExtractor' object has no attribute 'metadata_config'\n"
     ]
    },
    {
     "data": {
      "text/plain": [
       "False"
      ]
     },
     "execution_count": 5,
     "metadata": {},
     "output_type": "execute_result"
    }
   ],
   "source": [
    "metadata_manager.initialize_metadata()"
   ]
  },
  {
   "cell_type": "code",
   "execution_count": null,
   "metadata": {},
   "outputs": [],
   "source": []
  },
  {
   "cell_type": "code",
   "execution_count": null,
   "metadata": {},
   "outputs": [],
   "source": []
  }
 ],
 "metadata": {
  "kernelspec": {
   "display_name": "heydatabase",
   "language": "python",
   "name": "python3"
  },
  "language_info": {
   "codemirror_mode": {
    "name": "ipython",
    "version": 3
   },
   "file_extension": ".py",
   "mimetype": "text/x-python",
   "name": "python",
   "nbconvert_exporter": "python",
   "pygments_lexer": "ipython3",
   "version": "3.10.16"
  }
 },
 "nbformat": 4,
 "nbformat_minor": 2
}
