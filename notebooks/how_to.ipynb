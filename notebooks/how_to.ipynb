{
 "cells": [
  {
   "cell_type": "markdown",
   "metadata": {},
   "source": [
    "# hey, databse! Code Tutorial"
   ]
  },
  {
   "cell_type": "markdown",
   "metadata": {},
   "source": [
    "## Initial Setup"
   ]
  },
  {
   "cell_type": "code",
   "execution_count": 1,
   "metadata": {},
   "outputs": [],
   "source": [
    "import sys\n",
    "import os\n",
    "from pathlib import Path\n",
    "project_root = Path.cwd().parent\n",
    "sys.path.append(str(project_root))\n",
    "\n",
    "import logging\n",
    "logging.basicConfig(level=logging.INFO)\n",
    "logger = logging.getLogger('hey-database-tutorial')\n",
    "\n",
    "# credentials if nedeed\n",
    "api_key = os.getenv('OPENAI_API_KEY')\n",
    "db_pwd = os.getenv('POSTGRES_PWD')\n",
    "\n",
    "from src.llm_handler.openai_handler import OpenAIHandler\n",
    "llm = OpenAIHandler(\n",
    "    api_key=api_key,\n",
    "    chat_model=\"gpt-4o\"\n",
    ")"
   ]
  },
  {
   "cell_type": "markdown",
   "metadata": {},
   "source": [
    "## Test LLM"
   ]
  },
  {
   "cell_type": "code",
   "execution_count": 7,
   "metadata": {},
   "outputs": [
    {
     "name": "stderr",
     "output_type": "stream",
     "text": [
      "INFO:httpx:HTTP Request: POST https://api.openai.com/v1/chat/completions \"HTTP/1.1 200 OK\"\n"
     ]
    },
    {
     "name": "stdout",
     "output_type": "stream",
     "text": [
      "\n",
      "Risposta LLM:\n",
      "Certo! Allora, c'era una volta un pinguino che voleva diventare un detective. Si mise un cappello da investigatore e una lente d'ingrandimento, ma ogni volta che cercava di seguire una pista... scivolava! Alla fine decise di specializzarsi nei casi di ghiaccio sottile.\n"
     ]
    }
   ],
   "source": [
    "system_prompt = \"Sei un simpatico standup comedian\"\n",
    "user_prompt = \"Raccontami una breve storia simpatica. Molto breve.\"\n",
    "\n",
    "response = llm.get_completion(\n",
    "    prompt=user_prompt,\n",
    "    system_prompt=system_prompt,\n",
    "    temperature=0.2\n",
    ")\n",
    "\n",
    "print(\"\\nRisposta LLM:\")\n",
    "print(response)"
   ]
  },
  {
   "cell_type": "markdown",
   "metadata": {},
   "source": [
    "# DB connection"
   ]
  },
  {
   "cell_type": "code",
   "execution_count": 3,
   "metadata": {},
   "outputs": [
    {
     "name": "stdout",
     "output_type": "stream",
     "text": [
      "Connessione stabilita con successo!\n",
      "Numero totale ordini: 91\n"
     ]
    }
   ],
   "source": [
    "from src.connettori.postgres import PostgresManager # also supported mysql, vertica and snowflake\n",
    "\n",
    "# create connection\n",
    "db = PostgresManager(\n",
    "    host=\"localhost\",\n",
    "    port=\"5432\",\n",
    "    database=\"giacomo\",\n",
    "    user=\"postgres\",\n",
    "    password=db_pwd\n",
    ")\n",
    "\n",
    "# check connection\n",
    "if db.connect():\n",
    "    print(\"Connessione stabilita con successo!\")\n",
    "    \n",
    "    # Test query\n",
    "    result = db.execute_query(\"SELECT COUNT(*) FROM northwind.customers\")\n",
    "    if result:\n",
    "        columns, data = result\n",
    "        print(f\"Numero totale ordini: {data[0][0]}\")\n",
    "else:\n",
    "    print(\"Errore nella connessione!\")"
   ]
  },
  {
   "cell_type": "markdown",
   "metadata": {},
   "source": [
    "## Metadata extraction"
   ]
  },
  {
   "cell_type": "code",
   "execution_count": null,
   "metadata": {},
   "outputs": [
    {
     "name": "stderr",
     "output_type": "stream",
     "text": [
      "INFO:hey-database:Inizializzando metadata retriever per schema: northwind\n",
      "INFO:hey-database:Loading metadata from database\n",
      "INFO:hey-database:Estraggo i metadati per la tabella: territories\n",
      "INFO:hey-database:Estraggo i metadati per la tabella: order_details\n",
      "INFO:hey-database:Estraggo i metadati per la tabella: employee_territories\n",
      "INFO:hey-database:Estraggo i metadati per la tabella: us_states\n",
      "INFO:hey-database:Estraggo i metadati per la tabella: customers\n",
      "INFO:hey-database:Estraggo i metadati per la tabella: orders\n",
      "INFO:hey-database:Estraggo i metadati per la tabella: employees\n",
      "INFO:hey-database:Estraggo i metadati per la tabella: shippers\n",
      "INFO:hey-database:Estraggo i metadati per la tabella: products\n",
      "INFO:hey-database:Estraggo i metadati per la tabella: categories\n",
      "INFO:hey-database:Estraggo i metadati per la tabella: suppliers\n",
      "INFO:hey-database:Estraggo i metadati per la tabella: region\n",
      "INFO:hey-database:Estraggo i metadati per la tabella: customer_demographics\n",
      "INFO:hey-database:Estraggo i metadati per la tabella: customer_customer_demo\n",
      "INFO:hey-database:Skipping metadata enhancement\n"
     ]
    },
    {
     "name": "stdout",
     "output_type": "stream",
     "text": [
      "{'territories': EnhancedTableMetadata(base_metadata=TableMetadata(name='territories', columns=[{'name': 'territory_id', 'type': 'VARCHAR(20)', 'nullable': False, 'distinct_values': ['90405', '30346', '48084', '95054', '20852', '03049', '72716', '01730', '75234', '07960', '32859', '02184', '80909', '48075', '27403', '95008', '40222', '31406', '08837', '19428', '94105', '02116', '01833', '01581', '10019', '94025', '85014', '55439', '55113', '48304', '60179', '98052', '98004', '53404', '10038', '03801', '85251', '14450', '95060', '02903', '78759', '11747', '27511', '06897', '29202', '19713', '98104', '44122', '02139', '60601', '45839', '80202', '33607']}, {'name': 'territory_description', 'type': 'VARCHAR(60)', 'nullable': False, 'distinct_values': ['Neward', 'Santa Cruz', 'Columbia', 'New York', 'Westboro', 'Philadelphia', 'Phoenix', 'San Francisco', 'Dallas', 'Roseville', 'Southfield', 'Austin', 'Rockville', 'Morristown', 'Orlando', 'Portsmouth', 'Georgetow', 'Santa Clara', 'Chicago', 'Cary', 'Bentonville', 'Fairport', 'Colorado Springs', 'Denver', 'Hoffman Estates', 'Edison', 'Beachwood', 'Bedford', 'Campbell', 'Menlo Park', 'Providence', 'Minneapolis', 'Findlay', 'Louisville', 'Savannah', 'Tampa', 'Seattle', 'Racine', 'Atlanta', 'Redmond', 'Mellvile', 'Hollis', 'Boston', 'Braintree', 'Scottsdale', 'Bloomfield Hills', 'Bellevue', 'Troy', 'Santa Monica', 'Greensboro', 'Wilton', 'Cambridge']}, {'name': 'region_id', 'type': 'SMALLINT', 'nullable': False, 'distinct_values': ['2', '1', '4', '3']}], primary_keys=['territory_id'], foreign_keys=[{'constrained_columns': ['region_id'], 'referred_table': 'region', 'referred_columns': ['region_id']}], row_count=53), description='', keywords=[], importance_score=0.0), 'order_details': EnhancedTableMetadata(base_metadata=TableMetadata(name='order_details', columns=[{'name': 'order_id', 'type': 'SMALLINT', 'nullable': False, 'distinct_values': ['10483', '10423', '10489', '10992', '10391', '10681', '10641', '10703', '10852', '10705', '10525', '10712', '11027', '10310', '10707', '10529', '10425', '11064', '10833', '11028', '10796', '11002', '10582', '10717', '10706', '11005', '10809', '10728', '10549', '10508', '10513', '10844', '10771', '10931', '10907', '10406', '11072', '10898', '10592', '10849', '11053', '10552', '10298', '10654', '11017', '10380', '10260', '10921', '10684', '10332', '11015', '10551', '10996', '10934', '10454', '10927', '10792', '10396', '10252', '10863', '10294', '10623', '10981', '10473', '10589', '10958', '10941', '10914', '10749', '10673', '10369', '10719', '10374', '10679', '10554', '10480', '10477', '11047', '10519', '10511', '10302', '10571', '10556', '10528', '10634', '10984', '10436', '10279', '10278', '10881', '10871', '10919', '11067', '11011', '10737', '11068', '10329', '10897', '10289', '10474']}, {'name': 'product_id', 'type': 'SMALLINT', 'nullable': False, 'distinct_values': ['16', '26', '63', '71', '70', '72', '8', '75', '13', '28', '39', '19', '23', '20', '25', '14', '64', '34', '6', '18', '38', '32', '2', '68', '76', '74', '58', '37', '9', '4', '33', '30', '66', '45', '61', '46', '51', '53', '36', '27', '31', '11', '43', '60', '42', '62', '49', '69', '67', '12', '54', '10', '7', '47', '15', '52', '5', '55', '40', '73', '65', '44', '59', '77', '29', '1', '57', '21', '24', '17', '56', '48', '35', '22', '41', '3', '50']}, {'name': 'unit_price', 'type': 'REAL', 'nullable': False, 'distinct_values': ['16', '26', '12.4', '3.6', '24.9', '8', '19.5', '10.2', '14.4', '21.35', '32.8', '13', '27.8', '28.5', '7.3', '34', '18', '32', '2', '7.45', '9.65', '64.8', '210.8', '9', '23.25', '27.2', '22.8', '4.8', '24.8', '36', '21.05', '31', '62.5', '12', '10', '7', '34.8', '15', '40', '49.3', '43.9', '77.6', '15.6', '123.79', '12.75', '35.1', '9.8', '13.6', '9.6', '25.6', '21', '16.25', '13.25', '17', '39.4', '5.9', '22', '31.2', '7.7', '17.45', '36.8', '10.4', '4.5', '7.75', '13.9', '39', '15.5', '19', '20', '25', '14', '6', '12.5', '26.2', '25.89', '38', '2.5', '30.4', '36.4', '17.2', '10.6', '5.6', '17.6', '30', '18.6', '99', '42.4', '46', '53', '45.6', '11.2', '19.45', '97', '33.25', '14.7', '7.2', '28.8', '55', '21.5', '81']}, {'name': 'quantity', 'type': 'SMALLINT', 'nullable': False, 'distinct_values': ['21', '24', '56', '33', '48', '30', '35', '66', '45', '22', '120', '3', '36', '27', '11', '50', '60', '110', '90', '16', '130', '42', '63', '84', '49', '80', '70', '8', '12', '54', '10', '7', '13', '28', '15', '52', '55', '5', '39', '40', '65', '20', '14', '25', '91', '44', '6', '18', '32', '77', '2', '100', '1', '4', '9']}, {'name': 'discount', 'type': 'REAL', 'nullable': False, 'distinct_values': ['0.25', '0.06', '0.05', '0.03', '0.1', '0.2', '0.01', '0.15', '0.02', '0', '0.04']}], primary_keys=['order_id', 'product_id'], foreign_keys=[{'constrained_columns': ['order_id'], 'referred_table': 'orders', 'referred_columns': ['order_id']}, {'constrained_columns': ['product_id'], 'referred_table': 'products', 'referred_columns': ['product_id']}], row_count=2155), description='', keywords=[], importance_score=0.0), 'employee_territories': EnhancedTableMetadata(base_metadata=TableMetadata(name='employee_territories', columns=[{'name': 'employee_id', 'type': 'SMALLINT', 'nullable': False, 'distinct_values': ['7', '5', '6', '2', '1', '9', '4', '3', '8']}, {'name': 'territory_id', 'type': 'VARCHAR(20)', 'nullable': False, 'distinct_values': ['01730', '07960', '32859', '02184', '48075', '80909', '27403', '95008', '08837', '31406', '40222', '19428', '94105', '02116', '01833', '01581', '10019', '94025', '85014', '55439', '55113', '48304', '60179', '98052', '98004', '53404', '10038', '03801', '85251', '14450', '95060', '02903', '11747', '27511', '06897', '19713', '98104', '44122', '02139', '45839', '60601', '80202', '33607', '90405', '30346', '48084', '03049', '95054', '20852']}], primary_keys=['employee_id', 'territory_id'], foreign_keys=[{'constrained_columns': ['employee_id'], 'referred_table': 'employees', 'referred_columns': ['employee_id']}, {'constrained_columns': ['territory_id'], 'referred_table': 'territories', 'referred_columns': ['territory_id']}], row_count=49), description='', keywords=[], importance_score=0.0), 'us_states': EnhancedTableMetadata(base_metadata=TableMetadata(name='us_states', columns=[{'name': 'state_id', 'type': 'SMALLINT', 'nullable': False, 'distinct_values': ['49', '8', '12', '10', '7', '13', '47', '28', '15', '5', '40', '39', '19', '23', '20', '25', '14', '44', '34', '6', '18', '38', '32', '2', '29', '37', '1', '9', '4', '21', '24', '33', '17', '48', '30', '35', '45', '41', '22', '51', '46', '3', '36', '27', '31', '11', '50', '43', '16', '42', '26']}, {'name': 'state_name', 'type': 'VARCHAR(100)', 'nullable': True, 'distinct_values': ['Oklahoma', 'North Carolina', 'Colorado', 'Mississippi', 'Florida', 'Vermont', 'Delaware', 'Nevada', 'Louisiana', 'New York', 'West Virginia', 'South Carolina', 'New Jersey', 'New Mexico', 'Hawaii', 'Arkansas', 'Missouri', 'Connecticut', 'South Dakota', 'District of Columbia', 'Iowa', 'Indiana', 'Massachusetts', 'Rhode Island', 'Ohio', 'Michigan', 'Minnesota', 'Pennsylvania', 'Washington', 'Wisconsin', 'Montana', 'Kentucky', 'Arizona', 'Illinois', 'Virginia', 'Maryland', 'Georgia', 'Wyoming', 'Utah', 'New Hampshire', 'North Dakota', 'Nebraska', 'Maine', 'California', 'Tennessee', 'Kansas', 'Texas', 'Oregon', 'Idaho', 'Alaska', 'Alabama']}, {'name': 'state_abbr', 'type': 'VARCHAR(2)', 'nullable': True, 'distinct_values': ['CA', 'NH', 'OR', 'TX', 'ND', 'NV', 'OH', 'KY', 'NY', 'HI', 'NM', 'MS', 'IN', 'DC', 'WV', 'NE', 'MO', 'FL', 'ME', 'AR', 'WI', 'NC', 'CT', 'SD', 'RI', 'OK', 'ID', 'GA', 'MN', 'PA', 'MD', 'AK', 'WY', 'LA', 'MT', 'IO', 'IL', 'TN', 'WA', 'NJ', 'MI', 'MA', 'AL', 'UT', 'VT', 'CO', 'SC', 'VA', 'DE', 'AZ', 'KS']}, {'name': 'state_region', 'type': 'VARCHAR(50)', 'nullable': True, 'distinct_values': ['midwest', 'west', 'south', 'north', 'east']}], primary_keys=['state_id'], foreign_keys=[], row_count=51), description='', keywords=[], importance_score=0.0), 'customers': EnhancedTableMetadata(base_metadata=TableMetadata(name='customers', columns=[{'name': 'customer_id', 'type': 'VARCHAR(5)', 'nullable': False, 'distinct_values': ['TOMSP', 'OLDWO', 'LONEP', 'WARTH', 'MAGAA', 'QUEEN', 'VINET', 'MORGK', 'ANTON', 'GOURL', 'WOLZA', 'WELLI', 'RATTC', 'GALED', 'WILMK', 'FURIB', 'DUMON', 'FRANK', 'TORTU', 'FAMIA', 'FRANS', 'PRINI', 'RANCH', 'PERIC', 'ISLAT', 'CONSH', 'LEHMS', 'VICTE', 'ALFKI', 'RICAR', 'LINOD', 'FOLIG', 'ANATR', 'LAZYK', 'QUICK', 'THEBI', 'CHOPS', 'GROSR', 'LACOR', 'FRANR', 'HUNGO', 'OTTIK', 'AROUT', 'KOENE', 'MEREP', 'BLAUS', 'LAUGB', 'THECR', 'BOLID', 'BONAP', 'SANTG', 'GODOS', 'DRACD', 'NORTS', 'BSBEV', 'HANAR', 'SEVES', 'MAISD', 'FOLKO', 'BERGS', 'SPLIR', 'OCEAN', 'CACTU', 'SAVEA', 'FISSA', 'BLONP', 'VAFFE', 'LETSS', 'HILAA', 'PICCO', 'EASTC', 'ERNSH', 'SPECD', 'ROMEY', 'SUPRD', 'REGGC', 'COMMI', 'TRADH', 'CENTC', 'QUEDE', 'GREAL', 'PARIS', 'WANDK', 'SIMOB', 'LAMAI', 'LILAS', 'HUNGC', 'WHITC', 'RICSU', 'TRAIH', 'BOTTM']}, {'name': 'company_name', 'type': 'VARCHAR(40)', 'nullable': False, 'distinct_values': ['FISSA Fabrica Inter. Salchichas S.A.', 'Wilman Kala', 'Magazzini Alimentari Riuniti', 'Wellington Importadora', 'The Cracker Box', 'Toms Spezialitäten', \"Let's Stop N Shop\", 'Furia Bacalhau e Frutos do Mar', 'Lehmanns Marktstand', 'Rattlesnake Canyon Grocery', 'Mère Paillarde', 'Que Delícia', 'The Big Cheese', 'Hungry Owl All-Night Grocers', 'Königlich Essen', 'North/South', 'GROSELLA-Restaurante', 'Frankenversand', 'Split Rail Beer & Ale', 'Folies gourmandes', 'Around the Horn', 'Comércio Mineiro', 'Gourmet Lanchonetes', 'Santé Gourmet', 'Victuailles en stock', 'Chop-suey Chinese', 'Alfreds Futterkiste', 'Lonesome Pine Restaurant', 'HILARION-Abastos', \"La corne d'abondance\", 'Old World Delicatessen', 'LILA-Supermercado', 'Wolski  Zajazd', 'Die Wandernde Kuh', 'Godos Cocina Típica', 'Blondesddsl père et fils', 'Morgenstern Gesundkost', 'Ricardo Adocicados', 'Spécialités du monde', \"La maison d'Asie\", 'Bólido Comidas preparadas', 'Wartian Herkku', 'Paris spécialités', \"Bon app'\", 'Berglunds snabbköp', 'Seven Seas Imports', 'Eastern Connection', 'Océano Atlántico Ltda.', 'Drachenblut Delikatessen', 'Suprêmes délices', 'Ernst Handel', 'LINO-Delicateses', 'Antonio Moreno Taquería', 'Ottilies Käseladen', 'Princesa Isabel Vinhos', 'Cactus Comidas para llevar', 'Galería del gastrónomo', 'Tradição Hipermercados', 'Hungry Coyote Import Store', 'Save-a-lot Markets', 'Reggiani Caseifici', 'Great Lakes Food Market', 'Maison Dewey', 'Queen Cozinha', 'Simons bistro', 'Laughing Bacchus Wine Cellars', 'QUICK-Stop', 'Richter Supermarkt', 'Tortuga Restaurante', 'Vins et alcools Chevalier', 'Consolidated Holdings', 'Franchi S.p.A.', 'Hanari Carnes', 'Folk och fä HB', 'Blauer See Delikatessen', \"Trail's Head Gourmet Provisioners\", 'Rancho grande', 'Familia Arquibaldo', 'Vaffeljernet', 'Lazy K Kountry Store', 'Pericles Comidas clásicas', 'Ana Trujillo Emparedados y helados', 'Centro comercial Moctezuma', 'White Clover Markets', 'Romero y tomillo', 'France restauration', \"B's Beverages\", 'Bottom-Dollar Markets', 'Piccolo und mehr', 'Island Trading', 'Du monde entier']}, {'name': 'contact_name', 'type': 'VARCHAR(30)', 'nullable': True, 'distinct_values': ['Francisco Chang', 'André Fonseca', 'Pedro Afonso', 'Philip Cramer', 'Frédérique Citeaux', 'Jytte Petersen', 'Paolo Accorti', 'Paula Wilson', 'Patricio Simpson', 'Helen Bennett', 'Mary Saveley', 'Sergio Gutiérrez', 'Paula Parente', 'Anabela Domingues', 'Liz Nixon', 'Art Braunschweiger', 'Patricia McKenna', 'Antonio Moreno', 'Alejandra Camino', 'Thomas Hardy', 'Diego Roel', 'Christina Berglund', 'Janete Limeira', 'Henriette Pfalzheim', 'Carlos González', 'Zbyszek Piestrzeniewicz', 'Marie Bertrand', 'John Steel', 'Ann Devon', 'Mario Pontes', 'Hari Kumar', 'Annette Roulet', 'Yoshi Latimer', 'Dominique Perrier', 'Rene Phillips', 'Elizabeth Brown', 'Martine Rancé', 'Rita Müller', 'Janine Labrune', 'Matti Karttunen', 'Yang Wang', 'Lúcia Carvalho', 'Hanna Moos', 'Aria Cruz', 'Elizabeth Lincoln', 'Karl Jablonski', 'Liu Wong', 'Lino Rodriguez', 'Carine Schmitt', 'José Pedro Freyre', 'Maria Anders', 'Jaime Yorres', 'Felipe Izquierdo', 'Bernardo Batista', 'Pascale Cartrain', 'Howard Snyder', 'Roland Mendel', 'Ana Trujillo', 'Horst Kloss', 'Yvonne Moncada', 'Martín Sommer', 'Georg Pipps', 'Isabel de Castro', 'Helvetius Nagy', 'Jean Fresnière', 'Daniel Tonini', 'Palle Ibsen', 'Manuel Pereira', 'Eduardo Saavedra', 'Sven Ottlieb', 'Renate Messner', 'Maurizio Moroni', 'Yoshi Tannamuri', 'Miguel Angel Paolino', 'Jose Pavarotti', 'Victoria Ashworth', 'Catherine Dewey', 'Carlos Hernández', 'Giovanni Rovelli', 'Laurence Lebihan', 'Pirkko Koskitalo', 'Fran Wilson', 'Karin Josephs', 'Guillermo Fernández', 'Jonas Bergulfsen', 'Simon Crowther', 'Michael Holz', 'Maria Larsson', 'Alexander Feuer', 'Paul Henriot', 'Peter Franken']}, {'name': 'contact_title', 'type': 'VARCHAR(30)', 'nullable': True, 'distinct_values': ['Sales Manager', 'Owner', 'Owner/Marketing Assistant', 'Accounting Manager', 'Sales Associate', 'Sales Agent', 'Assistant Sales Agent', 'Assistant Sales Representative', 'Order Administrator', 'Marketing Manager', 'Sales Representative', 'Marketing Assistant']}, {'name': 'address', 'type': 'VARCHAR(60)', 'nullable': True, 'distinct_values': ['C/ Moralzarzal, 86', 'Gran Vía, 1', 'Mataderos  2312', 'Rua do Mercado, 12', 'Boulevard Tirou, 255', 'Calle Dr. Jorge Cash 321', 'Åkergatan 24', 'Rua Orós, 92', 'Adenauerallee 900', 'Via Ludovico il Moro 22', 'Keskuskatu 45', 'Cerrito 333', \"59 rue de l'Abbaye\", 'Rua da Panificadora, 12', 'Garden House Crowther Way', '305 - 14th Ave. S. Suite 3B', '265, boulevard Charonne', '1900 Oak St.', '35 King George', 'Walserweg 21', 'Av. dos Lusíadas, 23', 'Sierras de Granada 9993', 'Rua do Paço, 67', '89 Chiaroscuro Rd.', 'Kirchgasse 6', 'C/ Araquil, 67', 'P.O. Box 555', 'Berliner Platz 43', '722 DaVinci Blvd.', 'Magazinweg 7', 'Av. Brasil, 442', '54, rue Royale', 'Carrera 52 con Ave. Bolívar #65-98 Llano Largo', '23 Tsawassen Blvd.', '89 Jefferson Way Suite 2', '184, chaussée de Tournai', '12, rue des Bouchers', '55 Grizzly Peak Rd.', 'Rue Joseph-Bens 532', 'Geislweg 14', 'Berkeley Gardens 12  Brewery', '2743 Bering St.', 'Jardim das rosas n. 32', 'Forsterstr. 57', 'Smagsloget 45', \"67, avenue de l'Europe\", '43 rue St. Laurent', '1 rue Alsace-Lorraine', '8 Johnstown Road', 'Berguvsvägen  8', 'Rambla de Cataluña, 23', '2, rue du Commerce', 'Heerstr. 22', '12 Orchestra Terrace', '24, place Kléber', 'Avda. Azteca 123', '5ª Ave. Los Palos Grandes', 'Grenzacherweg 237', 'Av. del Libertador 900', 'Torikatu 38', 'Ing. Gustavo Moncada 8585 Piso 20-A', 'Ave. 5 de Mayo Porlamar', '25, rue Lauriston', 'Maubelstr. 90', '67, rue des Cinquante Otages', 'Hauptstr. 29', 'Alameda dos Canàrios, 891', 'Av. Inês de Castro, 414', 'Obere Str. 57', 'ul. Filtrowa 68', 'Luisenstr. 48', 'C/ Romero, 33', 'Via Monte Bianco 34', 'Strada Provinciale 124', '2817 Milton Dr.', 'South House 300 Queensbridge', 'Estrada da saúde n. 58', '187 Suffolk Ln.', 'Mehrheimerstr. 369', '90 Wadhurst Rd.', 'Carrera 22 con Ave. Carlos Soublette #8-35', 'Taucherstraße 10', 'Vinbæltet 34', '87 Polk St. Suite 5', 'Erling Skakkes gate 78', 'Fauntleroy Circus', '120 Hanover Sq.', 'City Center Plaza 516 Main St.', '2732 Baker Blvd.', 'Av. Copacabana, 267', 'Avda. de la Constitución 2222']}, {'name': 'city', 'type': 'VARCHAR(15)', 'nullable': True, 'distinct_values': ['Butte', 'Paris', 'Cowes', 'Cork', 'Bern', 'Brandenburg', 'Aachen', 'Walla Walla', 'Warszawa', 'Münster', 'San Francisco', 'Eugene', 'Caracas', 'Berlin', 'Lyon', 'Lille', 'Salzburg', 'Elgin', 'Frankfurt a.M.', 'Stuttgart', 'Portland', 'Århus', 'Bruxelles', 'Barcelona', 'Leipzig', 'Reims', 'Oulu', 'Seattle', 'Versailles', 'Sevilla', 'Helsinki', 'Sao Paulo', 'Albuquerque', 'Marseille', 'Kirkland', 'Boise', 'Reggio Emilia', 'Bergamo', 'Strasbourg', 'Toulouse', 'München', 'Charleroi', 'Resende', 'Tsawassen', 'London', 'Stavern', 'Barquisimeto', 'Mannheim', 'Köln', 'Anchorage', 'Genève', 'Kobenhavn', 'Luleå', 'Campinas', 'Lisboa', 'Torino', 'Bräcke', 'Graz', 'Cunewalde', 'Montréal', 'Lander', 'Madrid', 'México D.F.', 'Vancouver', 'I. de Margarita', 'Buenos Aires', 'San Cristóbal', 'Rio de Janeiro', 'Nantes']}, {'name': 'region', 'type': 'VARCHAR(15)', 'nullable': True, 'distinct_values': ['Lara', 'DF', 'ID', 'Táchira', 'SP', 'Nueva Esparta', 'CA', 'AK', 'Isle of Wight', 'WY', 'OR', 'MT', 'RJ', 'WA', 'NM', 'Co. Cork', 'BC', 'Québec']}, {'name': 'postal_code', 'type': 'VARCHAR(10)', 'nullable': True, 'distinct_values': ['12209', '1675', '5022', '05454-876', '04876-786', '02389-890', '51100', '8200', '80805', '44000', '5020', '59801', '05023', '68306', '97827', '1203', '3508', 'B-1180', '05033', 'SW7 1RZ', '28001', '82520', '24100', '50739', 'WA1 1DP', '97201', '05634-030', '97219', 'WX1 6LT', '94117', 'PO31 7PJ', '78000', 'V3F 2K1', '3012', '28034', '44087', '1010', '8010', '98034', '4980', '87110', 'EC2 5NT', '67000', 'H1J 1C3', '08737-363', '90110', '69004', '1756', '14776', 'WX3 6FW', '21240', '99508', '13008', '05442-030', '05021', 'OX15 4NB', '01307', '08022', '05432-043', '75012', '98128', '75016', '1081', '97403', '31000', '59000', '05022', '41101', '1734', '70563', '83720', 'S-844 67', '05487-020', 'B-6000', 'S-958 22', '02389-673', '52066', '04179', '01-012', '42100', '99362', '10100', 'T2F 8M4', '4110', '60528', '28023']}, {'name': 'country', 'type': 'VARCHAR(15)', 'nullable': True, 'distinct_values': ['Argentina', 'Spain', 'Switzerland', 'Italy', 'Venezuela', 'Belgium', 'Norway', 'Sweden', 'USA', 'France', 'Mexico', 'Brazil', 'Austria', 'Poland', 'UK', 'Ireland', 'Germany', 'Denmark', 'Canada', 'Finland', 'Portugal']}, {'name': 'phone', 'type': 'VARCHAR(24)', 'nullable': True, 'distinct_values': ['(5) 552-3745', '(95) 555 82 82', '(91) 745 6200', '(5) 555-4729', '(171) 555-1717', '0452-076545', '91.24.45.40', '0372-035188', '(2) 283-2951', '0897-034214', '(171) 555-0297', '(171) 555-2282', '(1) 123-5555', '(11) 555-2167', '(071) 23 67 22 20', '(91) 555 22 82', '86 21 32 43', '88.60.15.31', '6562-9722', '(5) 555-3932', '(14) 555-8122', '(91) 555 94 44', '90-224 8858', '(604) 555-4729', '(503) 555-6874', '(505) 555-5939', '0251-031259', '(503) 555-7555', '(171) 555-7788', '(21) 555-3412', '(11) 555-1189', '0241-039123', '035-640230', '(307) 555-4680', '(02) 201 24 67', '0342-023176', '(198) 555-8888', '(8) 34-56-12', '(406) 555-5834', '0221-0644327', '(907) 555-7584', '(9) 331-6954', '(5) 555-2933', '089-0877310', '0711-020361', '0555-09876', '20.16.10.16', '0621-08460', '(171) 555-7733', '(509) 555-7969', '(604) 555-3392', '31 12 34 56', '78.32.54.86', '(503) 555-3612', '(415) 555-5938', '(21) 555-0091', '(5) 555-3392', '(1) 354-2534', '(1) 356-5634', '7675-3425', '(11) 555-9482', '(11) 555-9857', '40.67.88.88', '07-98 92 35', '(21) 555-4252', '(1) 135-5333', '30.59.84.10', '2967 542', '40.32.21.21', '(208) 555-8097', '(1) 135-5555', '069-0245984', '(171) 555-1212', '(1) 42.34.22.66', '(206) 555-8257', '981-443655', '0522-556721', '(503) 555-9573', '(514) 555-8054', '(206) 555-4112', '(93) 203 4560', '(26) 642-7012', '011-4988260', '26.47.15.10', '(5) 555-1340', '61.77.61.10', '0695-34 67 21', '(1) 47.55.60.10', '(11) 555-7647', '030-0074321', '0921-12 34 65']}, {'name': 'fax', 'type': 'VARCHAR(24)', 'nullable': True, 'distinct_values': ['(1) 354-2535', '030-0076545', '(91) 745 6210', '0621-08924', '30.59.85.11', '089-0877451', '40.67.89.89', '(1) 47.55.60.20', '(171) 555-6750', '(307) 555-6525', '(02) 201 24 68', '(9) 331-7256', '(503) 555-9646', '(91) 555 91 99', '90-224 8858', '0522-556722', '(514) 555-8055', '(91) 555 55 93', '(5) 555-1948', '(11) 555-2168', '(509) 555-6221', '78.32.54.87', '(505) 555-3620', '(1) 135-5535', '(171) 555-2530', '86 22 33 44', '(171) 555-3373', '(604) 555-3745', '31 13 35 57', '26.47.15.11', '(1) 42.34.22.77', '6562-9723', '(503) 555-2376', '(206) 555-2174', '(21) 555-4545', '(071) 23 67 22 21', '0221-0765721', '91.24.45.41', '07-98 92 47', '20.16.10.17', '(907) 555-2880', '(171) 555-5646', '(5) 545-3745', '(8) 34-93-93', '069-0245874', '(406) 555-8083', '(604) 555-7293', '011-4988261', '61.77.61.11', '0711-035428', '0251-035695', '(1) 123-5556', '(206) 555-4115', '(5) 555-3745', '88.60.15.32', '981-443655', '(21) 555-8765', '(26) 642-7012', '(171) 555-9199', '(5) 555-7293', '035-640231', '2967 3333', '(1) 135-4892', '40.32.21.20', '0921-12 34 67', '(93) 203 4561', '7675-3426', '(2) 283-3397', '0241-059428']}], primary_keys=['customer_id'], foreign_keys=[], row_count=91), description='', keywords=[], importance_score=0.0), 'orders': EnhancedTableMetadata(base_metadata=TableMetadata(name='orders', columns=[{'name': 'order_id', 'type': 'SMALLINT', 'nullable': False, 'distinct_values': ['10483', '10423', '10489', '10992', '10391', '10681', '10641', '10703', '10852', '10705', '10525', '10712', '11027', '10310', '10707', '10529', '10425', '11064', '10833', '11028', '10796', '11002', '10582', '10717', '10706', '11005', '10809', '10728', '10549', '10508', '10513', '10844', '10771', '10931', '10907', '10406', '11072', '10898', '10592', '10849', '11053', '10552', '10298', '10654', '11017', '10380', '10260', '10921', '10684', '10332', '11015', '10551', '10996', '10934', '10454', '10927', '10792', '10396', '10252', '10863', '10294', '10623', '10981', '10473', '10589', '10958', '10941', '10914', '10749', '10673', '10369', '10719', '10374', '10679', '10554', '10480', '10477', '11047', '10519', '10511', '10302', '10571', '10556', '10528', '10634', '10984', '10436', '10279', '10278', '10881', '10871', '10919', '11067', '11011', '10737', '11068', '10329', '10897', '10289', '10474']}, {'name': 'customer_id', 'type': 'VARCHAR(5)', 'nullable': True, 'distinct_values': ['TOMSP', 'LONEP', 'OLDWO', 'WARTH', 'MAGAA', 'QUEEN', 'VINET', 'ANTON', 'MORGK', 'GOURL', 'WOLZA', 'GALED', 'RATTC', 'WELLI', 'WILMK', 'FURIB', 'DUMON', 'FRANK', 'FAMIA', 'TORTU', 'FRANS', 'PRINI', 'RANCH', 'PERIC', 'CONSH', 'ISLAT', 'LEHMS', 'ALFKI', 'VICTE', 'RICAR', 'FOLIG', 'LINOD', 'ANATR', 'LAZYK', 'QUICK', 'THEBI', 'CHOPS', 'GROSR', 'LACOR', 'FRANR', 'HUNGO', 'OTTIK', 'AROUT', 'KOENE', 'MEREP', 'BLAUS', 'LAUGB', 'THECR', 'BOLID', 'BONAP', 'SANTG', 'DRACD', 'GODOS', 'NORTS', 'BSBEV', 'HANAR', 'SEVES', 'MAISD', 'BERGS', 'FOLKO', 'SPLIR', 'CACTU', 'OCEAN', 'SAVEA', 'BLONP', 'LETSS', 'VAFFE', 'HILAA', 'EASTC', 'PICCO', 'ERNSH', 'SPECD', 'ROMEY', 'SUPRD', 'COMMI', 'REGGC', 'TRADH', 'CENTC', 'GREAL', 'QUEDE', 'LAMAI', 'SIMOB', 'WANDK', 'HUNGC', 'LILAS', 'WHITC', 'RICSU', 'TRAIH', 'BOTTM']}, {'name': 'employee_id', 'type': 'SMALLINT', 'nullable': True, 'distinct_values': ['1', '9', '4', '8', '3', '6', '2', '7', '5']}, {'name': 'order_date', 'type': 'DATE', 'nullable': True, 'distinct_values': ['1996-07-08', '1997-11-18', '1996-08-01', '1998-02-16', '1996-09-11', '1996-12-02', '1997-05-02', '1997-01-07', '1997-10-06', '1997-06-12', '1997-04-18', '1997-03-19', '1997-09-02', '1996-09-24', '1996-09-30', '1996-08-14', '1997-10-29', '1997-03-20', '1997-04-17', '1996-07-11', '1997-01-27', '1996-07-19', '1996-12-26', '1997-04-03', '1998-02-05', '1997-11-19', '1997-07-02', '1997-02-27', '1997-12-17', '1997-10-17', '1998-03-06', '1998-05-04', '1997-03-04', '1998-04-13', '1996-12-12', '1997-04-23', '1996-12-17', '1997-02-20', '1997-06-06', '1997-04-10', '1997-07-14', '1997-10-15', '1997-04-09', '1997-11-07', '1996-07-18', '1997-03-11', '1998-05-05', '1997-11-06', '1997-03-18', '1996-08-06', '1998-01-20', '1997-04-02', '1997-12-08', '1996-12-04', '1997-11-13', '1996-12-25', '1997-06-04', '1997-03-12', '1997-03-06', '1998-03-03', '1997-08-15', '1997-08-07', '1997-04-01', '1997-10-28', '1998-04-06', '1998-03-16', '1997-03-25', '1998-03-02', '1997-12-25', '1997-07-16', '1997-11-21', '1997-09-04', '1996-10-31', '1997-06-20', '1997-06-17', '1996-10-18', '1997-03-31', '1998-04-16', '1998-05-01', '1997-09-15', '1996-10-02', '1997-06-09', '1998-04-30', '1998-04-02', '1998-03-17', '1997-06-30', '1997-01-31', '1998-02-09', '1997-10-21', '1996-09-09', '1996-09-17', '1997-10-13', '1997-01-06', '1996-11-25', '1996-11-22', '1997-11-03', '1997-09-05', '1996-07-30', '1997-08-08', '1998-04-29']}, {'name': 'required_date', 'type': 'DATE', 'nullable': True, 'distinct_values': ['1996-11-08', '1996-10-11', '1996-08-12', '1998-04-07', '1998-03-24', '1997-12-02', '1997-05-29', '1997-05-06', '1997-02-13', '1996-12-18', '1997-08-05', '1997-07-24', '1996-08-26', '1997-09-30', '1997-10-20', '1997-04-30', '1997-02-25', '1997-11-11', '1997-07-15', '1996-09-03', '1998-03-18', '1998-03-30', '1996-09-23', '1998-06-11', '1997-02-12', '1997-01-15', '1998-05-06', '1998-05-08', '1997-02-06', '1998-01-06', '1998-04-28', '1997-11-18', '1996-10-21', '1996-08-19', '1997-10-30', '1996-08-01', '1998-02-16', '1997-07-31', '1996-09-11', '1997-03-21', '1998-05-14', '1996-10-24', '1998-04-01', '1996-12-02', '1998-05-11', '1997-05-02', '1997-01-20', '1998-04-17', '1998-02-03', '1996-09-06', '1997-07-10', '1997-06-25', '1997-01-07', '1997-12-29', '1997-10-06', '1997-06-12', '1997-04-18', '1998-05-22', '1997-08-04', '1996-10-14', '1998-04-21', '1997-03-19', '1997-02-24', '1997-07-21', '1998-04-15', '1997-09-02', '1996-11-20', '1996-11-19', '1998-05-19', '1996-09-24', '1997-07-28', '1996-09-30', '1996-08-14', '1998-05-21', '1997-10-29', '1997-03-20', '1997-04-17', '1998-04-08', '1997-04-08', '1998-04-14', '1997-12-05', '1998-05-26', '1998-03-04', '1997-01-27', '1998-06-03', '1998-02-12', '1997-03-24', '1996-12-26', '1997-04-03', '1997-10-09', '1998-02-05', '1997-11-19', '1997-07-02', '1997-09-09', '1996-10-15', '1998-01-12', '1997-01-01', '1997-12-17', '1998-03-11', '1997-10-17']}, {'name': 'shipped_date', 'type': 'DATE', 'nullable': True, 'distinct_values': ['1996-09-03', '1998-03-18', '1998-03-30', '1996-09-23', '1997-02-12', '1997-01-15', '1998-05-06', '1997-02-06', '1998-01-06', '1998-04-28', '1997-11-18', '1996-10-21', '1997-10-30', '1998-02-16', '1997-02-28', '1997-07-31', '1996-09-11', '1997-03-21', '1996-10-24', '1998-04-01', '1996-12-02', '1997-05-23', '1997-05-02', '1998-04-17', '1998-02-03', '1997-07-10', '1997-06-25', '1997-07-01', '1997-06-12', '1997-04-18', '1997-08-04', '1996-10-14', '1998-04-21', '1997-03-19', '1997-02-24', '1997-07-21', '1998-04-15', '1997-09-02', '1996-11-20', '1997-08-29', '1996-09-24', '1996-07-12', '1996-08-14', '1997-10-29', '1997-04-17', '1998-04-08', '1997-04-08', '1998-04-14', '1996-07-11', '1997-12-05', '1998-03-04', '1997-01-27', '1998-02-12', '1997-03-24', '1996-12-26', '1997-04-03', '1997-10-09', '1998-02-05', '1997-07-02', '1997-02-27', '1997-09-09', '1998-01-12', '1997-01-01', '1997-12-17', '1998-03-11', '1997-10-17', '1998-03-20', '1998-03-06', '1998-01-07', '1998-05-04', '1998-02-23', '1996-11-06', '1997-03-04', '1996-07-23', '1998-03-26', '1997-12-09', '1998-04-13', '1997-09-29', '1997-06-24', '1997-02-20', '1997-06-06', '1997-01-03', '1997-04-10', '1996-10-23', '1996-10-03', '1997-08-18', '1997-07-14', '1997-10-15', '1997-04-09', '1997-11-07', '1997-02-03', '1998-01-19', '1997-03-11', '1998-05-05', '1997-05-01', '1997-03-18', '1996-08-06', '1998-01-20', '1997-10-22', '1998-02-10']}, {'name': 'ship_via', 'type': 'SMALLINT', 'nullable': True, 'distinct_values': ['3', '2', '1']}, {'name': 'freight', 'type': 'REAL', 'nullable': True, 'distinct_values': ['53.23', '214.27', '16.85', '30.09', '25.36', '158.44', '54.83', '143.28', '44.12', '25.09', '23.29', '127.34', '65.06', '74.46', '96.5', '45.53', '34.76', '16.37', '52.52', '71.49', '62.22', '3.25', '1.26', '38.24', '23.94', '30.54', '42.68', '603.54', '44.17', '175.32', '257.62', '90.85', '157.55', '2.94', '141.06', '17.68', '3.51', '135.35', '18.69', '189.09', '6.2', '4.56', '51.44', '110.87', '77.78', '45.97', '3.52', '180.45', '7.48', '1.39', '26.06', '58.17', '400.81', '21.72', '25.73', '167.05', '13.84', '145.63', '370.61', '25.83', '145.45', '75.89', '149.47', '23.79', '0.53', '8.56', '96.35', '95.66', '93.63', '55.09', '754.26', '44.15', '88.01', '242.21', '10.64', '351.53', '55.12', '9.3', '580.91', '4.32', '29.75', '96.72', '62.52', '26.52', '176.81', '79.4', '40.26', '26.61', '487.57', '8.24', '77.92', '70.58', '27.71', '68.65', '59.13', '84.21', '38.64', '1007.64', '1.12', '7.15']}, {'name': 'ship_name', 'type': 'VARCHAR(40)', 'nullable': True, 'distinct_values': ['Wilman Kala', 'Magazzini Alimentari Riuniti', 'The Cracker Box', 'Wellington Importadora', \"Let's Stop N Shop\", 'Furia Bacalhau e Frutos do Mar', 'Toms Spezialitäten', 'Lehmanns Marktstand', 'Mère Paillarde', 'Rattlesnake Canyon Grocery', 'Que Delícia', 'The Big Cheese', 'Hungry Owl All-Night Grocers', 'Königlich Essen', 'North/South', 'GROSELLA-Restaurante', 'Frankenversand', 'Folies gourmandes', 'Around the Horn', 'Split Rail Beer & Ale', 'Comércio Mineiro', 'Gourmet Lanchonetes', \"Alfred's Futterkiste\", 'Santé Gourmet', 'Victuailles en stock', 'Chop-suey Chinese', 'Alfreds Futterkiste', 'Lonesome Pine Restaurant', 'HILARION-Abastos', \"La corne d'abondance\", 'Old World Delicatessen', 'LILA-Supermercado', 'Godos Cocina Típica', 'Die Wandernde Kuh', 'Morgenstern Gesundkost', 'Ricardo Adocicados', 'Spécialités du monde', \"La maison d'Asie\", 'Bólido Comidas preparadas', 'Wartian Herkku', \"Bon app'\", 'Berglunds snabbköp', 'Eastern Connection', 'Seven Seas Imports', 'Océano Atlántico Ltda.', 'Drachenblut Delikatessen', 'Suprêmes délices', 'Ernst Handel', 'LINO-Delicateses', 'Antonio Moreno Taquería', 'Ottilies Käseladen', 'Cactus Comidas para llevar', 'Princesa Isabel Vinhos', 'Hungry Coyote Import Store', 'Great Lakes Food Market', 'Save-a-lot Markets', 'Reggiani Caseifici', 'Maison Dewey', 'Queen Cozinha', 'Tradiçao Hipermercados', 'Simons bistro', 'Laughing Bacchus Wine Cellars', 'Wolski Zajazd', 'QUICK-Stop', 'Richter Supermarkt', 'Tortuga Restaurante', 'Consolidated Holdings', 'Vins et alcools Chevalier', 'Franchi S.p.A.', 'Folk och fä HB', 'Hanari Carnes', 'Blauer See Delikatessen', 'Blondel père et fils', \"Trail's Head Gourmet Provisioners\", 'Rancho grande', 'Familia Arquibaldo', 'Lazy K Kountry Store', 'Vaffeljernet', 'Pericles Comidas clásicas', 'Ana Trujillo Emparedados y helados', 'Galería del gastronómo', 'Centro comercial Moctezuma', 'France restauration', 'Bottom-Dollar Markets', \"B's Beverages\", 'Romero y tomillo', 'White Clover Markets', 'Piccolo und mehr', 'Island Trading', 'Du monde entier']}, {'name': 'ship_address', 'type': 'VARCHAR(60)', 'nullable': True, 'distinct_values': ['Mataderos  2312', 'Gran Vía, 1', 'Rua do Mercado, 12', 'Calle Dr. Jorge Cash 321', 'Åkergatan 24', 'Boulevard Tirou, 255', 'Rua Orós, 92', 'Adenauerallee 900', 'Via Ludovico il Moro 22', 'Keskuskatu 45', 'Cerrito 333', 'Brook Farm Stratford St. Mary', \"59 rue de l'Abbaye\", 'Garden House Crowther Way', 'Rua da Panificadora, 12', '1029 - 12th Ave. S.', '35 King George', 'Walserweg 21', 'Hauptstr. 31', 'Av. dos Lusíadas, 23', 'Sierras de Granada 9993', 'Rua do Paço, 67', '89 Chiaroscuro Rd.', 'C/ Araquil, 67', 'Kirchgasse 6', 'P.O. Box 555', 'Berliner Platz 43', 'Starenweg 5', '722 DaVinci Blvd.', 'Magazinweg 7', '54, rue Royale', 'Av. Brasil, 442', 'Carrera 52 con Ave. Bolívar #65-98 Llano Largo', '23 Tsawassen Blvd.', '184, chaussée de Tournai', '12, rue des Bouchers', '89 Jefferson Way Suite 2', '55 Grizzly Peak Rd.', 'Rue Joseph-Bens 532', 'Geislweg 14', 'Berkeley Gardens 12  Brewery', 'Forsterstr. 57', 'Jardim das rosas n. 32', '2743 Bering St.', 'Smagsloget 45', \"67, avenue de l'Europe\", '1 rue Alsace-Lorraine', '43 rue St. Laurent', '8 Johnstown Road', 'Berguvsvägen  8', 'Rambla de Cataluña, 23', '2, rue du Commerce', 'Heerstr. 22', '12 Orchestra Terrace', '24, place Kléber', 'Avda. Azteca 123', '5ª Ave. Los Palos Grandes', 'Av. del Libertador 900', 'Torikatu 38', 'Ing. Gustavo Moncada 8585 Piso 20-A', 'Ave. 5 de Mayo Porlamar', '25, rue Lauriston', 'Maubelstr. 90', '67, rue des Cinquante Otages', 'Alameda dos Canàrios, 891', 'Obere Str. 57', 'Av. Inês de Castro, 414', 'ul. Filtrowa 68', 'Luisenstr. 48', 'Via Monte Bianco 34', 'C/ Romero, 33', 'Strada Provinciale 124', '2817 Milton Dr.', 'South House 300 Queensbridge', '2319 Elm St.', 'Estrada da saúde n. 58', '187 Suffolk Ln.', 'Mehrheimerstr. 369', '90 Wadhurst Rd.', 'Carrera 22 con Ave. Carlos Soublette #8-35', 'Taucherstraße 10', 'Vinbæltet 34', '87 Polk St. Suite 5', 'Erling Skakkes gate 78', 'Fauntleroy Circus', '2732 Baker Blvd.', 'City Center Plaza 516 Main St.', 'Av. Copacabana, 267', 'Avda. de la Constitución 2222']}, {'name': 'ship_city', 'type': 'VARCHAR(15)', 'nullable': True, 'distinct_values': ['Butte', 'Paris', 'Cowes', 'Cork', 'Bern', 'Aachen', 'Brandenburg', 'Walla Walla', 'Warszawa', 'Münster', 'San Francisco', 'Eugene', 'Berlin', 'Caracas', 'Lille', 'Lyon', 'Elgin', 'Salzburg', 'Frankfurt a.M.', 'Stuttgart', 'Portland', 'Bruxelles', 'Århus', 'Barcelona', 'Leipzig', 'Reims', 'Oulu', 'Seattle', 'Versailles', 'Sevilla', 'Helsinki', 'Sao Paulo', 'Albuquerque', 'Marseille', 'Kirkland', 'Boise', 'Reggio Emilia', 'Bergamo', 'Strasbourg', 'Toulouse', 'Colchester', 'München', 'Charleroi', 'Resende', 'Tsawassen', 'London', 'Stavern', 'Mannheim', 'Barquisimeto', 'Anchorage', 'Köln', 'Genève', 'Kobenhavn', 'Luleå', 'Campinas', 'Lisboa', 'Torino', 'Bräcke', 'Graz', 'Cunewalde', 'Montréal', 'Madrid', 'Lander', 'México D.F.', 'Vancouver', 'I. de Margarita', 'Buenos Aires', 'San Cristóbal', 'Rio de Janeiro', 'Nantes']}, {'name': 'ship_region', 'type': 'VARCHAR(15)', 'nullable': True, 'distinct_values': ['Lara', 'DF', 'ID', 'Táchira', 'SP', 'Nueva Esparta', 'Essex', 'CA', 'AK', 'Isle of Wight', 'OR', 'WY', 'MT', 'RJ', 'WA', 'NM', 'Co. Cork', 'BC', 'Québec']}, {'name': 'ship_postal_code', 'type': 'VARCHAR(10)', 'nullable': True, 'distinct_values': ['12209', '1675', '5022', '05454-876', '04876-786', '02389-890', '51100', '8200', '80805', '44000', '5020', '59801', '05023', '68306', '97827', '3508', 'B-1180', 'SW7 1RZ', '05033', '28001', '82520', '24100', '50739', '97201', '97219', '05634-030', 'WX1 6LT', '94117', 'PO31 7PJ', '78000', 'V3F 2K1', '3012', '44087', '1010', '8010', '1204', '98034', '4980', 'EC2 5NT', '87110', '67000', 'H1J 1C3', '90110', '08737-363', '1756', '69004', '14776', 'WX3 6FW', '21240', '99508', '13008', '05442-030', '05021', 'OX15 4NB', 'CO7 6JX', '01307', '05432-043', '75016', '1081', '97403', '31000', '59000', '05022', '41101', '98124', '1734', '70563', '83720', 'S-844 67', '05487-020', 'S-958 22', 'B-6000', '52066', '02389-673', '04179', '8022', '01-012', '99362', '10100', 'T2F 8M4', '42100', '4110', '60528', '28023']}, {'name': 'ship_country', 'type': 'VARCHAR(15)', 'nullable': True, 'distinct_values': ['Argentina', 'Spain', 'Switzerland', 'Italy', 'Venezuela', 'Belgium', 'Norway', 'Sweden', 'USA', 'France', 'Mexico', 'Brazil', 'Austria', 'Poland', 'UK', 'Ireland', 'Germany', 'Denmark', 'Canada', 'Portugal', 'Finland']}], primary_keys=['order_id'], foreign_keys=[{'constrained_columns': ['customer_id'], 'referred_table': 'customers', 'referred_columns': ['customer_id']}, {'constrained_columns': ['employee_id'], 'referred_table': 'employees', 'referred_columns': ['employee_id']}, {'constrained_columns': ['ship_via'], 'referred_table': 'shippers', 'referred_columns': ['shipper_id']}], row_count=830), description='', keywords=[], importance_score=0.0), 'employees': EnhancedTableMetadata(base_metadata=TableMetadata(name='employees', columns=[{'name': 'employee_id', 'type': 'SMALLINT', 'nullable': False, 'distinct_values': ['1', '9', '4', '8', '6', '3', '2', '7', '5']}, {'name': 'last_name', 'type': 'VARCHAR(20)', 'nullable': False, 'distinct_values': ['Callahan', 'Fuller', 'Leverling', 'Peacock', 'Suyama', 'Buchanan', 'Dodsworth', 'Davolio', 'King']}, {'name': 'first_name', 'type': 'VARCHAR(10)', 'nullable': False, 'distinct_values': ['Laura', 'Janet', 'Andrew', 'Nancy', 'Anne', 'Robert', 'Michael', 'Steven', 'Margaret']}, {'name': 'title', 'type': 'VARCHAR(30)', 'nullable': True, 'distinct_values': ['Vice President, Sales', 'Inside Sales Coordinator', 'Sales Representative', 'Sales Manager']}, {'name': 'title_of_courtesy', 'type': 'VARCHAR(25)', 'nullable': True, 'distinct_values': ['Mrs.', 'Mr.', 'Ms.', 'Dr.']}, {'name': 'birth_date', 'type': 'DATE', 'nullable': True, 'distinct_values': ['1937-09-19', '1958-01-09', '1966-01-27', '1948-12-08', '1952-02-19', '1960-05-29', '1955-03-04', '1963-08-30', '1963-07-02']}, {'name': 'hire_date', 'type': 'DATE', 'nullable': True, 'distinct_values': ['1994-01-02', '1992-08-14', '1993-05-03', '1993-10-17', '1994-11-15', '1992-05-01', '1994-03-05', '1992-04-01']}, {'name': 'address', 'type': 'VARCHAR(60)', 'nullable': True, 'distinct_values': ['Edgeham Hollow\\\\nWinchester Way', '4110 Old Redmond Rd.', '908 W. Capital Way', '14 Garrett Hill', 'Coventry House\\\\nMiner Rd.', '722 Moss Bay Blvd.', '4726 - 11th Ave. N.E.', '507 - 20th Ave. E.\\\\nApt. 2A', '7 Houndstooth Rd.']}, {'name': 'city', 'type': 'VARCHAR(15)', 'nullable': True, 'distinct_values': ['Redmond', 'London', 'Tacoma', 'Kirkland', 'Seattle']}, {'name': 'region', 'type': 'VARCHAR(15)', 'nullable': True, 'distinct_values': ['WA']}, {'name': 'postal_code', 'type': 'VARCHAR(10)', 'nullable': True, 'distinct_values': ['98033', '98105', 'RG1 9SP', 'WG2 7LT', '98401', '98052', 'EC2 7JR', 'SW1 8JR', '98122']}, {'name': 'country', 'type': 'VARCHAR(15)', 'nullable': True, 'distinct_values': ['UK', 'USA']}, {'name': 'home_phone', 'type': 'VARCHAR(24)', 'nullable': True, 'distinct_values': ['(206) 555-8122', '(71) 555-5598', '(71) 555-7773', '(71) 555-4848', '(71) 555-4444', '(206) 555-9482', '(206) 555-3412', '(206) 555-9857', '(206) 555-1189']}, {'name': 'extension', 'type': 'VARCHAR(4)', 'nullable': True, 'distinct_values': ['428', '5176', '2344', '3453', '465', '452', '3457', '3355', '5467']}, {'name': 'photo', 'type': 'BYTEA', 'nullable': True, 'distinct_values': ['\\\\x']}, {'name': 'notes', 'type': 'TEXT', 'nullable': True, 'distinct_values': ['Andrew received his BTS commercial in 1974 and a Ph.D. in international marketing from the University of Dallas in 1981.  He is fluent in French and Italian and reads German.  He joined the company as a sales representative, was promoted to sales manager in January 1992 and to vice president of sales in March 1993.  Andrew is a member of the Sales Management Roundtable, the Seattle Chamber of Commerce, and the Pacific Rim Importers Association.', 'Anne has a BA degree in English from St. Lawrence College.  She is fluent in French and German.', 'Laura received a BA in psychology from the University of Washington.  She has also completed a course in business French.  She reads and writes French.', 'Michael is a graduate of Sussex University (MA, economics, 1983) and the University of California at Los Angeles (MBA, marketing, 1986).  He has also taken the courses Multi-Cultural Selling and Time Management for the Sales Professional.  He is fluent in Japanese and can read and write French, Portuguese, and Spanish.', 'Janet has a BS degree in chemistry from Boston College (1984).  She has also completed a certificate program in food retailing management.  Janet was hired as a sales associate in 1991 and promoted to sales representative in February 1992.', 'Steven Buchanan graduated from St. Andrews University, Scotland, with a BSC degree in 1976.  Upon joining the company as a sales representative in 1992, he spent 6 months in an orientation program at the Seattle office and then returned to his permanent post in London.  He was promoted to sales manager in March 1993.  Mr. Buchanan has completed the courses Successful Telemarketing and International Sales Management.  He is fluent in French.', 'Margaret holds a BA in English literature from Concordia College (1958) and an MA from the American Institute of Culinary Arts (1966).  She was assigned to the London office temporarily from July through November 1992.', 'Education includes a BA in psychology from Colorado State University in 1970.  She also completed The Art of the Cold Call.  Nancy is a member of Toastmasters International.', 'Robert King served in the Peace Corps and traveled extensively before completing his degree in English at the University of Michigan in 1992, the year he joined the company.  After completing a course entitled Selling in Europe, he was transferred to the London office in March 1993.']}, {'name': 'reports_to', 'type': 'SMALLINT', 'nullable': True, 'distinct_values': ['2', '5']}, {'name': 'photo_path', 'type': 'VARCHAR(255)', 'nullable': True, 'distinct_values': ['http://accweb/emmployees/davolio.bmp', 'http://accweb/emmployees/leverling.bmp', 'http://accweb/emmployees/fuller.bmp', 'http://accweb/emmployees/peacock.bmp', 'http://accweb/emmployees/buchanan.bmp']}], primary_keys=['employee_id'], foreign_keys=[{'constrained_columns': ['reports_to'], 'referred_table': 'employees', 'referred_columns': ['employee_id']}], row_count=9), description='', keywords=[], importance_score=0.0), 'shippers': EnhancedTableMetadata(base_metadata=TableMetadata(name='shippers', columns=[{'name': 'shipper_id', 'type': 'SMALLINT', 'nullable': False, 'distinct_values': ['2', '1', '4', '6', '5', '3']}, {'name': 'company_name', 'type': 'VARCHAR(40)', 'nullable': False, 'distinct_values': ['UPS', 'United Package', 'DHL', 'Alliance Shippers', 'Federal Shipping', 'Speedy Express']}, {'name': 'phone', 'type': 'VARCHAR(24)', 'nullable': True, 'distinct_values': ['1-800-222-0451', '1-800-225-5345', '(503) 555-9831', '1-800-782-7892', '(503) 555-9931', '(503) 555-3199']}], primary_keys=['shipper_id'], foreign_keys=[], row_count=6), description='', keywords=[], importance_score=0.0), 'products': EnhancedTableMetadata(base_metadata=TableMetadata(name='products', columns=[{'name': 'product_id', 'type': 'SMALLINT', 'nullable': False, 'distinct_values': ['16', '26', '63', '71', '72', '70', '8', '75', '13', '28', '39', '19', '23', '20', '25', '14', '64', '34', '6', '18', '38', '32', '2', '68', '76', '74', '58', '37', '9', '4', '33', '30', '66', '45', '61', '51', '46', '53', '36', '27', '31', '11', '60', '43', '42', '62', '49', '69', '67', '12', '54', '10', '7', '47', '15', '55', '52', '5', '40', '73', '65', '44', '59', '77', '29', '1', '57', '21', '24', '56', '17', '48', '35', '41', '22', '3', '50']}, {'name': 'product_name', 'type': 'VARCHAR(40)', 'nullable': False, 'distinct_values': ['Pâté chinois', 'Flotemysost', 'Camembert Pierrot', 'Inlagd Sill', 'Thüringer Rostbratwurst', \"Gustaf's Knäckebröd\", 'Carnarvon Tigers', 'Tofu', 'Röd Kaviar', 'Rhönbräu Klosterbier', \"Sir Rodney's Scones\", 'Nord-Ost Matjeshering', 'Gorgonzola Telino', 'Lakkalikööri', \"Sirop d'érable\", 'Rogede sild', 'Rössle Sauerkraut', \"Sir Rodney's Marmalade\", 'Outback Lager', 'Filo Mix', \"Chef Anton's Gumbo Mix\", 'Louisiana Fiery Hot Pepper Sauce', 'Ravioli Angelo', 'Spegesild', 'Steeleye Stout', 'Queso Cabrales', 'Teatime Chocolate Biscuits', 'Laughing Lumberjack Lager', 'Raclette Courdavault', 'Alice Mutton', 'Singaporean Hokkien Fried Mee', 'Chartreuse verte', 'Mascarpone Fabioli', \"Grandma's Boysenberry Spread\", 'Sasquatch Ale', 'Guaraná Fantástica', 'Schoggi Schokolade', 'Genen Shouyu', 'Boston Crab Meat', 'Aniseed Syrup', 'Vegie-spread', 'Chai', 'Mozzarella di Giovanni', 'Scottish Longbreads', 'Ipoh Coffee', 'Geitost', 'Chocolade', 'Konbu', 'Pavlova', 'Queso Manchego La Pastora', 'Gula Malacca', 'Côte de Blaye', 'Gnocchi di nonna Alice', 'Maxilaku', 'Mishi Kobe Niku', 'Longlife Tofu', 'Zaanse koeken', 'Gudbrandsdalsost', 'Tunnbröd', 'Northwoods Cranberry Sauce', 'Louisiana Hot Spiced Okra', 'Tourtière', 'Gravad lax', 'Gumbär Gummibärchen', 'Original Frankfurter grüne Soße', 'NuNuCa Nuß-Nougat-Creme', 'Chang', 'Manjimup Dried Apples', \"Jack's New England Clam Chowder\", 'Escargots de Bourgogne', 'Perth Pasties', 'Valkoinen suklaa', 'Ikura', \"Chef Anton's Cajun Seasoning\", 'Wimmers gute Semmelknödel', \"Uncle Bob's Organic Dried Pears\", 'Tarte au sucre']}, {'name': 'supplier_id', 'type': 'SMALLINT', 'nullable': True, 'distinct_values': ['8', '12', '10', '7', '13', '28', '15', '5', '19', '23', '20', '25', '14', '6', '18', '2', '29', '1', '9', '4', '21', '24', '17', '22', '3', '27', '11', '16', '26']}, {'name': 'category_id', 'type': 'SMALLINT', 'nullable': True, 'distinct_values': ['1', '4', '8', '3', '6', '2', '7', '5']}, {'name': 'quantity_per_unit', 'type': 'VARCHAR(20)', 'nullable': True, 'distinct_values': ['16 - 2 kg boxes', '10 kg pkg.', '48 pieces', '18 - 500 g pkgs.', '10 boxes x 12 pieces', '12 - 200 ml jars', '15 - 625 g jars', '24 pkgs. x 4 pieces', '16 kg pkg.', '10 boxes x 30 bags', '10 - 200 g glasses', '12 - 100 g bars', '20 - 450 g glasses', '24 - 500 ml bottles', '24 - 250 g pkgs.', '500 ml', '1 kg pkg.', '36 boxes', '24 - 250 g  jars', '40 - 100 g pkgs.', '20 - 2 kg bags', '12 - 500 g pkgs.', '15 - 300 g rounds', '24 - 4 oz tins', '24 - 200 g pkgs.', '24 boxes x 2 pies', '50 bags x 30 sausgs.', '12 - 75 cl bottles', '100 - 250 g bags', '30 gift boxes', '24 - 500 g pkgs.', '50 - 300 g pkgs.', '24 - 8 oz jars', '1k pkg.', '32 - 8 oz bottles', '24 - 150 g jars', '10 - 4 oz boxes', '20 bags x 4 pieces', '24 - 12 oz bottles', '24 - 250 ml bottles', '32 - 1 kg pkgs.', '12 boxes', '16 - 500 g tins', '750 cc per bottle', '10 - 500 g pkgs.', '12 - 1 lb pkgs.', '24 pieces', '12 - 550 ml bottles', '24 - 0.5 l bottles', '12 - 12 oz jars', '10 boxes x 8 pieces', '5 kg pkg.', '12 - 355 ml cans', '48 pies', '32 - 500 g boxes', '16 pies', '12 - 12 oz cans', '4 - 450 g glasses', '20 - 1 kg tins', '24 - 355 ml bottles', '500 g', '24 - 50 g pkgs.', '10 pkgs.', '100 - 100 g pieces', '2 kg box', '25 - 825 g cans', '12 - 250 g pkgs.', '12 - 8 oz jars', '12 - 100 g pkgs', '48 - 6 oz jars']}, {'name': 'unit_price', 'type': 'REAL', 'nullable': True, 'distinct_values': ['4.5', '7.75', '19.5', '32.8', '13', '21.35', '28.5', '39', '19', '20', '14', '25', '34', '6', '12.5', '18', '32', '25.89', '38', '7.45', '2.5', '9.65', '9', '23.25', '30', '46', '36', '21.05', '53', '31', '45.6', '19.45', '62.5', '12', '97', '10', '33.25', '7', '34.8', '15', '55', '21.5', '40', '81', '49.3', '263.5', '9.5', '43.9', '31.23', '123.79', '12.75', '21', '16.25', '24', '17', '13.25', '18.4', '9.2', '22', '26', '17.45']}, {'name': 'units_in_stock', 'type': 'SMALLINT', 'nullable': True, 'distinct_values': ['26', '42', '62', '123', '49', '69', '10', '13', '15', '52', '5', '85', '86', '113', '40', '39', '19', '65', '20', '14', '25', '95', '79', '115', '104', '6', '32', '38', '111', '76', '0', '29', '57', '4', '9', '21', '125', '24', '17', '35', '101', '61', '22', '3', '120', '36', '53', '27', '11', '31', '112']}, {'name': 'units_on_order', 'type': 'SMALLINT', 'nullable': True, 'distinct_values': ['10', '50', '60', '30', '40', '0', '100', '20', '80', '70']}, {'name': 'reorder_level', 'type': 'SMALLINT', 'nullable': True, 'distinct_values': ['10', '15', '5', '30', '0', '20', '25']}, {'name': 'discontinued', 'type': 'INTEGER', 'nullable': False, 'distinct_values': ['1', '0']}], primary_keys=['product_id'], foreign_keys=[{'constrained_columns': ['category_id'], 'referred_table': 'categories', 'referred_columns': ['category_id']}, {'constrained_columns': ['supplier_id'], 'referred_table': 'suppliers', 'referred_columns': ['supplier_id']}], row_count=77), description='', keywords=[], importance_score=0.0), 'categories': EnhancedTableMetadata(base_metadata=TableMetadata(name='categories', columns=[{'name': 'category_id', 'type': 'SMALLINT', 'nullable': False, 'distinct_values': ['1', '4', '8', '6', '3', '2', '7', '5']}, {'name': 'category_name', 'type': 'VARCHAR(15)', 'nullable': False, 'distinct_values': ['Beverages', 'Produce', 'Condiments', 'Grains/Cereals', 'Meat/Poultry', 'Dairy Products', 'Confections', 'Seafood']}, {'name': 'description', 'type': 'TEXT', 'nullable': True, 'distinct_values': ['Desserts, candies, and sweet breads', 'Seaweed and fish', 'Breads, crackers, pasta, and cereal', 'Dried fruit and bean curd', 'Prepared meats', 'Soft drinks, coffees, teas, beers, and ales', 'Sweet and savory sauces, relishes, spreads, and seasonings', 'Cheeses']}, {'name': 'picture', 'type': 'BYTEA', 'nullable': True, 'distinct_values': ['\\\\x']}], primary_keys=['category_id'], foreign_keys=[], row_count=8), description='', keywords=[], importance_score=0.0), 'suppliers': EnhancedTableMetadata(base_metadata=TableMetadata(name='suppliers', columns=[{'name': 'supplier_id', 'type': 'SMALLINT', 'nullable': False, 'distinct_values': ['8', '12', '10', '7', '13', '28', '15', '5', '19', '23', '20', '25', '14', '6', '18', '2', '29', '1', '9', '4', '21', '24', '17', '22', '3', '27', '11', '16', '26']}, {'name': 'company_name', 'type': 'VARCHAR(40)', 'nullable': False, 'distinct_values': ['Heli Süßwaren GmbH & Co. KG', 'New Orleans Cajun Delights', 'Escargots Nouveaux', 'New England Seafood Cannery', \"Grandma Kelly's Homestead\", 'Pavlova, Ltd.', 'Gai pâturage', 'Svensk Sjöföda AB', 'Leka Trading', 'Refrescos Americanas LTDA', \"Forêts d'érables\", \"Mayumi's\", 'Norske Meierier', 'Zaanse Snoepfabriek', 'Bigfoot Breweries', \"Cooperativa de Quesos 'Las Cabras'\", 'Exotic Liquids', 'PB Knäckebröd AB', 'Lyngbysild', 'Plutzer Lebensmittelgroßmärkte AG', \"G'day, Mate\", 'Formaggi Fortini s.r.l.', 'Specialty Biscuits, Ltd.', 'Nord-Ost-Fisch Handelsgesellschaft mbH', 'Pasta Buttini s.r.l.', 'Ma Maison', 'Tokyo Traders', 'Aux joyeux ecclésiastiques', 'Karkki Oy']}, {'name': 'contact_name', 'type': 'VARCHAR(30)', 'nullable': True, 'distinct_values': ['Charlotte Cooper', 'Chandra Leka', 'Antonio del Valle Saavedra', 'Yoshi Nagase', 'Wendy Mackenzie', 'Robb Merchant', 'Martin Bein', 'Lars Peterson', 'Shelley Burke', 'Peter Wilson', 'Elio Rossi', 'Beate Vileid', 'Marie Delamare', 'Petra Winkler', 'Anne Heikkonen', 'Regina Murphy', 'Chantal Goulet', 'Guylène Nodier', 'Dirk Luchte', 'Cheryl Saylor', 'Mayumi Ohno', 'Niels Petersen', 'Ian Devling', 'Jean-Guy Lauzon', 'Sven Petersen', 'Carlos Diaz', 'Michael Björn', 'Giovanni Giudici', 'Eliane Noz']}, {'name': 'contact_title', 'type': 'VARCHAR(30)', 'nullable': True, 'distinct_values': ['Accounting Manager', 'Export Administrator', 'Marketing Representative', 'Marketing Manager', 'Purchasing Manager', 'Sales Manager', 'Owner', 'Regional Account Rep.', 'Wholesale Account Agent', 'Coordinator Foreign Markets', 'Sales Agent', 'Product Manager', 'International Marketing Mgr.', 'Order Administrator', 'Sales Representative']}, {'name': 'address', 'type': 'VARCHAR(60)', 'nullable': True, 'distinct_values': ['Brovallavägen 231', '471 Serangoon Loop, Suite #402', \"170 Prince Edward Parade Hunter's Hill\", 'Via dei Gelsomini, 153', '203, Rue des Francs-Bourgeois', 'Calle del Rosal 4', 'P.O. Box 78934', 'Hatlevegen 5', '49 Gilbert St.', 'Bat. B 3, rue des Alpes', 'Lyngbysild Fiskebakken 10', '74 Rose St. Moonie Ponds', '22, rue H. Voiron', 'Frahmredder 112a', '148 rue Chasseur', 'Verkoop Rijnweg 22', '2960 Rue St. Laurent', 'Viale Dante, 75', 'Bogenallee 51', '3400 - 8th Avenue Suite 210', '92 Setsuko Chuo-ku', 'Kaloadagatan 13', 'Av. das Americanas 12.890', '9-8 Sekimai Musashino-shi', '707 Oxford Rd.', \"29 King's Way\", 'Tiergartenstraße 5', 'Valtakatu 12', 'Order Processing Dept. 2100 Paul Revere Blvd.']}, {'name': 'city', 'type': 'VARCHAR(15)', 'nullable': True, 'distinct_values': ['Ste-Hyacinthe', 'Lyngby', 'Paris', 'London', 'Sydney', 'Ravenna', 'Tokyo', 'Salerno', 'Berlin', 'Zaandam', 'Oviedo', 'Singapore', 'Stockholm', 'Montréal', 'Osaka', 'Manchester', 'Lappeenranta', 'Cuxhaven', 'Ann Arbor', 'Bend', 'New Orleans', 'Sandvika', 'Boston', 'Montceau', 'Göteborg', 'Annecy', 'Sao Paulo', 'Frankfurt', 'Melbourne']}, {'name': 'region', 'type': 'VARCHAR(15)', 'nullable': True, 'distinct_values': ['OR', 'LA', 'MI', 'MA', 'NSW', 'Victoria', 'Asturias', 'Québec']}, {'name': 'postal_code', 'type': 'VARCHAR(10)', 'nullable': True, 'distinct_values': ['2800', '5442', '2042', '48104', 'J2S 7S8', '75004', '1320', '97101', '27478', '3058', '100', '0512', '48100', '9999 ZZ', 'EC1 4SD', '71300', '74000', 'S-123 45', '545', '33007', '60439', '02134', 'M14 GSD', '84100', '70117', 'H1J 1C3', '53120', 'S-345 67', '10785']}, {'name': 'country', 'type': 'VARCHAR(15)', 'nullable': True, 'distinct_values': ['Spain', 'Italy', 'Norway', 'Sweden', 'France', 'USA', 'Netherlands', 'Brazil', 'Australia', 'UK', 'Germany', 'Japan', 'Denmark', 'Singapore', 'Canada', 'Finland']}, {'name': 'phone', 'type': 'VARCHAR(24)', 'nullable': True, 'distinct_values': ['(617) 555-3267', '(12345) 1212', '(0)2-953010', '38.76.98.06', '(98) 598 76 54', '(03) 444-2343', '(069) 992755', '(03) 3555-5011', '85.57.00.07', '(04721) 8713', '031-987 65 43', '43844108', '(514) 555-2955', '(06) 431-7877', '(1) 03.83.00.68', '(02) 555-5914', '08-123 45 67', '(0544) 60323', '(953) 10956', '(313) 555-5735', '(171) 555-2222', '(010) 9984510', '(161) 555-4448', '555-8787', '(100) 555-4822', '(089) 6547665', '(514) 555-9022', '(503) 555-9931', '(11) 555 4640']}, {'name': 'fax', 'type': 'VARCHAR(24)', 'nullable': True, 'distinct_values': ['(04721) 8714', '(1) 03.83.00.62', '(617) 555-3389', '(03) 444-6588', '38.76.98.58', '(089) 6547667', '(313) 555-3349', '(514) 555-2921', '(12345) 1210', '(02) 555-4873', '031-987 65 91', '(0544) 60603', '43844115']}, {'name': 'homepage', 'type': 'TEXT', 'nullable': True, 'distinct_values': [\"G'day Mate (on the World Wide Web)#http://www.microsoft.com/accessdev/sampleapps/gdaymate.htm#\", '#FORMAGGI.HTM#', '#CAJUN.HTM#', 'Plutzer (on the World Wide Web)#http://www.microsoft.com/accessdev/sampleapps/plutzer.htm#', \"Mayumi's (on the World Wide Web)#http://www.microsoft.com/accessdev/sampleapps/mayumi.htm#\"]}], primary_keys=['supplier_id'], foreign_keys=[], row_count=29), description='', keywords=[], importance_score=0.0), 'region': EnhancedTableMetadata(base_metadata=TableMetadata(name='region', columns=[{'name': 'region_id', 'type': 'SMALLINT', 'nullable': False, 'distinct_values': ['1', '2', '3', '4']}, {'name': 'region_description', 'type': 'VARCHAR(60)', 'nullable': False, 'distinct_values': ['Eastern', 'Southern', 'Western', 'Northern']}], primary_keys=['region_id'], foreign_keys=[], row_count=4), description='', keywords=[], importance_score=0.0), 'customer_demographics': EnhancedTableMetadata(base_metadata=TableMetadata(name='customer_demographics', columns=[{'name': 'customer_type_id', 'type': 'VARCHAR(5)', 'nullable': False, 'distinct_values': []}, {'name': 'customer_desc', 'type': 'TEXT', 'nullable': True, 'distinct_values': []}], primary_keys=['customer_type_id'], foreign_keys=[], row_count=0), description='', keywords=[], importance_score=0.0), 'customer_customer_demo': EnhancedTableMetadata(base_metadata=TableMetadata(name='customer_customer_demo', columns=[{'name': 'customer_id', 'type': 'VARCHAR(5)', 'nullable': False, 'distinct_values': []}, {'name': 'customer_type_id', 'type': 'VARCHAR(5)', 'nullable': False, 'distinct_values': []}], primary_keys=['customer_id', 'customer_type_id'], foreign_keys=[{'constrained_columns': ['customer_type_id'], 'referred_table': 'customer_demographics', 'referred_columns': ['customer_type_id']}, {'constrained_columns': ['customer_id'], 'referred_table': 'customers', 'referred_columns': ['customer_id']}], row_count=0), description='', keywords=[], importance_score=0.0)}\n"
     ]
    }
   ],
   "source": [
    "from src.schema_metadata.postgres_metadata_retriever import PostgresMetadataRetriever\n",
    "from src.schema_metadata.enhancement_strategy import MetadataEnhancementStrategy\n",
    "\n",
    "# We can decide if we want to enhance the metadata retrieved from the database\n",
    "# enhancing mean use an LLM to add more information to the metadata, like table description\n",
    "class SimpleEnhancementStrategy(MetadataEnhancementStrategy):\n",
    "    def should_enhance(self) -> bool:\n",
    "        return False # True to enhance metadata, False to keep the original metadata\n",
    "\n",
    "# create metadata retriever\n",
    "metadata_retriever = PostgresMetadataRetriever(\n",
    "    db_engine=db.engine,\n",
    "    llm_handler=llm,\n",
    "    enhancement_strategy=SimpleEnhancementStrategy(),\n",
    "    schema=\"northwind\"  # your schema here\n",
    ")\n",
    "\n",
    "metadata = metadata_retriever.get_all_tables_metadata()\n",
    "\n",
    "print(metadata)"
   ]
  },
  {
   "cell_type": "markdown",
   "metadata": {},
   "source": [
    "Right now access to the data is not immediate, partly because we have to go through the dataclas (see cell below).  \n",
    "One might think about how to make accessing the info more intuitive, more dictionary style."
   ]
  },
  {
   "cell_type": "code",
   "execution_count": 5,
   "metadata": {},
   "outputs": [
    {
     "data": {
      "text/plain": [
       "[{'constrained_columns': ['region_id'],\n",
       "  'referred_table': 'region',\n",
       "  'referred_columns': ['region_id']}]"
      ]
     },
     "execution_count": 5,
     "metadata": {},
     "output_type": "execute_result"
    }
   ],
   "source": [
    "metadata['territories'].base_metadata.foreign_keys"
   ]
  },
  {
   "cell_type": "markdown",
   "metadata": {},
   "source": [
    "## Store"
   ]
  },
  {
   "cell_type": "code",
   "execution_count": 6,
   "metadata": {},
   "outputs": [
    {
     "name": "stderr",
     "output_type": "stream",
     "text": [
      "INFO:hey-database:Collection tutorial_collection already exists\n",
      "INFO:hey-database:Collection already populated, skipping metadata population\n"
     ]
    },
    {
     "name": "stdout",
     "output_type": "stream",
     "text": [
      "Vector store inizializzato con successo!\n",
      "Metadati caricati nel vector store!\n"
     ]
    },
    {
     "name": "stderr",
     "output_type": "stream",
     "text": [
      "INFO:httpx:HTTP Request: POST https://api.openai.com/v1/embeddings \"HTTP/1.1 200 OK\"\n"
     ]
    },
    {
     "name": "stdout",
     "output_type": "stream",
     "text": [
      "\n",
      "Tabelle più rilevanti per la query:\n",
      "\n",
      "Tabella: orders\n",
      "Score: 0.3863829238671133\n",
      "Descrizione: \n",
      "\n",
      "Tabella: customers\n",
      "Score: 0.3790589369388381\n",
      "Descrizione: \n"
     ]
    }
   ],
   "source": [
    "from src.embedding.openai_embedding import OpenAIEmbedding\n",
    "from src.store.qdrant_vectorstore import QdrantStore\n",
    "\n",
    "# embedding model for vectorize documents in store\n",
    "embedding_model = OpenAIEmbedding(\n",
    "    api_key=api_key,\n",
    "    model=\"text-embedding-3-small\"\n",
    ")\n",
    "\n",
    "# store initialization\n",
    "vector_store = QdrantStore(\n",
    "    path=\"./data/tutorial\",  # per storage locale\n",
    "    collection_name=\"tutorial_collection\",\n",
    "    embedding_model=embedding_model\n",
    ")\n",
    "\n",
    "# collection initialization\n",
    "if vector_store.initialize():\n",
    "    print(\"Vector store inizializzato con successo!\")\n",
    "    \n",
    "    # Popola con i metadati\n",
    "    if vector_store.populate_store_with_metadata(metadata):\n",
    "        print(\"Metadati caricati nel vector store!\")\n",
    "        \n",
    "        # Prova una ricerca\n",
    "        user_query = \"Trova informazioni sugli ordini e i clienti\"\n",
    "        results = vector_store.search_similar_tables(user_query, limit=2)\n",
    "        \n",
    "        print(\"\\nTabelle più rilevanti per la query:\")\n",
    "        for result in results:\n",
    "            print(f\"\\nTabella: {result.table_name}\")\n",
    "            print(f\"Score: {result.relevance_score}\")\n",
    "            print(f\"Descrizione: {result.metadata.description}\")"
   ]
  },
  {
   "cell_type": "markdown",
   "metadata": {},
   "source": [
    "## SQL Agent"
   ]
  },
  {
   "cell_type": "code",
   "execution_count": 8,
   "metadata": {},
   "outputs": [
    {
     "name": "stderr",
     "output_type": "stream",
     "text": [
      "INFO:httpx:HTTP Request: POST https://api.openai.com/v1/embeddings \"HTTP/1.1 200 OK\"\n",
      "INFO:httpx:HTTP Request: POST https://api.openai.com/v1/embeddings \"HTTP/1.1 200 OK\"\n",
      "INFO:httpx:HTTP Request: POST https://api.openai.com/v1/chat/completions \"HTTP/1.1 200 OK\"\n"
     ]
    },
    {
     "name": "stdout",
     "output_type": "stream",
     "text": [
      "\n",
      "Query SQL generata:\n",
      "SELECT c.customer_id, c.company_name, COUNT(o.order_id) AS total_orders FROM northwind.customers c JOIN northwind.orders o ON c.customer_id = o.customer_id GROUP BY c.customer_id, c.company_name ORDER BY total_orders DESC LIMIT 5;\n",
      "\n",
      "Spiegazione:\n",
      "La query seleziona i 5 clienti che hanno effettuato il maggior numero di ordini. Utilizza una JOIN tra le tabelle 'customers' e 'orders' per contare il numero di ordini per ciascun cliente. I risultati sono ordinati in ordine decrescente in base al numero totale di ordini e limitati ai primi 5 clienti. Verranno restituiti l'ID del cliente, il nome dell'azienda e il numero totale di ordini effettuati.\n",
      "\n",
      "Risultati:\n",
      "{'customer_id': 'SAVEA', 'company_name': 'Save-a-lot Markets', 'total_orders': 31}\n",
      "{'customer_id': 'ERNSH', 'company_name': 'Ernst Handel', 'total_orders': 30}\n",
      "{'customer_id': 'QUICK', 'company_name': 'QUICK-Stop', 'total_orders': 28}\n"
     ]
    }
   ],
   "source": [
    "from src.config.languages import SupportedLanguage\n",
    "from src.agents.sql_agent import SQLAgent\n",
    "from dataclasses import dataclass\n",
    "\n",
    "# prompt config\n",
    "@dataclass\n",
    "class SimplePromptConfig:\n",
    "    include_sample_data: bool = False # include or not table rows in prompt\n",
    "    max_sample_rows: int = 3\n",
    "\n",
    "# sql agent initialization\n",
    "sql_agent = SQLAgent(\n",
    "    db=db,\n",
    "    llm_manager=llm,\n",
    "    metadata_retriever=metadata_retriever,\n",
    "    schema_name=\"northwind\",  # schema here\n",
    "    prompt_config=SimplePromptConfig(),\n",
    "    vector_store=vector_store,\n",
    "    language=SupportedLanguage.ITALIAN # da semplificare\n",
    ")\n",
    "\n",
    "# Prova una query in linguaggio naturale\n",
    "question = \"Quali sono i 5 clienti che hanno fatto più ordini?\"\n",
    "response = sql_agent.run(question)\n",
    "\n",
    "if response.success:\n",
    "    print(\"\\nQuery SQL generata:\")\n",
    "    print(response.query)\n",
    "    print(\"\\nSpiegazione:\")\n",
    "    print(response.explanation)\n",
    "    if response.results:\n",
    "        print(\"\\nRisultati:\")\n",
    "        for row in response.results[:3]:  # primi 3 risultati\n",
    "            print(row)\n",
    "else:\n",
    "    print(f\"\\nErrore: {response.error}\")"
   ]
  }
 ],
 "metadata": {
  "kernelspec": {
   "display_name": "heydatabase",
   "language": "python",
   "name": "python3"
  },
  "language_info": {
   "codemirror_mode": {
    "name": "ipython",
    "version": 3
   },
   "file_extension": ".py",
   "mimetype": "text/x-python",
   "name": "python",
   "nbconvert_exporter": "python",
   "pygments_lexer": "ipython3",
   "version": "3.10.16"
  }
 },
 "nbformat": 4,
 "nbformat_minor": 2
}
