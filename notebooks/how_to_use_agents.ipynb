{
 "cells": [
  {
   "cell_type": "code",
   "execution_count": null,
   "id": "initial_id",
   "metadata": {
    "collapsed": true
   },
   "outputs": [],
   "source": [
    "from src.config.config_loader import ConfigLoader\n",
    "from src.agents.sql_agent import SQLAgent\n",
    "from src.agents.metadata_enhancer_agent import MetadataAgent\n",
    "from src.factories.database import DatabaseFactory\n",
    "from src.factories.llm import LLMFactory\n",
    "\n",
    "# 1. Carica la configurazione\n",
    "config = ConfigLoader.load_config('config.yaml')\n",
    "\n",
    "# 2. Crea le dipendenze di base\n",
    "db = DatabaseFactory.create_connector(config.database)\n",
    "db.connect()\n",
    "llm = LLMFactory.create_handler(config.llm)\n",
    "metadata_retriever = DatabaseFactory.create_metadata_retriever(config.database, db)\n",
    "\n",
    "# 3. Crea gli agenti\n",
    "sql_agent = SQLAgent(\n",
    "    db=db,\n",
    "    llm_manager=llm,\n",
    "    metadata_retriever=metadata_retriever,\n",
    "    schema_name=config.database.schema,\n",
    "    prompt_config=config.prompt,\n",
    "    vector_store=None,  # opzionale per uso notebook\n",
    "    language=config.llm.language\n",
    ")\n",
    "\n",
    "metadata_agent = MetadataAgent(llm_handler=llm)\n",
    "\n",
    "# 4. Usa SQLAgent per query\n",
    "question = \"Mostrami i 5 giochi più venduti\"\n",
    "response = sql_agent.run(question)\n",
    "\n",
    "if response.success:\n",
    "    print(\"Query:\", response.query)\n",
    "    print(\"\\nSpiegazione:\", response.explanation)\n",
    "    print(\"\\nRisultati:\", response.results[:2], \"...\")  # primi 2 per brevità\n",
    "else:\n",
    "    print(\"Errore:\", response.error)\n",
    "\n",
    "# 5. Usa MetadataAgent per analizzare lo schema\n",
    "table_metadata = metadata_retriever.get_all_tables_metadata()\n",
    "metadata_response = metadata_agent.run(table_metadata)\n",
    "\n",
    "if metadata_response.success:\n",
    "    # Mostra l'enhancement di una tabella\n",
    "    table_name = list(metadata_response.enhanced_metadata.keys())[0]\n",
    "    enhanced = metadata_response.enhanced_metadata[table_name]\n",
    "\n",
    "    print(f\"\\nAnalisi della tabella {table_name}:\")\n",
    "    print(\"Descrizione:\", enhanced.description)\n",
    "    print(\"Keywords:\", enhanced.keywords)\n",
    "    print(\"Importance Score:\", enhanced.importance_score)\n",
    "else:\n",
    "    print(\"Errore nell'enhancement:\", metadata_response.error)\n",
    "\n",
    "# 6. Chiudi le connessioni\n",
    "db.close()"
   ]
  }
 ],
 "metadata": {
  "kernelspec": {
   "display_name": "Python 3",
   "language": "python",
   "name": "python3"
  },
  "language_info": {
   "codemirror_mode": {
    "name": "ipython",
    "version": 2
   },
   "file_extension": ".py",
   "mimetype": "text/x-python",
   "name": "python",
   "nbconvert_exporter": "python",
   "pygments_lexer": "ipython2",
   "version": "2.7.6"
  }
 },
 "nbformat": 4,
 "nbformat_minor": 5
}
