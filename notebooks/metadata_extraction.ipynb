{
 "cells": [
  {
   "cell_type": "code",
   "execution_count": 1,
   "metadata": {},
   "outputs": [
    {
     "name": "stderr",
     "output_type": "stream",
     "text": [
      "c:\\Users\\giaco\\.conda\\envs\\nl2sql\\lib\\site-packages\\sentence_transformers\\cross_encoder\\CrossEncoder.py:13: TqdmWarning: IProgress not found. Please update jupyter and ipywidgets. See https://ipywidgets.readthedocs.io/en/stable/user_install.html\n",
      "  from tqdm.autonotebook import tqdm, trange\n",
      "c:\\Users\\giaco\\.conda\\envs\\nl2sql\\lib\\site-packages\\snowflake\\sqlalchemy\\base.py:1068: SAWarning: The GenericFunction 'flatten' is already registered and is going to be overridden.\n",
      "  functions.register_function(\"flatten\", flatten)\n"
     ]
    }
   ],
   "source": [
    "import sys\n",
    "import os\n",
    "from pathlib import Path\n",
    "project_root = Path.cwd().parent\n",
    "sys.path.append(str(project_root))\n",
    "\n",
    "from src.config.config_loader import ConfigLoader\n",
    "from src.config.factory import ServiceFactory"
   ]
  },
  {
   "cell_type": "code",
   "execution_count": 2,
   "metadata": {},
   "outputs": [
    {
     "name": "stdout",
     "output_type": "stream",
     "text": [
      "AppConfig(database=DatabaseConfig(type='postgres', host='localhost', port=5432, database='postgres', user='postgres', password='admin', schema='video_games', warehouse=None, account=None, role=None), llm=LLMConfig(type='ollama', api_key=None, model='llama3.1', base_url='http://localhost:11434', language=<SupportedLanguage.ENGLISH: 'english'>), prompt=PromptConfig(include_sample_data=True, max_sample_rows=3), vector_store=VectorStoreConfig(enabled=True, type='qdrant', collection_name='video_games_store', path='./data/video_games_store', url=None, embedding=EmbeddingConfig(type='huggingface', model_name='sentence-transformers/multi-qa-MiniLM-L6-cos-v1', api_key=None), api_key=None, batch_size=100), debug=True)\n"
     ]
    }
   ],
   "source": [
    "config_path = os.path.join(project_root, 'config.yaml')\n",
    "config = ConfigLoader.load_config(config_path)\n",
    "print(config)"
   ]
  },
  {
   "cell_type": "code",
   "execution_count": 3,
   "metadata": {},
   "outputs": [],
   "source": [
    "db = ServiceFactory.create_db_connector(config.database)\n",
    "if not db.connect():\n",
    "    raise RuntimeError(\"Failed to connect to database\")"
   ]
  },
  {
   "cell_type": "code",
   "execution_count": 4,
   "metadata": {},
   "outputs": [],
   "source": [
    "metadata_retriever = ServiceFactory.create_metadata_retriever(config.database, db)"
   ]
  },
  {
   "cell_type": "code",
   "execution_count": 5,
   "metadata": {},
   "outputs": [
    {
     "data": {
      "text/plain": [
       "{'genre': TableMetadata(name='genre', columns=[{'name': 'id', 'type': 'INTEGER', 'nullable': False}, {'name': 'genre_name', 'type': 'VARCHAR(50)', 'nullable': True}], primary_keys=['id'], foreign_keys=[], row_count=12),\n",
       " 'publisher': TableMetadata(name='publisher', columns=[{'name': 'id', 'type': 'INTEGER', 'nullable': False}, {'name': 'publisher_name', 'type': 'VARCHAR(100)', 'nullable': True}], primary_keys=['id'], foreign_keys=[], row_count=577),\n",
       " 'platform': TableMetadata(name='platform', columns=[{'name': 'id', 'type': 'INTEGER', 'nullable': False}, {'name': 'platform_name', 'type': 'VARCHAR(50)', 'nullable': True}], primary_keys=['id'], foreign_keys=[], row_count=31),\n",
       " 'region': TableMetadata(name='region', columns=[{'name': 'id', 'type': 'INTEGER', 'nullable': False}, {'name': 'region_name', 'type': 'VARCHAR(50)', 'nullable': True}], primary_keys=['id'], foreign_keys=[], row_count=4),\n",
       " 'game': TableMetadata(name='game', columns=[{'name': 'id', 'type': 'INTEGER', 'nullable': False}, {'name': 'genre_id', 'type': 'INTEGER', 'nullable': True}, {'name': 'game_name', 'type': 'VARCHAR(200)', 'nullable': True}], primary_keys=['id'], foreign_keys=[{'constrained_columns': ['genre_id'], 'referred_table': 'genre', 'referred_columns': ['id']}], row_count=11360),\n",
       " 'game_publisher': TableMetadata(name='game_publisher', columns=[{'name': 'id', 'type': 'INTEGER', 'nullable': False}, {'name': 'game_id', 'type': 'INTEGER', 'nullable': True}, {'name': 'publisher_id', 'type': 'INTEGER', 'nullable': True}], primary_keys=['id'], foreign_keys=[{'constrained_columns': ['game_id'], 'referred_table': 'game', 'referred_columns': ['id']}, {'constrained_columns': ['publisher_id'], 'referred_table': 'publisher', 'referred_columns': ['id']}], row_count=11732),\n",
       " 'game_platform': TableMetadata(name='game_platform', columns=[{'name': 'id', 'type': 'INTEGER', 'nullable': False}, {'name': 'game_publisher_id', 'type': 'INTEGER', 'nullable': True}, {'name': 'platform_id', 'type': 'INTEGER', 'nullable': True}, {'name': 'release_year', 'type': 'INTEGER', 'nullable': True}], primary_keys=['id'], foreign_keys=[{'constrained_columns': ['game_publisher_id'], 'referred_table': 'game_publisher', 'referred_columns': ['id']}, {'constrained_columns': ['platform_id'], 'referred_table': 'platform', 'referred_columns': ['id']}], row_count=16326),\n",
       " 'region_sales': TableMetadata(name='region_sales', columns=[{'name': 'region_id', 'type': 'INTEGER', 'nullable': True}, {'name': 'game_platform_id', 'type': 'INTEGER', 'nullable': True}, {'name': 'num_sales', 'type': 'NUMERIC(5, 2)', 'nullable': True}], primary_keys=[], foreign_keys=[{'constrained_columns': ['game_platform_id'], 'referred_table': 'game_platform', 'referred_columns': ['id']}, {'constrained_columns': ['region_id'], 'referred_table': 'region', 'referred_columns': ['id']}], row_count=65320)}"
      ]
     },
     "execution_count": 5,
     "metadata": {},
     "output_type": "execute_result"
    }
   ],
   "source": [
    "metadata = metadata_retriever.get_all_tables_metadata()\n",
    "metadata"
   ]
  },
  {
   "cell_type": "code",
   "execution_count": 6,
   "metadata": {},
   "outputs": [
    {
     "name": "stdout",
     "output_type": "stream",
     "text": [
      "\n",
      "Tabella: genre\n",
      "Colonne:\n",
      "  - {'name': 'id', 'type': 'INTEGER', 'nullable': False}\n",
      "  - {'name': 'genre_name', 'type': 'VARCHAR(50)', 'nullable': True}\n",
      "Primary keys: ['id']\n",
      "Foreign keys: []\n",
      "Row count: 12\n",
      "\n",
      "Tabella: publisher\n",
      "Colonne:\n",
      "  - {'name': 'id', 'type': 'INTEGER', 'nullable': False}\n",
      "  - {'name': 'publisher_name', 'type': 'VARCHAR(100)', 'nullable': True}\n",
      "Primary keys: ['id']\n",
      "Foreign keys: []\n",
      "Row count: 577\n",
      "\n",
      "Tabella: platform\n",
      "Colonne:\n",
      "  - {'name': 'id', 'type': 'INTEGER', 'nullable': False}\n",
      "  - {'name': 'platform_name', 'type': 'VARCHAR(50)', 'nullable': True}\n",
      "Primary keys: ['id']\n",
      "Foreign keys: []\n",
      "Row count: 31\n",
      "\n",
      "Tabella: region\n",
      "Colonne:\n",
      "  - {'name': 'id', 'type': 'INTEGER', 'nullable': False}\n",
      "  - {'name': 'region_name', 'type': 'VARCHAR(50)', 'nullable': True}\n",
      "Primary keys: ['id']\n",
      "Foreign keys: []\n",
      "Row count: 4\n",
      "\n",
      "Tabella: game\n",
      "Colonne:\n",
      "  - {'name': 'id', 'type': 'INTEGER', 'nullable': False}\n",
      "  - {'name': 'genre_id', 'type': 'INTEGER', 'nullable': True}\n",
      "  - {'name': 'game_name', 'type': 'VARCHAR(200)', 'nullable': True}\n",
      "Primary keys: ['id']\n",
      "Foreign keys: [{'constrained_columns': ['genre_id'], 'referred_table': 'genre', 'referred_columns': ['id']}]\n",
      "Row count: 11360\n",
      "\n",
      "Tabella: game_publisher\n",
      "Colonne:\n",
      "  - {'name': 'id', 'type': 'INTEGER', 'nullable': False}\n",
      "  - {'name': 'game_id', 'type': 'INTEGER', 'nullable': True}\n",
      "  - {'name': 'publisher_id', 'type': 'INTEGER', 'nullable': True}\n",
      "Primary keys: ['id']\n",
      "Foreign keys: [{'constrained_columns': ['game_id'], 'referred_table': 'game', 'referred_columns': ['id']}, {'constrained_columns': ['publisher_id'], 'referred_table': 'publisher', 'referred_columns': ['id']}]\n",
      "Row count: 11732\n",
      "\n",
      "Tabella: game_platform\n",
      "Colonne:\n",
      "  - {'name': 'id', 'type': 'INTEGER', 'nullable': False}\n",
      "  - {'name': 'game_publisher_id', 'type': 'INTEGER', 'nullable': True}\n",
      "  - {'name': 'platform_id', 'type': 'INTEGER', 'nullable': True}\n",
      "  - {'name': 'release_year', 'type': 'INTEGER', 'nullable': True}\n",
      "Primary keys: ['id']\n",
      "Foreign keys: [{'constrained_columns': ['game_publisher_id'], 'referred_table': 'game_publisher', 'referred_columns': ['id']}, {'constrained_columns': ['platform_id'], 'referred_table': 'platform', 'referred_columns': ['id']}]\n",
      "Row count: 16326\n",
      "\n",
      "Tabella: region_sales\n",
      "Colonne:\n",
      "  - {'name': 'region_id', 'type': 'INTEGER', 'nullable': True}\n",
      "  - {'name': 'game_platform_id', 'type': 'INTEGER', 'nullable': True}\n",
      "  - {'name': 'num_sales', 'type': 'NUMERIC(5, 2)', 'nullable': True}\n",
      "Primary keys: []\n",
      "Foreign keys: [{'constrained_columns': ['game_platform_id'], 'referred_table': 'game_platform', 'referred_columns': ['id']}, {'constrained_columns': ['region_id'], 'referred_table': 'region', 'referred_columns': ['id']}]\n",
      "Row count: 65320\n"
     ]
    }
   ],
   "source": [
    "for table_name, table_info in metadata.items():\n",
    "    print(f\"\\nTabella: {table_name}\")\n",
    "    print(\"Colonne:\")\n",
    "    for col in table_info.columns:\n",
    "        print(f\"  - {col}\")\n",
    "    print(f\"Primary keys: {table_info.primary_keys}\")\n",
    "    print(f\"Foreign keys: {table_info.foreign_keys}\")\n",
    "    print(f\"Row count: {table_info.row_count}\")"
   ]
  },
  {
   "cell_type": "code",
   "execution_count": null,
   "metadata": {},
   "outputs": [],
   "source": [
    "from typing import Dict, Any, List\n",
    "import re\n",
    "from openai import OpenAI\n",
    "import os"
   ]
  },
  {
   "cell_type": "code",
   "execution_count": 14,
   "metadata": {},
   "outputs": [],
   "source": [
    "def generate_table_description(client: OpenAI, table_info) -> str:\n",
    "    \"\"\"Genera descrizione della tabella usando OpenAI\"\"\"\n",
    "    \n",
    "    # COSTRUZIONE DEL PROMPT\n",
    "    \n",
    "    # colonne\n",
    "    columns_info = [\n",
    "        f\"- {col['name']} ({col['type']}) {'NOT NULL' if not col['nullable'] else ''}\"\n",
    "        for col in table_info.columns\n",
    "    ]\n",
    "    \n",
    "    # fks\n",
    "    foreign_keys_info = []\n",
    "    for fk in table_info.foreign_keys:\n",
    "        from_cols = ', '.join(fk['constrained_columns'])\n",
    "        to_table = fk['referred_table']\n",
    "        to_cols = ', '.join(fk['referred_columns'])\n",
    "        foreign_keys_info.append(f\"- {from_cols} -> {to_table}({to_cols})\")\n",
    "\n",
    "    # template\n",
    "    prompt = f\"\"\"Analyze this database table and provide a concise description of its purpose and content.\n",
    "\n",
    "Table: {table_info.name}\n",
    "Number of records: {table_info.row_count}\n",
    "\n",
    "Columns:\n",
    "{chr(10).join(columns_info)}\n",
    "\n",
    "Primary Keys: {', '.join(table_info.primary_keys)}\n",
    "\n",
    "Foreign Keys:\n",
    "{chr(10).join(foreign_keys_info) if foreign_keys_info else 'No foreign keys'}\n",
    "\n",
    "Provide a clear and concise description in 2-3 sentences.\"\"\"\n",
    "\n",
    "    # invia il prompt e ricevi la descrizione\n",
    "    response = client.chat.completions.create(\n",
    "        model=\"gpt-4o\",\n",
    "        messages=[\n",
    "            {\"role\": \"system\", \"content\": \"You are a database expert providing concise table descriptions.\"},\n",
    "            {\"role\": \"user\", \"content\": prompt}\n",
    "        ],\n",
    "        temperature=0.2,\n",
    "    )\n",
    "    \n",
    "    return response.choices[0].message.content.strip()"
   ]
  },
  {
   "cell_type": "code",
   "execution_count": 13,
   "metadata": {},
   "outputs": [],
   "source": [
    "def extract_keywords(table_info) -> List[str]:\n",
    "    \"\"\"Estrae keywords dai metadati della tabella\"\"\"\n",
    "    keywords = set()\n",
    "    \n",
    "    # dal nome della tabella\n",
    "    table_words = split_camel_case(table_info.name)\n",
    "    keywords.update(table_words)\n",
    "    \n",
    "    # dai nomi delle colonne\n",
    "    for col in table_info.columns:\n",
    "        col_words = split_camel_case(col['name'])\n",
    "        keywords.update(col_words)\n",
    "        \n",
    "    # dalle tabelle correlate\n",
    "    for fk in table_info.foreign_keys:\n",
    "        keywords.add(fk['referred_table'])\n",
    "    \n",
    "    # rimuovi parole comuni e converti in minuscolo\n",
    "    common_words = {'id', 'code', 'type', 'name', 'date', 'created', 'modified', 'status'}\n",
    "    keywords = {word.lower() for word in keywords if word.lower() not in common_words}\n",
    "    \n",
    "    return sorted(list(keywords))\n",
    "\n",
    "def split_camel_case(s: str) -> List[str]:\n",
    "    \"\"\"Divide una stringa in camel case o snake case nelle sue parole componenti\"\"\"\n",
    "    # Gestisce snake_case\n",
    "    words = s.split('_')\n",
    "    result = []\n",
    "    \n",
    "    for word in words:\n",
    "        # Gestisce CamelCase\n",
    "        matches = re.finditer('.+?(?:(?<=[a-z])(?=[A-Z])|(?<=[A-Z])(?=[A-Z][a-z])|$)', word)\n",
    "        result.extend(match.group(0) for match in matches)\n",
    "    \n",
    "    return [w for w in result if w]  # Rimuove stringhe vuote"
   ]
  },
  {
   "cell_type": "code",
   "execution_count": null,
   "metadata": {},
   "outputs": [],
   "source": [
    "from dataclasses import dataclass\n",
    "from typing import List, Dict, Any\n",
    "from src.config.models.metadata import T\n",
    "\n",
    "@dataclass\n",
    "class EnhancedTableMetadata:\n",
    "    base_metadata: TableMetadata\n",
    "    description: str\n",
    "    keywords: List[str]\n",
    "\n",
    "\n",
    "def enhance_metadata(metadata: Dict[str, Any]) -> Dict[str, Any]:\n",
    "    \"\"\"Arricchisce i metadati esistenti con descrizione e keywords\"\"\"\n",
    "    \n",
    "    client = OpenAI(api_key=os.getenv(\"OPENAI_API_KEY\"))\n",
    "    \n",
    "    # per ogni tabella nel dizionario dei metadati, arrichiamo con descrizione e keywords\n",
    "    for table_name, table_info in metadata.items():\n",
    "        \n",
    "        description = generate_table_description(client, table_info)\n",
    "        keywords = extract_keywords(table_info)\n",
    "        \n",
    "        # aggiungi i nuovi campi al dizionario esistente\n",
    "        table_info['description'] = description\n",
    "        table_info['keywords'] = keywords\n",
    "        \n",
    "    return metadata"
   ]
  },
  {
   "cell_type": "code",
   "execution_count": 16,
   "metadata": {},
   "outputs": [
    {
     "ename": "TypeError",
     "evalue": "'TableMetadata' object does not support item assignment",
     "output_type": "error",
     "traceback": [
      "\u001b[1;31m---------------------------------------------------------------------------\u001b[0m",
      "\u001b[1;31mTypeError\u001b[0m                                 Traceback (most recent call last)",
      "Cell \u001b[1;32mIn[16], line 1\u001b[0m\n\u001b[1;32m----> 1\u001b[0m enhanced_metadata \u001b[38;5;241m=\u001b[39m \u001b[43menhance_metadata\u001b[49m\u001b[43m(\u001b[49m\u001b[43mmetadata\u001b[49m\u001b[43m)\u001b[49m\n",
      "Cell \u001b[1;32mIn[15], line 13\u001b[0m, in \u001b[0;36menhance_metadata\u001b[1;34m(metadata)\u001b[0m\n\u001b[0;32m     10\u001b[0m     keywords \u001b[38;5;241m=\u001b[39m extract_keywords(table_info)\n\u001b[0;32m     12\u001b[0m     \u001b[38;5;66;03m# aggiungi i nuovi campi al dizionario esistente\u001b[39;00m\n\u001b[1;32m---> 13\u001b[0m     \u001b[43mtable_info\u001b[49m\u001b[43m[\u001b[49m\u001b[38;5;124;43m'\u001b[39;49m\u001b[38;5;124;43mdescription\u001b[39;49m\u001b[38;5;124;43m'\u001b[39;49m\u001b[43m]\u001b[49m \u001b[38;5;241m=\u001b[39m description\n\u001b[0;32m     14\u001b[0m     table_info[\u001b[38;5;124m'\u001b[39m\u001b[38;5;124mkeywords\u001b[39m\u001b[38;5;124m'\u001b[39m] \u001b[38;5;241m=\u001b[39m keywords\n\u001b[0;32m     16\u001b[0m \u001b[38;5;28;01mreturn\u001b[39;00m metadata\n",
      "\u001b[1;31mTypeError\u001b[0m: 'TableMetadata' object does not support item assignment"
     ]
    }
   ],
   "source": [
    "enhanced_metadata = enhance_metadata(metadata)"
   ]
  }
 ],
 "metadata": {
  "kernelspec": {
   "display_name": "nl2sql",
   "language": "python",
   "name": "python3"
  },
  "language_info": {
   "codemirror_mode": {
    "name": "ipython",
    "version": 3
   },
   "file_extension": ".py",
   "mimetype": "text/x-python",
   "name": "python",
   "nbconvert_exporter": "python",
   "pygments_lexer": "ipython3",
   "version": "3.10.15"
  }
 },
 "nbformat": 4,
 "nbformat_minor": 2
}
