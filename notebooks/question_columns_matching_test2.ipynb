{
 "cells": [
  {
   "cell_type": "code",
   "execution_count": 1,
   "id": "initial_id",
   "metadata": {
    "ExecuteTime": {
     "end_time": "2024-12-19T14:45:15.676454Z",
     "start_time": "2024-12-19T14:45:15.054842Z"
    },
    "collapsed": true
   },
   "outputs": [],
   "source": [
    "import json\n",
    "from typing import List, Dict, Tuple\n",
    "import string\n",
    "from collections import defaultdict\n",
    "from difflib import SequenceMatcher\n",
    "from src.agents.keywords_agent import KeywordExtractionAgent\n",
    "\n",
    "class ColumnMatcher:\n",
    "    def __init__(self, cache_file: str):\n",
    "        \"\"\"Inizializza il matcher caricando i metadati dal file di cache\"\"\"\n",
    "        with open(cache_file, 'r') as f:\n",
    "            self.metadata = json.load(f)\n",
    "\n",
    "        # Preprocessa i valori distinti per ogni colonna\n",
    "        self.column_values = self._preprocess_column_values()\n",
    "        self.agent = KeywordExtractionAgent()\n",
    "\n",
    "    def _preprocess_column_values(self) -> Dict[str, Dict[str, set]]:\n",
    "        \"\"\"Preprocessa i valori distinti per ogni colonna di ogni tabella\"\"\"\n",
    "        processed = defaultdict(lambda: defaultdict(set))\n",
    "\n",
    "        for table_name, table_data in self.metadata.items():\n",
    "            for column in table_data['columns']:\n",
    "                if 'distinct_values' in column and column['distinct_values']:\n",
    "                    # normalizza e tokenizza ogni valore\n",
    "                    normalized_values = {\n",
    "                        self._normalize_value(str(val))\n",
    "                        for val in column['distinct_values']\n",
    "                        if val is not None\n",
    "                    }\n",
    "                    processed[table_name][column['name']] = normalized_values\n",
    "\n",
    "        return processed\n",
    "\n",
    "    def _normalize_value(self, value: str) -> str:\n",
    "        \"\"\"Normalizza un valore per il matching\"\"\"\n",
    "        # Converti in lowercase e rimuovi punteggiatura\n",
    "        value = value.lower()\n",
    "        value = value.translate(str.maketrans(\"\", \"\", string.punctuation))\n",
    "\n",
    "        # Gestisci spazi e caratteri speciali\n",
    "        value = value.replace(\" \", \"\")\n",
    "        return value\n",
    "\n",
    "    def _extract_keywords(self, query: str) -> List[str]:\n",
    "        \"\"\"Estrae keyword dalla query\"\"\"\n",
    "        keywords = self.agent.run(query)\n",
    "        return keywords.keywords\n",
    "\n",
    "    def _calculate_similarity(self, query_term: str, column_value: str) -> float:\n",
    "        \"\"\"Calcola la similarità tra un termine della query e un valore della colonna\"\"\"\n",
    "        # match esatto\n",
    "        if query_term in column_value:\n",
    "            return 1.0\n",
    "\n",
    "        # partial match usando SequenceMatcher\n",
    "        return SequenceMatcher(None, query_term, column_value).ratio()\n",
    "    \n",
    "\n",
    "    def find_matching_columns(self, query: str,\n",
    "                              min_similarity: float = 0.8,\n",
    "                              max_results: int = 5) -> List[Tuple[str, str, float]]:\n",
    "        \"\"\"Trova le colonne più rilevanti per la query\n",
    "        \n",
    "        Returns:\n",
    "            List di tuple (table_name, column_name, score)\n",
    "        \"\"\"\n",
    "        keywords = self._extract_keywords(query)\n",
    "        print(f\"Keywords: {keywords}\")\n",
    "        matches = []\n",
    "\n",
    "        for table_name, columns in self.column_values.items():\n",
    "            #print(f\"Matching per la tabella {table_name}\")\n",
    "            for column_name, values in columns.items():\n",
    "                max_score = 0\n",
    "                #print(f\"Matching per la colonna {column_name} di {table_name}\")\n",
    "                # per ogni keyword, cerca il miglior match nei valori della colonna\n",
    "                for keyword in keywords:\n",
    "                    #print(f\"Matching per la keyword {keyword}\")\n",
    "                    for value in values:\n",
    "                        similarity = self._calculate_similarity(keyword, value)\n",
    "                        max_score = max(max_score, similarity)\n",
    "\n",
    "                        if similarity >= min_similarity:\n",
    "                            matches.append((table_name, column_name, max_score))\n",
    "                            break\n",
    "\n",
    "        # Ordina per score e rimuovi duplicati\n",
    "        matches.sort(key=lambda x: x[2], reverse=True)\n",
    "        unique_matches = []\n",
    "        seen = set()\n",
    "\n",
    "        for match in matches:\n",
    "            key = (match[0], match[1])\n",
    "            if key not in seen and len(unique_matches) < max_results:\n",
    "                seen.add(key)\n",
    "                unique_matches.append(match)\n",
    "\n",
    "        return unique_matches"
   ]
  },
  {
   "cell_type": "code",
   "execution_count": 2,
   "id": "efdefc22402c408d",
   "metadata": {
    "ExecuteTime": {
     "end_time": "2024-12-19T14:48:50.298716Z",
     "start_time": "2024-12-19T14:48:47.685517Z"
    }
   },
   "outputs": [
    {
     "name": "stdout",
     "output_type": "stream",
     "text": [
      "\n",
      "Query: Show me customers generics data\n",
      "Keywords: ['Show', 'data', 'generics']\n"
     ]
    }
   ],
   "source": [
    "\n",
    "# Esempio di utilizzo\n",
    "matcher = ColumnMatcher('data/cache/northwind/metadata_cache_northwind.json')\n",
    "\n",
    "test_queries = [\n",
    "    \"Show me customers generics data\"\n",
    "]\n",
    "\n",
    "for query in test_queries:\n",
    "    print(f\"\\nQuery: {query}\")\n",
    "    matches = matcher.find_matching_columns(query)\n",
    "    for table, column, score in matches:\n",
    "        print(f\"- {table}.{column} (score: {score:.2f})\")"
   ]
  },
  {
   "cell_type": "code",
   "execution_count": null,
   "id": "3ef6c83d1a3561c9",
   "metadata": {},
   "outputs": [],
   "source": []
  },
  {
   "cell_type": "code",
   "execution_count": null,
   "id": "eab11373237de637",
   "metadata": {},
   "outputs": [],
   "source": []
  }
 ],
 "metadata": {
  "kernelspec": {
   "display_name": "heydatabase",
   "language": "python",
   "name": "python3"
  },
  "language_info": {
   "codemirror_mode": {
    "name": "ipython",
    "version": 3
   },
   "file_extension": ".py",
   "mimetype": "text/x-python",
   "name": "python",
   "nbconvert_exporter": "python",
   "pygments_lexer": "ipython3",
   "version": "3.10.16"
  }
 },
 "nbformat": 4,
 "nbformat_minor": 5
}
