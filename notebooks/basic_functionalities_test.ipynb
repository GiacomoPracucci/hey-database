{
 "cells": [
  {
   "cell_type": "code",
   "execution_count": 1,
   "metadata": {},
   "outputs": [],
   "source": [
    "import os\n",
    "from dotenv import load_dotenv\n",
    "load_dotenv()\n",
    "\n",
    "from src.config.models import DatabaseConfig, LLMConfig, PromptConfig\n",
    "\n",
    "db_config = DatabaseConfig(\n",
    "    type=\"postgres\",\n",
    "    host=\"localhost\",\n",
    "    port=\"5432\",\n",
    "    database=\"postgres\",\n",
    "    user=\"postgres\",\n",
    "    password=os.getenv(\"POSTGRES_PWD\"),\n",
    "    schema=\"video_games\"\n",
    ")"
   ]
  },
  {
   "cell_type": "code",
   "execution_count": 2,
   "metadata": {},
   "outputs": [
    {
     "data": {
      "text/plain": [
       "True"
      ]
     },
     "execution_count": 2,
     "metadata": {},
     "output_type": "execute_result"
    }
   ],
   "source": [
    "from src.connettori.postgres import PostgresManager\n",
    "\n",
    "db = PostgresManager(\n",
    "    host=db_config.host,\n",
    "    port=db_config.port,\n",
    "    database=db_config.database,\n",
    "    user=db_config.user,\n",
    "    password=db_config.password\n",
    ")\n",
    "db.connect()"
   ]
  },
  {
   "cell_type": "code",
   "execution_count": 3,
   "metadata": {},
   "outputs": [
    {
     "name": "stdout",
     "output_type": "stream",
     "text": [
      "CREATE TABLE genre (id integer NOT NULL, genre_name character varying(50));\n"
     ]
    }
   ],
   "source": [
    "from src.dbcontext.postgres_metadata_retriever import PostgresMetadataRetriever\n",
    "\n",
    "metadata_retriever = PostgresMetadataRetriever(db.engine, schema=db_config.schema)\n",
    "\n",
    "print(metadata_retriever.get_table_definition(\"genre\"))"
   ]
  },
  {
   "cell_type": "code",
   "execution_count": 4,
   "metadata": {},
   "outputs": [],
   "source": [
    "from src.llm_handler.ollama_handler import OllamaHandler\n",
    "\n",
    "llm = OllamaHandler(\n",
    "    base_url=\"http://localhost:11434\",\n",
    "    model=\"llama3.1\"\n",
    ")"
   ]
  },
  {
   "cell_type": "code",
   "execution_count": 6,
   "metadata": {},
   "outputs": [
    {
     "name": "stdout",
     "output_type": "stream",
     "text": [
      "Era una notte di luna piena a Venezia. Un giovane pittore, Luca, si trovava sulla riva del canale Grande, con il pennello e la tavolozza in mano. Era ossessionato da un sogno: dipingere la città eterna nella sua forma più bella.\n",
      "\n",
      "Mentre guardava le luci delle case e dei negozi che rifluivano sull'acqua, vide una figura femminile emergere dalle ombre. Era una donna con i capelli lunghi e il vestito azzurro come il cielo notturno. Si avvicinò a Luca e gli disse: \"Voglio essere la tua musa per questa notte\".\n",
      "\n",
      "Luca, senza esitare, iniziò a dipingere. La donna si posizionò davanti a lui, con le braccia aperte come se stesse volando. Il pennello di Luca danzava sulla tela, lasciando un'immagine sempre più bella e struggente.\n",
      "\n",
      "Quando la notte era quasi finita, la donna scomparve nel nulla, lasciando Luca solo con il suo dipinto. Era una scena meravigliosa: le case di Venezia riflettevano sulla superficie dell'acqua come se fossero fatte d'argento e d'oro.\n",
      "\n",
      "Luca guardò il quadro, poi si voltò verso la notte che stava scomparendo. Sorrise, sapendo che aveva catturato l'anima della città eterna in quel dipinto. E da quel giorno in poi, ogni volta che qualcuno guardava quella tela, sentiva il profumo del mare e il suono delle voci dei veneziani che si mescolavano con la musica dell'acqua.\n"
     ]
    }
   ],
   "source": [
    "response = llm.get_completion(\"raccontami una storia (breve)\")\n",
    "print(response)"
   ]
  },
  {
   "cell_type": "code",
   "execution_count": 7,
   "metadata": {},
   "outputs": [],
   "source": [
    "from src.llm_input.prompt_generator import PromptGenerator\n",
    "\n",
    "prompt_config = PromptConfig(include_sample_data=True, max_sample_rows=3)\n",
    "prompt_generator = PromptGenerator(\n",
    "    metadata_retriever=metadata_retriever,\n",
    "    schema_name=db_config.schema,\n",
    "    prompt_config=prompt_config\n",
    ")"
   ]
  },
  {
   "cell_type": "code",
   "execution_count": 8,
   "metadata": {},
   "outputs": [
    {
     "name": "stdout",
     "output_type": "stream",
     "text": [
      "You are an SQL expert who helps convert natural language queries into SQL queries.\n",
      "Your task is:\n",
      "1. Generate a valid SQL query that answers the user's question\n",
      "2. Provide a brief explanation of the results\n",
      "\n",
      "You must respond with a JSON object in the following format:\n",
      "{\n",
      "    \"query\": \"YOUR SQL QUERY HERE\",\n",
      "    \"explanation\": \"Brief explanation of what the query does and what results to expect\"\n",
      "}\n",
      "\n",
      "Important:\n",
      "- Always insert schema name \"video_games\" before the tables\n",
      "- Do not include comments in the SQL query\n",
      "- The query must be executable\n",
      "- Use the table DDL information to ensure correct column names and types\n",
      "- Follow the foreign key relationships when joining tables\n",
      "- If you do not have the necessary information to respond or if the requested data does not appear to be in the DB:\n",
      "    - Explain in the explanation field why the request cannot be fulfilled\n",
      "    - generate a simple SQL query to extract generic data from a single table (with a limit 5)\n",
      "    - Explain what the sample data shows\n",
      "\n",
      "Response must be valid JSON - do not include any other text or markdown formatting. \n",
      "        \n",
      "\n",
      "Schema del Database:\n",
      "\n",
      "Tabella: genre (12 righe)\n",
      "Colonne:\n",
      "- id (INTEGER) NOT NULL\n",
      "- genre_name (VARCHAR(50)) NULL\n",
      "Chiavi Primarie: id\n",
      "\n",
      "Tabella: publisher (577 righe)\n",
      "Colonne:\n",
      "- id (INTEGER) NOT NULL\n",
      "- publisher_name (VARCHAR(100)) NULL\n",
      "Chiavi Primarie: id\n",
      "\n",
      "Tabella: platform (31 righe)\n",
      "Colonne:\n",
      "- id (INTEGER) NOT NULL\n",
      "- platform_name (VARCHAR(50)) NULL\n",
      "Chiavi Primarie: id\n",
      "\n",
      "Tabella: region (4 righe)\n",
      "Colonne:\n",
      "- id (INTEGER) NOT NULL\n",
      "- region_name (VARCHAR(50)) NULL\n",
      "Chiavi Primarie: id\n",
      "\n",
      "Tabella: game (11360 righe)\n",
      "Colonne:\n",
      "- id (INTEGER) NOT NULL\n",
      "- genre_id (INTEGER) NULL\n",
      "- game_name (VARCHAR(200)) NULL\n",
      "Chiavi Primarie: id\n",
      "Foreign Keys:\n",
      "- genre_id -> genre(id)\n",
      "\n",
      "Tabella: game_publisher (11732 righe)\n",
      "Colonne:\n",
      "- id (INTEGER) NOT NULL\n",
      "- game_id (INTEGER) NULL\n",
      "- publisher_id (INTEGER) NULL\n",
      "Chiavi Primarie: id\n",
      "Foreign Keys:\n",
      "- game_id -> game(id)\n",
      "- publisher_id -> publisher(id)\n",
      "\n",
      "Tabella: game_platform (16326 righe)\n",
      "Colonne:\n",
      "- id (INTEGER) NOT NULL\n",
      "- game_publisher_id (INTEGER) NULL\n",
      "- platform_id (INTEGER) NULL\n",
      "- release_year (INTEGER) NULL\n",
      "Chiavi Primarie: id\n",
      "Foreign Keys:\n",
      "- game_publisher_id -> game_publisher(id)\n",
      "- platform_id -> platform(id)\n",
      "\n",
      "Tabella: region_sales (65320 righe)\n",
      "Colonne:\n",
      "- region_id (INTEGER) NULL\n",
      "- game_platform_id (INTEGER) NULL\n",
      "- num_sales (NUMERIC(5, 2)) NULL\n",
      "Foreign Keys:\n",
      "- game_platform_id -> game_platform(id)\n",
      "- region_id -> region(id)\n",
      "\n",
      "\n",
      "Esempi di Dati:\n",
      "\n",
      "genre (primi 3 record):\n",
      "{'id': 1, 'genre_name': 'Action'}\n",
      "{'id': 2, 'genre_name': 'Adventure'}\n",
      "{'id': 3, 'genre_name': 'Fighting'}\n",
      "\n",
      "publisher (primi 3 record):\n",
      "{'id': 1, 'publisher_name': '10TACLE Studios'}\n",
      "{'id': 2, 'publisher_name': '1C Company'}\n",
      "{'id': 3, 'publisher_name': '20th Century Fox Video Games'}\n",
      "\n",
      "platform (primi 3 record):\n",
      "{'id': 1, 'platform_name': 'Wii'}\n",
      "{'id': 2, 'platform_name': 'NES'}\n",
      "{'id': 3, 'platform_name': 'GB'}\n",
      "\n",
      "region (primi 3 record):\n",
      "{'id': 1, 'region_name': 'North America'}\n",
      "{'id': 2, 'region_name': 'Europe'}\n",
      "{'id': 3, 'region_name': 'Japan'}\n",
      "\n",
      "game (primi 3 record):\n",
      "{'id': 1, 'genre_id': 11, 'game_name': \"'98 Koshien\"}\n",
      "{'id': 2, 'genre_id': 8, 'game_name': '.hack//G.U. Vol.1//Rebirth'}\n",
      "{'id': 3, 'genre_id': 8, 'game_name': '.hack//G.U. Vol.2//Reminisce'}\n",
      "\n",
      "game_publisher (primi 3 record):\n",
      "{'id': 1, 'game_id': 10866, 'publisher_id': 369}\n",
      "{'id': 2, 'game_id': 9244, 'publisher_id': 369}\n",
      "{'id': 3, 'game_id': 5464, 'publisher_id': 369}\n",
      "\n",
      "game_platform (primi 3 record):\n",
      "{'id': 1, 'game_publisher_id': 8564, 'platform_id': 4, 'release_year': 2007}\n",
      "{'id': 2, 'game_publisher_id': 9852, 'platform_id': 4, 'release_year': 2007}\n",
      "{'id': 3, 'game_publisher_id': 11063, 'platform_id': 7, 'release_year': 2006}\n",
      "\n",
      "region_sales (primi 3 record):\n",
      "{'region_id': 1, 'game_platform_id': 50, 'num_sales': Decimal('3.50')}\n",
      "{'region_id': 1, 'game_platform_id': 51, 'num_sales': Decimal('1.43')}\n",
      "{'region_id': 1, 'game_platform_id': 52, 'num_sales': Decimal('0.51')}\n",
      "\n",
      "\n",
      "Rispondi in lingua Italiana.\n",
      "\n",
      "\n",
      "DOMANDA DELL'UTENTE:\n",
      "\n",
      "Mostrami i primi 5 giochi del database\n"
     ]
    }
   ],
   "source": [
    "user_question = \"Mostrami i primi 5 giochi del database\"\n",
    "prompt = prompt_generator.generate_prompt(user_question)\n",
    "print(prompt)"
   ]
  },
  {
   "cell_type": "code",
   "execution_count": null,
   "metadata": {},
   "outputs": [],
   "source": [
    "response = llm.get_completion(prompt)"
   ]
  },
  {
   "cell_type": "code",
   "execution_count": null,
   "metadata": {},
   "outputs": [],
   "source": []
  },
  {
   "cell_type": "code",
   "execution_count": 10,
   "metadata": {},
   "outputs": [
    {
     "name": "stdout",
     "output_type": "stream",
     "text": [
      "Query SQL: SELECT * FROM video_games.game LIMIT 5\n",
      "\n",
      "Spiegazione: Questa query restituisce i primi 5 record della tabella game. La limitazione è impostata a 5 per mostrare solo i primi 5 giochi del database.\n",
      "\n",
      "Risultati: [{'id': 1, 'genre_id': 11, 'game_name': \"'98 Koshien\"}, {'id': 2, 'genre_id': 8, 'game_name': '.hack//G.U. Vol.1//Rebirth'}, {'id': 3, 'genre_id': 8, 'game_name': '.hack//G.U. Vol.2//Reminisce'}, {'id': 4, 'genre_id': 8, 'game_name': '.hack//G.U. Vol.2//Reminisce (jp sales)'}, {'id': 5, 'genre_id': 8, 'game_name': '.hack//G.U. Vol.3//Redemption'}]\n"
     ]
    }
   ],
   "source": [
    "from src.llm_output.response_handler import ResponseHandler\n",
    "response_handler = ResponseHandler(db, db_config.schema)\n",
    "results = response_handler.process_response(response)\n",
    "\n",
    "if results[\"success\"]:\n",
    "    print(\"Query SQL:\", results[\"query\"])\n",
    "    print(\"\\nSpiegazione:\", results[\"explanation\"])\n",
    "    print(\"\\nRisultati:\", results[\"results\"])"
   ]
  }
 ],
 "metadata": {
  "kernelspec": {
   "display_name": "nl2sql",
   "language": "python",
   "name": "python3"
  },
  "language_info": {
   "codemirror_mode": {
    "name": "ipython",
    "version": 3
   },
   "file_extension": ".py",
   "mimetype": "text/x-python",
   "name": "python",
   "nbconvert_exporter": "python",
   "pygments_lexer": "ipython3",
   "version": "3.10.15"
  }
 },
 "nbformat": 4,
 "nbformat_minor": 2
}
