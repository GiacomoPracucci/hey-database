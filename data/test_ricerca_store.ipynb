{
 "cells": [
  {
   "cell_type": "code",
   "execution_count": 1,
   "metadata": {},
   "outputs": [
    {
     "name": "stderr",
     "output_type": "stream",
     "text": [
      "\n",
      "A module that was compiled using NumPy 1.x cannot be run in\n",
      "NumPy 2.1.2 as it may crash. To support both 1.x and 2.x\n",
      "versions of NumPy, modules must be compiled with NumPy 2.0.\n",
      "Some module may need to rebuild instead e.g. with 'pybind11>=2.12'.\n",
      "\n",
      "If you are a user of the module, the easiest solution will be to\n",
      "downgrade to 'numpy<2' or try to upgrade the affected module.\n",
      "We expect that some modules will need time to support NumPy 2.\n",
      "\n",
      "Traceback (most recent call last):  File \"/home/giacomo/miniconda3/envs/heydatabase/lib/python3.10/runpy.py\", line 196, in _run_module_as_main\n",
      "    return _run_code(code, main_globals, None,\n",
      "  File \"/home/giacomo/miniconda3/envs/heydatabase/lib/python3.10/runpy.py\", line 86, in _run_code\n",
      "    exec(code, run_globals)\n",
      "  File \"/home/giacomo/.local/lib/python3.10/site-packages/ipykernel_launcher.py\", line 17, in <module>\n",
      "    app.launch_new_instance()\n",
      "  File \"/home/giacomo/.local/lib/python3.10/site-packages/traitlets/config/application.py\", line 1053, in launch_instance\n",
      "    app.start()\n",
      "  File \"/home/giacomo/.local/lib/python3.10/site-packages/ipykernel/kernelapp.py\", line 737, in start\n",
      "    self.io_loop.start()\n",
      "  File \"/home/giacomo/.local/lib/python3.10/site-packages/tornado/platform/asyncio.py\", line 195, in start\n",
      "    self.asyncio_loop.run_forever()\n",
      "  File \"/home/giacomo/miniconda3/envs/heydatabase/lib/python3.10/asyncio/base_events.py\", line 603, in run_forever\n",
      "    self._run_once()\n",
      "  File \"/home/giacomo/miniconda3/envs/heydatabase/lib/python3.10/asyncio/base_events.py\", line 1909, in _run_once\n",
      "    handle._run()\n",
      "  File \"/home/giacomo/miniconda3/envs/heydatabase/lib/python3.10/asyncio/events.py\", line 80, in _run\n",
      "    self._context.run(self._callback, *self._args)\n",
      "  File \"/home/giacomo/.local/lib/python3.10/site-packages/ipykernel/kernelbase.py\", line 524, in dispatch_queue\n",
      "    await self.process_one()\n",
      "  File \"/home/giacomo/.local/lib/python3.10/site-packages/ipykernel/kernelbase.py\", line 513, in process_one\n",
      "    await dispatch(*args)\n",
      "  File \"/home/giacomo/.local/lib/python3.10/site-packages/ipykernel/kernelbase.py\", line 418, in dispatch_shell\n",
      "    await result\n",
      "  File \"/home/giacomo/.local/lib/python3.10/site-packages/ipykernel/kernelbase.py\", line 758, in execute_request\n",
      "    reply_content = await reply_content\n",
      "  File \"/home/giacomo/.local/lib/python3.10/site-packages/ipykernel/ipkernel.py\", line 426, in do_execute\n",
      "    res = shell.run_cell(\n",
      "  File \"/home/giacomo/.local/lib/python3.10/site-packages/ipykernel/zmqshell.py\", line 549, in run_cell\n",
      "    return super().run_cell(*args, **kwargs)\n",
      "  File \"/home/giacomo/.local/lib/python3.10/site-packages/IPython/core/interactiveshell.py\", line 3046, in run_cell\n",
      "    result = self._run_cell(\n",
      "  File \"/home/giacomo/.local/lib/python3.10/site-packages/IPython/core/interactiveshell.py\", line 3101, in _run_cell\n",
      "    result = runner(coro)\n",
      "  File \"/home/giacomo/.local/lib/python3.10/site-packages/IPython/core/async_helpers.py\", line 129, in _pseudo_sync_runner\n",
      "    coro.send(None)\n",
      "  File \"/home/giacomo/.local/lib/python3.10/site-packages/IPython/core/interactiveshell.py\", line 3306, in run_cell_async\n",
      "    has_raised = await self.run_ast_nodes(code_ast.body, cell_name,\n",
      "  File \"/home/giacomo/.local/lib/python3.10/site-packages/IPython/core/interactiveshell.py\", line 3488, in run_ast_nodes\n",
      "    if await self.run_code(code, result, async_=asy):\n",
      "  File \"/home/giacomo/.local/lib/python3.10/site-packages/IPython/core/interactiveshell.py\", line 3548, in run_code\n",
      "    exec(code_obj, self.user_global_ns, self.user_ns)\n",
      "  File \"/tmp/ipykernel_72502/2635801296.py\", line 13, in <module>\n",
      "    from src.connettori.postgres import PostgresManager\n",
      "  File \"/home/giacomo/Documents/GitHub/hey-database/src/connettori/postgres.py\", line 3, in <module>\n",
      "    import pandas as pd\n",
      "  File \"/home/giacomo/miniconda3/envs/heydatabase/lib/python3.10/site-packages/pandas/__init__.py\", line 26, in <module>\n",
      "    from pandas.compat import (\n",
      "  File \"/home/giacomo/miniconda3/envs/heydatabase/lib/python3.10/site-packages/pandas/compat/__init__.py\", line 27, in <module>\n",
      "    from pandas.compat.pyarrow import (\n",
      "  File \"/home/giacomo/miniconda3/envs/heydatabase/lib/python3.10/site-packages/pandas/compat/pyarrow.py\", line 8, in <module>\n",
      "    import pyarrow as pa\n",
      "  File \"/home/giacomo/.local/lib/python3.10/site-packages/pyarrow/__init__.py\", line 65, in <module>\n",
      "    import pyarrow.lib as _lib\n"
     ]
    },
    {
     "ename": "AttributeError",
     "evalue": "_ARRAY_API not found",
     "output_type": "error",
     "traceback": [
      "\u001b[0;31m---------------------------------------------------------------------------\u001b[0m",
      "\u001b[0;31mAttributeError\u001b[0m                            Traceback (most recent call last)",
      "\u001b[0;31mAttributeError\u001b[0m: _ARRAY_API not found"
     ]
    },
    {
     "name": "stderr",
     "output_type": "stream",
     "text": [
      "\n",
      "A module that was compiled using NumPy 1.x cannot be run in\n",
      "NumPy 2.1.2 as it may crash. To support both 1.x and 2.x\n",
      "versions of NumPy, modules must be compiled with NumPy 2.0.\n",
      "Some module may need to rebuild instead e.g. with 'pybind11>=2.12'.\n",
      "\n",
      "If you are a user of the module, the easiest solution will be to\n",
      "downgrade to 'numpy<2' or try to upgrade the affected module.\n",
      "We expect that some modules will need time to support NumPy 2.\n",
      "\n",
      "Traceback (most recent call last):  File \"/home/giacomo/miniconda3/envs/heydatabase/lib/python3.10/runpy.py\", line 196, in _run_module_as_main\n",
      "    return _run_code(code, main_globals, None,\n",
      "  File \"/home/giacomo/miniconda3/envs/heydatabase/lib/python3.10/runpy.py\", line 86, in _run_code\n",
      "    exec(code, run_globals)\n",
      "  File \"/home/giacomo/.local/lib/python3.10/site-packages/ipykernel_launcher.py\", line 17, in <module>\n",
      "    app.launch_new_instance()\n",
      "  File \"/home/giacomo/.local/lib/python3.10/site-packages/traitlets/config/application.py\", line 1053, in launch_instance\n",
      "    app.start()\n",
      "  File \"/home/giacomo/.local/lib/python3.10/site-packages/ipykernel/kernelapp.py\", line 737, in start\n",
      "    self.io_loop.start()\n",
      "  File \"/home/giacomo/.local/lib/python3.10/site-packages/tornado/platform/asyncio.py\", line 195, in start\n",
      "    self.asyncio_loop.run_forever()\n",
      "  File \"/home/giacomo/miniconda3/envs/heydatabase/lib/python3.10/asyncio/base_events.py\", line 603, in run_forever\n",
      "    self._run_once()\n",
      "  File \"/home/giacomo/miniconda3/envs/heydatabase/lib/python3.10/asyncio/base_events.py\", line 1909, in _run_once\n",
      "    handle._run()\n",
      "  File \"/home/giacomo/miniconda3/envs/heydatabase/lib/python3.10/asyncio/events.py\", line 80, in _run\n",
      "    self._context.run(self._callback, *self._args)\n",
      "  File \"/home/giacomo/.local/lib/python3.10/site-packages/ipykernel/kernelbase.py\", line 524, in dispatch_queue\n",
      "    await self.process_one()\n",
      "  File \"/home/giacomo/.local/lib/python3.10/site-packages/ipykernel/kernelbase.py\", line 513, in process_one\n",
      "    await dispatch(*args)\n",
      "  File \"/home/giacomo/.local/lib/python3.10/site-packages/ipykernel/kernelbase.py\", line 418, in dispatch_shell\n",
      "    await result\n",
      "  File \"/home/giacomo/.local/lib/python3.10/site-packages/ipykernel/kernelbase.py\", line 758, in execute_request\n",
      "    reply_content = await reply_content\n",
      "  File \"/home/giacomo/.local/lib/python3.10/site-packages/ipykernel/ipkernel.py\", line 426, in do_execute\n",
      "    res = shell.run_cell(\n",
      "  File \"/home/giacomo/.local/lib/python3.10/site-packages/ipykernel/zmqshell.py\", line 549, in run_cell\n",
      "    return super().run_cell(*args, **kwargs)\n",
      "  File \"/home/giacomo/.local/lib/python3.10/site-packages/IPython/core/interactiveshell.py\", line 3046, in run_cell\n",
      "    result = self._run_cell(\n",
      "  File \"/home/giacomo/.local/lib/python3.10/site-packages/IPython/core/interactiveshell.py\", line 3101, in _run_cell\n",
      "    result = runner(coro)\n",
      "  File \"/home/giacomo/.local/lib/python3.10/site-packages/IPython/core/async_helpers.py\", line 129, in _pseudo_sync_runner\n",
      "    coro.send(None)\n",
      "  File \"/home/giacomo/.local/lib/python3.10/site-packages/IPython/core/interactiveshell.py\", line 3306, in run_cell_async\n",
      "    has_raised = await self.run_ast_nodes(code_ast.body, cell_name,\n",
      "  File \"/home/giacomo/.local/lib/python3.10/site-packages/IPython/core/interactiveshell.py\", line 3488, in run_ast_nodes\n",
      "    if await self.run_code(code, result, async_=asy):\n",
      "  File \"/home/giacomo/.local/lib/python3.10/site-packages/IPython/core/interactiveshell.py\", line 3548, in run_code\n",
      "    exec(code_obj, self.user_global_ns, self.user_ns)\n",
      "  File \"/tmp/ipykernel_72502/2635801296.py\", line 13, in <module>\n",
      "    from src.connettori.postgres import PostgresManager\n",
      "  File \"/home/giacomo/Documents/GitHub/hey-database/src/connettori/postgres.py\", line 3, in <module>\n",
      "    import pandas as pd\n",
      "  File \"/home/giacomo/miniconda3/envs/heydatabase/lib/python3.10/site-packages/pandas/__init__.py\", line 49, in <module>\n",
      "    from pandas.core.api import (\n",
      "  File \"/home/giacomo/miniconda3/envs/heydatabase/lib/python3.10/site-packages/pandas/core/api.py\", line 9, in <module>\n",
      "    from pandas.core.dtypes.dtypes import (\n",
      "  File \"/home/giacomo/miniconda3/envs/heydatabase/lib/python3.10/site-packages/pandas/core/dtypes/dtypes.py\", line 24, in <module>\n",
      "    from pandas._libs import (\n",
      "  File \"/home/giacomo/.local/lib/python3.10/site-packages/pyarrow/__init__.py\", line 65, in <module>\n",
      "    import pyarrow.lib as _lib\n"
     ]
    },
    {
     "ename": "AttributeError",
     "evalue": "_ARRAY_API not found",
     "output_type": "error",
     "traceback": [
      "\u001b[0;31m---------------------------------------------------------------------------\u001b[0m",
      "\u001b[0;31mAttributeError\u001b[0m                            Traceback (most recent call last)",
      "\u001b[0;31mAttributeError\u001b[0m: _ARRAY_API not found"
     ]
    }
   ],
   "source": [
    "import sys\n",
    "import os\n",
    "from pathlib import Path\n",
    "project_root = Path.cwd().parent\n",
    "sys.path.append(str(project_root))\n",
    "from typing import Dict, List\n",
    "import logging\n",
    "from src.embedding.openai_embedding import OpenAIEmbedding\n",
    "from src.store.qdrant_vectorstore import QdrantStore\n",
    "from src.config.models.vector_store import TablePayload, QueryPayload\n",
    "from src.schema_metadata.enhancer import MetadataEnhancer\n",
    "from src.llm_handler.openai_handler import OpenAIHandler\n",
    "from src.connettori.postgres import PostgresManager\n",
    "from src.schema_metadata.postgres_metadata_retriever import PostgresMetadataRetriever\n",
    "\n",
    "# Setup logging\n",
    "logging.basicConfig(level=logging.INFO)\n",
    "logger = logging.getLogger(__name__)\n",
    "\n",
    "# Configurazione \n",
    "OPENAI_API_KEY = os.getenv(\"OPENAI_API_KEY\")\n",
    "\n",
    "def initialize_store_with_metadata():\n",
    "    \"\"\"Inizializza lo store con i metadati delle tabelle\"\"\"\n",
    "    \n",
    "    # Connessione al DB\n",
    "    db_manager = PostgresManager(\n",
    "        host=\"localhost\",\n",
    "        port=\"5432\",\n",
    "        database=\"postgres\",\n",
    "        user=\"postgres\",\n",
    "        password=\"admin\"\n",
    "    )\n",
    "    if not db_manager.connect():\n",
    "        raise RuntimeError(\"Failed to connect to database\")\n",
    "    \n",
    "    # Crea metadata retriever\n",
    "    metadata_retriever = PostgresMetadataRetriever(\n",
    "        db_manager.engine, \n",
    "        schema=\"video_games\"  # il tuo schema\n",
    "    )\n",
    "    \n",
    "    # Crea LLM e enhancer\n",
    "    llm = OpenAIHandler(\n",
    "        api_key=OPENAI_API_KEY,\n",
    "        chat_model=\"gpt-4o\"\n",
    "    )\n",
    "    metadata_enhancer = MetadataEnhancer(llm)\n",
    "    \n",
    "    # Estrai e arricchisci i metadati\n",
    "    base_metadata = metadata_retriever.get_all_tables_metadata()\n",
    "    enhanced_metadata = metadata_enhancer.enhance_all_metadata(base_metadata)\n",
    "    \n",
    "    # Crea e inizializza vector store\n",
    "    embedding_model = OpenAIEmbedding(\n",
    "        api_key=OPENAI_API_KEY,\n",
    "        model=\"text-embedding-3-small\"\n",
    "    )\n",
    "    \n",
    "    store = QdrantStore(\n",
    "        path=\"./video_games_store\",\n",
    "        collection_name=\"video_games\",\n",
    "        embedding_model=embedding_model\n",
    "    )\n",
    "    \n",
    "    # Inizializza con i metadati\n",
    "    store.initialize(enhanced_metadata)\n",
    "    \n",
    "    return store"
   ]
  },
  {
   "cell_type": "code",
   "execution_count": 2,
   "metadata": {},
   "outputs": [],
   "source": [
    "def print_table_results(results):\n",
    "    if not results:\n",
    "        print(\"Nessuna tabella trovata\")\n",
    "        return\n",
    "        \n",
    "    print(\"\\nTabelle trovate:\")\n",
    "    for result in results:\n",
    "        print(f\"\\nTabella: {result.table_name}\")\n",
    "        print(f\"Score: {result.relevance_score}\")\n",
    "        print(f\"Descrizione: {result.metadata.description}\")\n",
    "        print(\"-\" * 50)\n",
    "\n",
    "def print_query_results(results):\n",
    "    if not results:\n",
    "        print(\"Nessuna query trovata\")\n",
    "        return\n",
    "        \n",
    "    print(\"\\nQuery simili trovate:\")\n",
    "    for result in results:\n",
    "        print(f\"\\nDomanda: {result.question}\")\n",
    "        print(f\"Score: {result.score}\")\n",
    "        print(f\"SQL: {result.sql_query}\")\n",
    "        print(f\"Spiegazione: {result.explanation}\")\n",
    "        print(f\"Voti positivi: {result.positive_votes}\")\n",
    "        print(\"-\" * 50)"
   ]
  },
  {
   "cell_type": "code",
   "execution_count": 3,
   "metadata": {},
   "outputs": [
    {
     "name": "stdout",
     "output_type": "stream",
     "text": [
      "Inizializzazione store con metadati...\n"
     ]
    },
    {
     "name": "stderr",
     "output_type": "stream",
     "text": [
      "INFO:httpx:HTTP Request: POST https://api.openai.com/v1/chat/completions \"HTTP/1.1 200 OK\"\n",
      "INFO:httpx:HTTP Request: POST https://api.openai.com/v1/chat/completions \"HTTP/1.1 200 OK\"\n",
      "INFO:httpx:HTTP Request: POST https://api.openai.com/v1/chat/completions \"HTTP/1.1 200 OK\"\n",
      "INFO:httpx:HTTP Request: POST https://api.openai.com/v1/chat/completions \"HTTP/1.1 200 OK\"\n",
      "INFO:httpx:HTTP Request: POST https://api.openai.com/v1/chat/completions \"HTTP/1.1 200 OK\"\n",
      "INFO:httpx:HTTP Request: POST https://api.openai.com/v1/chat/completions \"HTTP/1.1 200 OK\"\n",
      "INFO:httpx:HTTP Request: POST https://api.openai.com/v1/chat/completions \"HTTP/1.1 200 OK\"\n",
      "INFO:httpx:HTTP Request: POST https://api.openai.com/v1/chat/completions \"HTTP/1.1 200 OK\"\n"
     ]
    }
   ],
   "source": [
    "print(\"Inizializzazione store con metadati...\")\n",
    "store = initialize_store_with_metadata()"
   ]
  },
  {
   "cell_type": "code",
   "execution_count": 4,
   "metadata": {},
   "outputs": [
    {
     "name": "stdout",
     "output_type": "stream",
     "text": [
      "\n",
      "Test ricerca tabelle...\n",
      "\n",
      "Cerca tabelle per: 'vendite per regione'\n"
     ]
    },
    {
     "name": "stderr",
     "output_type": "stream",
     "text": [
      "INFO:httpx:HTTP Request: POST https://api.openai.com/v1/embeddings \"HTTP/1.1 200 OK\"\n"
     ]
    },
    {
     "name": "stdout",
     "output_type": "stream",
     "text": [
      "\n",
      "Tabelle trovate:\n",
      "\n",
      "Tabella: region_sales\n",
      "Score: 0.3595001913016593\n",
      "Descrizione: The `region_sales` table records sales data for various game platforms across different regions, containing 130,640 entries. Each record includes a `region_id` and a `game_platform_id`, which are linked to the `region` and `game_platform` tables, respectively, along with `num_sales`, which represents the number of sales in millions with two decimal precision. This table is essential for analyzing and comparing game platform sales performance across different geographical areas.\n",
      "--------------------------------------------------\n",
      "\n",
      "Tabella: region\n",
      "Score: 0.3240515896635337\n",
      "Descrizione: The \"region\" table is designed to store information about different geographical or administrative regions. It contains two columns: \"id,\" which is a unique identifier for each region and serves as the primary key, and \"region_name,\" which holds the name of the region with a maximum length of 50 characters. The table currently contains four records, indicating it tracks four distinct regions.\n",
      "--------------------------------------------------\n",
      "\n",
      "Tabella: publisher\n",
      "Score: 0.09486027967821067\n",
      "Descrizione: The \"publisher\" table is designed to store information about publishers, with each record representing a unique publisher. It contains 577 entries and includes two columns: \"id,\" which is an integer serving as the primary key, and \"publisher_name,\" a variable character field up to 100 characters long that holds the name of the publisher. The table does not have any foreign key relationships, indicating it functions independently within the database.\n",
      "--------------------------------------------------\n",
      "\n",
      "Cerca tabelle per: 'dettagli prodotti'\n"
     ]
    },
    {
     "name": "stderr",
     "output_type": "stream",
     "text": [
      "INFO:httpx:HTTP Request: POST https://api.openai.com/v1/embeddings \"HTTP/1.1 200 OK\"\n"
     ]
    },
    {
     "name": "stdout",
     "output_type": "stream",
     "text": [
      "\n",
      "Tabelle trovate:\n",
      "\n",
      "Tabella: publisher\n",
      "Score: 0.18031684062067593\n",
      "Descrizione: The \"publisher\" table is designed to store information about publishers, with each record representing a unique publisher. It contains 577 entries and includes two columns: \"id,\" which is an integer serving as the primary key, and \"publisher_name,\" a variable character field up to 100 characters long that holds the name of the publisher. The table does not have any foreign key relationships, indicating it functions independently within the database.\n",
      "--------------------------------------------------\n",
      "\n",
      "Tabella: region\n",
      "Score: 0.16662991448977937\n",
      "Descrizione: The \"region\" table is designed to store information about different geographical or administrative regions. It contains two columns: \"id,\" which is a unique identifier for each region and serves as the primary key, and \"region_name,\" which holds the name of the region with a maximum length of 50 characters. The table currently contains four records, indicating it tracks four distinct regions.\n",
      "--------------------------------------------------\n",
      "\n",
      "Tabella: region_sales\n",
      "Score: 0.1627898624910328\n",
      "Descrizione: The `region_sales` table records sales data for various game platforms across different regions, containing 130,640 entries. Each record includes a `region_id` and a `game_platform_id`, which are linked to the `region` and `game_platform` tables, respectively, along with `num_sales`, which represents the number of sales in millions with two decimal precision. This table is essential for analyzing and comparing game platform sales performance across different geographical areas.\n",
      "--------------------------------------------------\n",
      "\n",
      "Cerca tabelle per: 'catalogo giochi'\n"
     ]
    },
    {
     "name": "stderr",
     "output_type": "stream",
     "text": [
      "INFO:httpx:HTTP Request: POST https://api.openai.com/v1/embeddings \"HTTP/1.1 200 OK\"\n"
     ]
    },
    {
     "name": "stdout",
     "output_type": "stream",
     "text": [
      "\n",
      "Tabelle trovate:\n",
      "\n",
      "Tabella: game\n",
      "Score: 0.3600812360338388\n",
      "Descrizione: The \"game\" table stores information about various games, with each record uniquely identified by the \"id\" column. It includes the game's name (\"game_name\") and associates each game with a genre through the \"genre_id\" column, which references the \"id\" column in the \"genre\" table. This structure allows for categorization and easy retrieval of games based on their genres.\n",
      "--------------------------------------------------\n",
      "\n",
      "Tabella: game_publisher\n",
      "Score: 0.34901523517051314\n",
      "Descrizione: The `game_publisher` table serves as a junction table that establishes a many-to-many relationship between games and publishers. It contains 11,732 records, with each record linking a game (via `game_id`) to a publisher (via `publisher_id`). The `id` column uniquely identifies each record, while the foreign keys ensure referential integrity with the `game` and `publisher` tables.\n",
      "--------------------------------------------------\n",
      "\n",
      "Tabella: region_sales\n",
      "Score: 0.3060958246818561\n",
      "Descrizione: The `region_sales` table records sales data for various game platforms across different regions, containing 130,640 entries. Each record includes a `region_id` and a `game_platform_id`, which are linked to the `region` and `game_platform` tables, respectively, along with `num_sales`, which represents the number of sales in millions with two decimal precision. This table is essential for analyzing and comparing game platform sales performance across different geographical areas.\n",
      "--------------------------------------------------\n"
     ]
    }
   ],
   "source": [
    "# Test ricerca tabelle\n",
    "print(\"\\nTest ricerca tabelle...\")\n",
    "queries = [\n",
    "    \"vendite per regione\",\n",
    "    \"dettagli prodotti\",\n",
    "    \"catalogo giochi\"\n",
    "]\n",
    "\n",
    "for query in queries:\n",
    "    print(f\"\\nCerca tabelle per: '{query}'\")\n",
    "    results = store.search_similar_tables(query, limit=3)\n",
    "    print_table_results(results)"
   ]
  },
  {
   "cell_type": "code",
   "execution_count": 5,
   "metadata": {},
   "outputs": [
    {
     "name": "stdout",
     "output_type": "stream",
     "text": [
      "\n",
      "Test ricerca query simili...\n",
      "\n",
      "Cerca query simili a: 'mostra le vendite totali'\n"
     ]
    },
    {
     "name": "stderr",
     "output_type": "stream",
     "text": [
      "INFO:httpx:HTTP Request: POST https://api.openai.com/v1/embeddings \"HTTP/1.1 200 OK\"\n"
     ]
    },
    {
     "name": "stdout",
     "output_type": "stream",
     "text": [
      "\n",
      "Query simili trovate:\n",
      "\n",
      "Domanda: quale è il gioco action più venduto?\n",
      "Score: 0.41406251107241776\n",
      "SQL: SELECT g.game_name, SUM(rs.num_sales) AS total_sales FROM video_games.game g JOIN video_games.genre ge ON g.genre_id = ge.id JOIN video_games.game_publisher gp ON g.id = gp.game_id JOIN video_games.game_platform gpl ON gp.id = gpl.game_publisher_id JOIN video_games.region_sales rs ON gpl.id = rs.game_platform_id WHERE ge.genre_name = 'Action' GROUP BY g.game_name ORDER BY total_sales DESC LIMIT 1\n",
      "Spiegazione: This query retrieves the name of the most sold 'Action' genre game by summing up the sales across all regions. It joins the necessary tables to filter games by the 'Action' genre and calculates the total sales for each game. The result is ordered by total sales in descending order, and the top result is returned, which represents the most sold 'Action' game.\n",
      "Voti positivi: 1\n",
      "--------------------------------------------------\n",
      "\n",
      "Cerca query simili a: 'quali sono i prodotti più costosi'\n"
     ]
    },
    {
     "name": "stderr",
     "output_type": "stream",
     "text": [
      "INFO:httpx:HTTP Request: POST https://api.openai.com/v1/embeddings \"HTTP/1.1 200 OK\"\n"
     ]
    },
    {
     "name": "stdout",
     "output_type": "stream",
     "text": [
      "\n",
      "Query simili trovate:\n",
      "\n",
      "Domanda: quale è il gioco action più venduto?\n",
      "Score: 0.3743629825305107\n",
      "SQL: SELECT g.game_name, SUM(rs.num_sales) AS total_sales FROM video_games.game g JOIN video_games.genre ge ON g.genre_id = ge.id JOIN video_games.game_publisher gp ON g.id = gp.game_id JOIN video_games.game_platform gpl ON gp.id = gpl.game_publisher_id JOIN video_games.region_sales rs ON gpl.id = rs.game_platform_id WHERE ge.genre_name = 'Action' GROUP BY g.game_name ORDER BY total_sales DESC LIMIT 1\n",
      "Spiegazione: This query retrieves the name of the most sold 'Action' genre game by summing up the sales across all regions. It joins the necessary tables to filter games by the 'Action' genre and calculates the total sales for each game. The result is ordered by total sales in descending order, and the top result is returned, which represents the most sold 'Action' game.\n",
      "Voti positivi: 1\n",
      "--------------------------------------------------\n",
      "\n",
      "Cerca query simili a: 'trova i giochi più venduti'\n"
     ]
    },
    {
     "name": "stderr",
     "output_type": "stream",
     "text": [
      "INFO:httpx:HTTP Request: POST https://api.openai.com/v1/embeddings \"HTTP/1.1 200 OK\"\n"
     ]
    },
    {
     "name": "stdout",
     "output_type": "stream",
     "text": [
      "\n",
      "Query simili trovate:\n",
      "\n",
      "Domanda: quale è il gioco action più venduto?\n",
      "Score: 0.6721288065764581\n",
      "SQL: SELECT g.game_name, SUM(rs.num_sales) AS total_sales FROM video_games.game g JOIN video_games.genre ge ON g.genre_id = ge.id JOIN video_games.game_publisher gp ON g.id = gp.game_id JOIN video_games.game_platform gpl ON gp.id = gpl.game_publisher_id JOIN video_games.region_sales rs ON gpl.id = rs.game_platform_id WHERE ge.genre_name = 'Action' GROUP BY g.game_name ORDER BY total_sales DESC LIMIT 1\n",
      "Spiegazione: This query retrieves the name of the most sold 'Action' genre game by summing up the sales across all regions. It joins the necessary tables to filter games by the 'Action' genre and calculates the total sales for each game. The result is ordered by total sales in descending order, and the top result is returned, which represents the most sold 'Action' game.\n",
      "Voti positivi: 1\n",
      "--------------------------------------------------\n"
     ]
    }
   ],
   "source": [
    "# Test ricerca query simili\n",
    "print(\"\\nTest ricerca query simili...\")\n",
    "example_queries = [\n",
    "    \"mostra le vendite totali\",\n",
    "    \"quali sono i prodotti più costosi\",\n",
    "    \"trova i giochi più venduti\"\n",
    "]\n",
    "\n",
    "for query in example_queries:\n",
    "    print(f\"\\nCerca query simili a: '{query}'\")\n",
    "    results = store.search_similar_queries(query, limit=2)\n",
    "    print_query_results(results)"
   ]
  },
  {
   "cell_type": "code",
   "execution_count": 8,
   "metadata": {},
   "outputs": [
    {
     "name": "stdout",
     "output_type": "stream",
     "text": [
      "\n",
      "Test feedback positivo...\n"
     ]
    },
    {
     "name": "stderr",
     "output_type": "stream",
     "text": [
      "INFO:httpx:HTTP Request: POST https://api.openai.com/v1/embeddings \"HTTP/1.1 200 OK\"\n"
     ]
    },
    {
     "name": "stdout",
     "output_type": "stream",
     "text": [
      "Feedback salvato: True\n"
     ]
    }
   ],
   "source": [
    "print(\"\\nTest feedback positivo...\")\n",
    "feedback_query = {\n",
    "    \"question\": \"Qual è il gioco più venduto?\",\n",
    "    \"sql_query\": \"SELECT g.game_name, SUM(rs.num_sales) as total_sales FROM games g JOIN region_sales rs ON g.id = rs.game_id GROUP BY g.game_name ORDER BY total_sales DESC LIMIT 1\",\n",
    "    \"explanation\": \"Questa query trova il gioco con il maggior numero di vendite totali sommando le vendite in tutte le regioni\"\n",
    "}\n",
    "\n",
    "success = store.handle_positive_feedback(\n",
    "    question=feedback_query[\"question\"],\n",
    "    sql_query=feedback_query[\"sql_query\"],\n",
    "    explanation=feedback_query[\"explanation\"]\n",
    ")\n",
    "print(f\"Feedback salvato: {success}\")"
   ]
  },
  {
   "cell_type": "code",
   "execution_count": 9,
   "metadata": {},
   "outputs": [
    {
     "name": "stdout",
     "output_type": "stream",
     "text": [
      "\n",
      "Verifica query salvata...\n"
     ]
    },
    {
     "name": "stderr",
     "output_type": "stream",
     "text": [
      "INFO:httpx:HTTP Request: POST https://api.openai.com/v1/embeddings \"HTTP/1.1 200 OK\"\n"
     ]
    },
    {
     "name": "stdout",
     "output_type": "stream",
     "text": [
      "\n",
      "Query simili trovate:\n",
      "\n",
      "Domanda: Qual è il gioco più venduto?\n",
      "Score: 0.8299179812225611\n",
      "SQL: SELECT g.game_name, SUM(rs.num_sales) as total_sales FROM games g JOIN region_sales rs ON g.id = rs.game_id GROUP BY g.game_name ORDER BY total_sales DESC LIMIT 1\n",
      "Spiegazione: Questa query trova il gioco con il maggior numero di vendite totali sommando le vendite in tutte le regioni\n",
      "Voti positivi: 1\n",
      "--------------------------------------------------\n"
     ]
    }
   ],
   "source": [
    "# Verifica che la query sia stata salvata\n",
    "print(\"\\nVerifica query salvata...\")\n",
    "results = store.search_similar_queries(\"gioco più venduto\", limit=1)\n",
    "print_query_results(results)"
   ]
  },
  {
   "cell_type": "code",
   "execution_count": null,
   "metadata": {},
   "outputs": [],
   "source": []
  },
  {
   "cell_type": "code",
   "execution_count": 8,
   "metadata": {},
   "outputs": [
    {
     "name": "stderr",
     "output_type": "stream",
     "text": [
      "ERROR:hey-database:Error adding table metadata: 'TablePayload' object has no attribute 'base_metadata'\n"
     ]
    },
    {
     "data": {
      "text/plain": [
       "False"
      ]
     },
     "execution_count": 8,
     "metadata": {},
     "output_type": "execute_result"
    }
   ],
   "source": [
    "from src.config.models.vector_store import TablePayload, QueryPayload\n",
    "\n",
    "test_table_metadata = TablePayload(\n",
    "    type='table',\n",
    "    table_name='products',\n",
    "    description='Table storing product information including name, price and category',\n",
    "    keywords=['products', 'price', 'category'],\n",
    "    columns=[\n",
    "        {'name': 'id', 'type': 'INTEGER', 'nullable': False},\n",
    "        {'name': 'name', 'type': 'VARCHAR(100)', 'nullable': False},\n",
    "        {'name': 'price', 'type': 'DECIMAL(10,2)', 'nullable': True},\n",
    "        {'name': 'category_id', 'type': 'INTEGER', 'nullable': True}\n",
    "    ],\n",
    "    primary_keys=['id'],\n",
    "    foreign_keys=[{'constrained_columns': ['category_id'], 'referred_table': 'categories', 'referred_columns': ['id']}],\n",
    "    row_count=100,\n",
    "    importance_score=0.8\n",
    ")\n",
    "\n",
    "store.add_table(test_table_metadata)"
   ]
  }
 ],
 "metadata": {
  "kernelspec": {
   "display_name": "heydatabase",
   "language": "python",
   "name": "python3"
  },
  "language_info": {
   "codemirror_mode": {
    "name": "ipython",
    "version": 3
   },
   "file_extension": ".py",
   "mimetype": "text/x-python",
   "name": "python",
   "nbconvert_exporter": "python",
   "pygments_lexer": "ipython3",
   "version": "3.10.15"
  }
 },
 "nbformat": 4,
 "nbformat_minor": 2
}
